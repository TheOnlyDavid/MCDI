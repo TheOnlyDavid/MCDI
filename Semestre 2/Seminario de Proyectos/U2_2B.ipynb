{
 "cells": [
  {
   "cell_type": "markdown",
   "id": "1bc4a978",
   "metadata": {},
   "source": [
    "<div style=\"display: flex;\">\n",
    "    <div style=\"flex: 1;\">\n",
    "        <h1>Seminario de Proyectos</h1>\n",
    "        <h2>Unidad 2 - Formato APA y planteamiento del problema</h2>\n",
    "        <h3>2B. Ejercicio. Fuentes en formato APA</h3>\n",
    "        <p><strong>Nombre:</strong> David Aaron Ramirez Olmeda<br>\n",
    "        <strong>Programa:</strong> Maestría en Ciencia de Datos e Información</p>\n",
    "    </div>\n",
    "    <img src=\"https://pbs.twimg.com/profile_images/1674912653049774081/Lj1u22X8_400x400.jpg\" alt=\"Imagen de Portada\" width=\"170\" height=\"170\">\n",
    "</div>"
   ]
  },
  {
   "cell_type": "markdown",
   "id": "79b94c65",
   "metadata": {},
   "source": [
    "### Ejemplo 1 - Etiquetado nutricional en la parte frontal del envase en América Latina y el Caribe\n",
    "\n",
    "Cita parafraseada narrativa:\n",
    "Según el informe de FAO, OPS y UNICEF (2022), la obesidad y el sobrepeso en América Latina y el Caribe han aumentado significativamente en las últimas décadas.\n",
    "\n",
    "Cita parafraseada parentética:\n",
    "La obesidad y el sobrepeso en América Latina y el Caribe han aumentado significativamente en las últimas décadas (FAO, OPS y UNICEF, 2022).\n",
    "\n",
    "Cita textual corta narrativa:\n",
    "El informe destaca que \"La prevalencia de obesidad y sobrepeso en América Latina y el Caribe es superior al promedio mundial\n",
    "y ha experimentado un aumento en los últimos años.\" (FAO, OPS y UNICEF, 2022, p. 3).\n",
    "\n",
    "Cita textual corta entre paréntesis:\n",
    "\"La prevalencia de obesidad es especialmente preocupante en la región\" (FAO, OPS y UNICEF, 2022).\n",
    "\n",
    "Cita textual en bloque narrativa:\n",
    "Según el informe de FAO, OPS y UNICEF (2022), \"la situación nutricional entre los adultos también es preocupante: un 24,2% padece obesidad a nivel regional\".\n",
    "\n",
    "Cita textual en bloque entre paréntesis:\n",
    "La situación nutricional entre los adultos también es preocupante: un 24,2% padece obesidad a nivel regional (FAO, OPS y UNICEF, 2022).\n",
    "\n",
    "Referencia de la fuente:\n",
    "FAO, OPS, UNICEF. (2022). Etiquetado Nutricional en la Parte Frontal del Envase en América Latina y el Caribe. Nota Orientadora. Santiago de Chile. https://doi.org/10.4060/cc1545es"
   ]
  },
  {
   "cell_type": "markdown",
   "id": "a409fafb",
   "metadata": {},
   "source": [
    "### Ejemplo 2 - Comparación del grado de comprensión entre el etiquetado frontal de advertencia de sellos...\n",
    "\n",
    "Cita parafraseada narrativa:\n",
    "Según el estudio de Del Egido y Fabbri (2020), se investigó el grado de comprensión del etiquetado frontal de advertencia de sellos y el Guideline Daily Amount monocromático en estudiantes de la Universidad Nacional de Córdoba en el año 2019.\n",
    "\n",
    "Cita parafraseada parentética:\n",
    "Se investigó el grado de comprensión del etiquetado frontal de advertencia de sellos y el Guideline Daily Amount monocromático en estudiantes de la Universidad Nacional de Córdoba en el año 2019 (Del Egido y Fabbri, 2020).\n",
    "\n",
    "Cita textual corta narrativa:\n",
    "En el estudio de Del Egido y Fabbri (2020), se menciona que \"los estudiantes de nutrición obtuvieron un mayor grado de comprensión en ambos sistemas\".\n",
    "\n",
    "Cita textual corta entre paréntesis:\n",
    "Los estudiantes de nutrición obtuvieron un mayor grado de comprensión en ambos sistemas (Del Egido y Fabbri, 2020).\n",
    "\n",
    "Cita textual en bloque narrativa:\n",
    "Según el trabajo de investigación realizado por Del Egido, Fabbri y Bergia (2020), se plantea que \"la industria alimentaria ofrece practicidad, rapidez y cantidad de alimentos reemplazando aquellos ingredientes 'pasados de moda' por modernos que permiten producirse en serie y a gran escala\".\n",
    "\n",
    "Cita textual en bloque entre paréntesis:\n",
    "La industria alimentaria ofrece practicidad, rapidez y cantidad de alimentos reemplazando aquellos ingredientes 'pasados de moda' por modernos que permiten producirse en serie y a gran escala (Del Egido, Fabbri y Bergia, 2020).\n",
    "\n",
    "Referencia de la fuente:\n",
    "Del Egido, M. I., Fabbri, R., & Bergia, M. L. (2020). Comparación del grado de comprensión entre el etiquetado frontal de advertencia de sellos y el Guideline Daily Amount monocromático en estudiantes de la Universidad Nacional de Córdoba en el año 2019. Universidad Nacional de Córdoba."
   ]
  },
  {
   "cell_type": "markdown",
   "id": "1595d49a",
   "metadata": {},
   "source": [
    "### Ejemplo 3 - Machine Learning in Nutrition Research\n",
    "\n",
    "Cita parafraseada narrativa:\n",
    "   Según Kirk et al. (2022), los avances tecnológicos y computacionales están permitiendo a los investigadores utilizar enfoques de datos de alta dimensión para abordar preguntas complejas en el campo de la nutrición.\n",
    "   \n",
    "Cita parafraseada parentética:\n",
    "   (Kirk et al., 2022) mencionaron que los avances tecnológicos y computacionales están permitiendo a los investigadores utilizar enfoques de datos de alta dimensión para abordar preguntas complejas en el campo de la nutrición.\n",
    "\n",
    "Cita textual corta narrativa:\n",
    "   Como se señala en el artículo de Kirk et al. (2022), \"ML is suited for high-dimensional data and when the goal is predictive performance\" (p. 2576).\n",
    "\n",
    "Cita textual corta entre paréntesis:\n",
    "   Según Kirk et al. (2022), \"ML is suited for high-dimensional data and when the goal is predictive performance\" (p. 2576).\n",
    "\n",
    "Cita textual en bloque narrativa:\n",
    "   En el artículo de Kirk et al. (2022), se discute la capacidad de Machine Learning (ML) para procesar datos de alta dimensión y su aplicabilidad en la predicción de resultados en el campo de la nutrición. Según los autores, \"ML can be applied exploratively\" (p. 2576).\n",
    "\n",
    "Cita textual en bloque entre paréntesis:\n",
    "   En el artículo de Kirk et al. (2022), se discute la capacidad de Machine Learning (ML) para procesar datos de alta dimensión y su aplicabilidad en la predicción de resultados en el campo de la nutrición. Según los autores, \"ML can be applied exploratively\" (p. 2576).\n",
    "\n",
    "Referencia de la fuente:\n",
    "   Kirk, D., Kok, E., Tufano, M., Tekinerdogan, B., Feskens, E. J. M., & Camps, G. (2022). Machine Learning in Nutrition Research. Adv Nutr, 13(6), 2573–2589. doi: 10.1093/advances/nmac103"
   ]
  },
  {
   "cell_type": "markdown",
   "id": "e2aa51cc",
   "metadata": {},
   "source": []
  }
 ],
 "metadata": {
  "kernelspec": {
   "display_name": "Python 3 (ipykernel)",
   "language": "python",
   "name": "python3"
  },
  "language_info": {
   "codemirror_mode": {
    "name": "ipython",
    "version": 3
   },
   "file_extension": ".py",
   "mimetype": "text/x-python",
   "name": "python",
   "nbconvert_exporter": "python",
   "pygments_lexer": "ipython3",
   "version": "3.9.13"
  }
 },
 "nbformat": 4,
 "nbformat_minor": 5
}
