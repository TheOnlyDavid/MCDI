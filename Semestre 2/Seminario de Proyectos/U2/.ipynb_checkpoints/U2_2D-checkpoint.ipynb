{
 "cells": [
  {
   "cell_type": "markdown",
   "metadata": {},
   "source": [
    "<div style=\"display: flex;\">\n",
    "    <div style=\"flex: 1;\">\n",
    "        <h1>Seminario de Proyectos</h1>\n",
    "        <h2>2D. Ensayo. Planteamiento del problema</h2>\n",
    "        <p><strong>Nombre:</strong> David Aaron Ramirez Olmeda<br>\n",
    "        <strong>Programa:</strong> Maestría en Ciencia de Datos e Información</p>\n",
    "    </div>\n",
    "    <img src=\"https://pbs.twimg.com/profile_images/1674912653049774081/Lj1u22X8_400x400.jpg\" alt=\"Imagen de Portada\" width=\"170\" height=\"170\">\n",
    "</div>"
   ]
  },
  {
   "cell_type": "markdown",
   "metadata": {},
   "source": [
    "**Predicción de Accidentes Viales en Sinaloa, México.**\n",
    "\n",
    "**Introducción:**\n",
    "Según un informe impactante de la Organización Mundial de la Salud (OMS) publicado en 2018, \"las muertes por accidentes de tránsito continúan aumentando, con un promedio anual de 1,35 millones de muertes\". Este mismo informe destaca que \"las lesiones causadas por el tránsito son ahora la principal causa de muerte de niños y jóvenes de 5 a 29 años\" (OMS, 2018).\n",
    "\n",
    "En Sinaloa, el índice de muertes derivadas de accidentes viales es de 8.8 por cada 100 mil habitantes, una de las más altas en el país (Salud Sinaloa, 2022).\n",
    "\n",
    "En este proyecto y planteamiento del problema, se busca abordar de manera efectiva el desafío de los accidentes viales en Sinaloa, México, utilizando la ciencia de datos. Estas cifras no representan solo estadísticas, sino también vidas humanas perdidas, familias destrozadas y comunidades afectadas. Es imperativo que abordemos esta problemática de manera integral y colaborativa para revertir esta tendencia.\n",
    "\n",
    "**Parte 1: El Problema de los Accidentes de Tráfico**\n",
    "\n",
    "Los accidentes de tráfico representan una preocupación crítica en Sinaloa y en todo México. Antes de abordar en detalle los aspectos relacionados con este problema en la región, es fundamental comprender qué constituye un accidente vial. De acuerdo con el Instituto Nacional de Estadística y Geografía (INEGI), un accidente vial se define como \"un percance vial que se presenta súbita e inesperadamente, determinado por condiciones y actos irresponsables potencialmente previsibles, atribuidos a factores humanos, vehículos preponderantemente automotores, condiciones climatológicas, señalización y caminos, los cuales ocasionan pérdidas prematuras de vidas humanas y/o lesiones, así como secuelas físicas o psicológicas, perjuicios materiales y daños a terceros\" (INEGI, s.f.).\n",
    "\n",
    "En este trabajo, nos enfocaremos en una variedad de categorías de accidentes viales, que incluyen choques, colisiones, accidentes con lesiones y lamentablemente, accidentes fatales. Estas categorías abarcan desde incidentes con daños menores hasta aquellos con consecuencias más graves.\n",
    "\n",
    "Es importante destacar que en México, la regulación de la seguridad vial ha experimentado cambios significativos en años recientes. La implementación de la nueva ley de movilidad en 2022 ha traído importantes modificaciones, siendo una de las más destacadas la obligatoriedad de realizar exámenes de manejo para obtener la licencia de conducir. Hasta este cambio, los requisitos para obtener una licencia de conducir se limitaban a pagar los derechos correspondientes y entregar algunos documentos de identificación personal. Esta nueva legislación, establecida en el artículo 51 de la ley de movilidad, establece que \"todas las personas que realicen el trámite para obtener o renovar una licencia o permiso de conducir deberán acreditar el examen de valoración integral que demuestre su aptitud para ello, así como el examen teórico y práctico de conocimientos y habilidades necesarias, antes de la fecha de expedición o renovación de la licencia o permiso\" (Ley de Movilidad, 2022).\n",
    "\n",
    "Con este contexto, exploraremos más a fondo las causas, los factores y las soluciones relacionadas con los accidentes viales en Sinaloa y cómo la ciencia de datos puede contribuir a esta importante tarea.\n",
    "\n",
    "**Parte 2: La Ciencia de Datos como Herramienta para la Predicción**\n",
    "\n",
    "La ciencia de datos ofrece un enfoque poderoso y versátil para abordar la problemática de los accidentes viales en Sinaloa. A través de la recopilación, el análisis y la interpretación de datos, la ciencia de datos puede proporcionar información crítica para comprender, predecir y prevenir accidentes viales. Aunque no entraremos en detalles sobre modelos específicos en este momento, exploraremos los aspectos clave de cómo la ciencia de datos puede contribuir a esta causa.\n",
    "\n",
    "En un estudio reciente realizado por Antonio Comi, Antonio Polimeni y Chiara Balsam, se utilizó un enfoque de minería de datos y agrupamiento (clustering) para analizar datos de accidentes de tráfico en los 15 distritos del Municipio de Roma, recopilados entre 2016 y 2019. El objetivo de este estudio fue identificar las técnicas de minería de datos más adecuadas para analizar accidentes viales, identificar las causas más significativas y los patrones recurrentes de accidentes, así como proponer un modelo para predecir accidentes de tráfico. Los resultados de esta investigación demostraron que este tipo de análisis puede ser una herramienta poderosa para planificar medidas efectivas destinadas a reducir los accidentes y anticipar las áreas de mayor riesgo (Comi, Polimeni, & Balsam, 2021).\n",
    "\n",
    "Además, con respecto a la desagregación de datos en México, es importante destacar que las Bases de Datos Municipales de Accidentes de Tránsito Terrestre Georreferenciados se han actualizado recientemente. En noviembre de 2022, se incluyó la georreferenciación de más municipios para los años 2019, 2020 y 2021, lo que resulta en una mayor cantidad de información disponible para el análisis. Esta información se extiende a un total de 153 municipios para 2021 y abarca las 16 demarcaciones territoriales de la Ciudad de México durante los tres años de referencia. En promedio, se logró georreferenciar el 80% de los eventos registrados por la Estadística de Accidentes de Tránsito Terrestre en Zonas Urbanas (ATUS) en este conjunto de áreas geográficas (INEGI, 2022).\n",
    "\n",
    "Esto subraya la disponibilidad de datos más detallados y desagregados que pueden ser utilizados en futuros análisis relacionados con la seguridad vial en Sinaloa y proporciona una base sólida para la toma de decisiones informadas.\n",
    "\n",
    "**Parte 3: Evaluación de Factores de Riesgo y la Violencia en Sinaloa**\n",
    "La evaluación de factores de riesgo en Sinaloa se convierte en un desafío más complejo debido a la presencia de la violencia en la región. Sinaloa ha sido históricamente afectada por la actividad delictiva, lo que agrega una capa adicional de complejidad a la evaluación de la seguridad vial. La violencia no solo amenaza la seguridad de las personas en las calles, sino que también puede influir en la seguridad en las carreteras y aumentar los riesgos de accidentes. Por lo tanto, es fundamental que cualquier evaluación de factores de riesgo en Sinaloa tenga en cuenta esta realidad única.\n",
    "\n",
    "Además, contamos con una valiosa base de datos sobre la incidencia delictiva en la región proporcionada por el INEGI a través de datos abiertos[^5^]. Esta información adicional nos permite cruzar datos relacionados con la seguridad vial y la incidencia delictiva, lo que puede arrojar luz sobre posibles correlaciones o patrones que podrían no ser evidentes de otra manera.\n",
    "\n",
    "Es importante destacar que, aunque se han realizado estudios similares en México sobre la predicción de accidentes automovilísticos, ninguno ha tomado el enfoque de abordar el problema de la violencia o el índice delictivo en la misma medida que se pretende en este proyecto. Por ejemplo, el trabajo de Erika Elizabeth Contreras Sosa, titulado \"ANÁLISIS Y PREDICCIÓN DE ACCIDENTES AUTOMOVILÍSTICOS MEDIANTE LA APLICACIÓN DE LA RED NEURONAL ARTIFICIAL DE MÁXIMA SENSIBILIDAD Y UN PROTOTIPO DE SISTEMA WEB PARA LA VISUALIZACIÓN DE LA INFORMACIÓN,\" se centró en el uso de técnicas de Inteligencia Artificial, específicamente Redes Neuronales Artificiales, para predecir accidentes automovilísticos en Nuevo León. Si bien su enfoque fue valioso y proporcionó resultados interesantes, no abordó directamente la interacción entre la seguridad vial y la violencia, como se propone en este proyecto.\n",
    "\n",
    "Aquí es donde la ciencia de datos entra en juego. Al combinar el enfoque en la movilidad y la seguridad vial con las capacidades de la ciencia de datos, se puede llevar a cabo una evaluación más completa y efectiva. La ciencia de datos permite analizar datos detallados sobre accidentes, condiciones de tráfico, ubicaciones y otros factores relevantes. Esta información puede ayudar a identificar patrones específicos de accidentes que pueden estar relacionados con la violencia en la región. Además, la minería de datos espaciales puede ayudar a mapear áreas de alto riesgo, teniendo en cuenta tanto la seguridad como la movilidad.\n",
    "\n",
    "Esta combinación de enfoques puede proporcionar una visión más completa de los factores de riesgo en Sinaloa y permitir la formulación de estrategias más efectivas que aborden tanto los aspectos de movilidad como los desafíos relacionados con la violencia. La integración de estos enfoques resalta la necesidad de una aproximación interdisciplinaria para abordar la seguridad vial en una región única como Sinaloa.\n",
    "\n",
    "**Conclusion:**\n",
    "\n",
    "En este ensayo, hemos abordado la creciente preocupación de los accidentes viales en Sinaloa, México, desde un enfoque innovador que emplea la ciencia de datos. Reconocemos que estos accidentes representan más que estadísticas; son vidas humanas perdidas, familias afectadas y comunidades impactadas. La ciencia de datos nos brinda herramientas poderosas, como las redes neuronales, el clustering y la minería de datos espaciales, para predecir y evaluar accidentes de tráfico. Además, nuestro enfoque difiere de estudios anteriores al incorporar la variable delictiva y la incidencia delictiva en el análisis de la seguridad vial. Esto nos permite abordar la problemática de manera integral y contribuir significativamente a la mejora de la seguridad en las carreteras de Sinaloa.\n",
    "\n",
    "Contamos con una sólida base de datos respaldada por el INEGI, que enriquece nuestro análisis. Este proyecto no solo representa la aplicación de conocimientos adquiridos durante la maestría, sino también un paso importante hacia la reducción de accidentes viales y la preservación de vidas en Sinaloa. A través de la ciencia de datos y un enfoque integral, aspiramos a un futuro más seguro en las carreteras de la región, donde la seguridad vial sea una realidad para todos.\n",
    "\n",
    "**Referencias:**\n",
    "- Organización Mundial de la Salud (OMS). (2018). Informe sobre el estado mundial de la seguridad vial 2018. Recuperado de https://www3.paho.org/hq/index.php?option=com_content&view=article&id=14857:new-who-report-highlights-insufficient-progress-to-tackle-lack-of-safety-on-the-world-s-roads&Itemid=0&lang=es#gsc.tab=0\n",
    "- Salud Sinaloa. (2022). Se coordinan diferentes autoridades para prevenir y reducir la fatalidad de accidentes viales. Recuperado de https://saludsinaloa.gob.mx/index.php/2022/12/05/se-coordinan-diferentes-autoridades-para-prevenir-y-reducir-fatalidad-de-accidentes-viales/\n",
    "- (INEGI). (2023). Recuperado de https://www.inegi.org.mx/app/glosario/api/glosario\n",
    "- Presidencia de la República. (2022). DECRETO por el que se expide la Ley General de Movilidad y Seguridad Vial. Diario Oficial de la Federación, 17 de mayo de 2022. Recuperado de https://www.dof.gob.mx/nota_detalle.php?codigo=5652187&fecha=17/05/2022#gsc.tab=0\n",
    "- Comi, A., Polimeni, A., & Balsam, C. (2021). Road Accident Analysis with Data Mining Approach: evidence from Rome. 24th EURO Working Group on Transportation Meeting, EWGT 2021, 8-10 September 2021, Aveiro, Portugal. Published by Elsevier B.V. This is an open access article under the CC BY-NC-ND license. Recuperado de https://www.sciencedirect.com/science/article/pii/S2352146522002265\n",
    "- ESTADÍSTICAS A PROPÓSITO DEL DÍA MUNDIAL EN RECUERDO DE LAS VÍCTIMAS DE ACCIDENTES DE TRÁNSITO (3er DOMINGO DE NOVIEMBRE DE 2022). Recuperado de https://www.inegi.org.mx/contenidos/saladeprensa/aproposito/2022/EAP_VICACCT22.pdf\n",
    "- Contreras Sosa, E. E. (2019). ANÁLISIS Y PREDICCIÓN DE ACCIDENTES AUTOMOVILÍSTICOS MEDIANTE LA APLICACIÓN DE LA RED NEURONAL ARTIFICIAL DE MÁXIMA SENSIBILIDAD Y UN PROTOTIPO DE SISTEMA WEB PARA LA VISUALIZACIÓN DE LA INFORMACIÓN (Tesis de doctorado en Ingeniería con orientación en Tecnologías de la Información). Universidad Autónoma de Nuevo León, Facultad de Ingeniería Mecánica y Eléctrica, Subdirección de Estudios de Posgrado. http://eprints.uanl.mx/20079/1/1080313971.pdf\n",
    "- Instituto Nacional de Estadística y Geografía (INEGI). (2023). Incidencia delictiva. https://www.inegi.org.mx/temas/incidencia/"
   ]
  }
 ],
 "metadata": {
  "kernelspec": {
   "display_name": "Python 3 (ipykernel)",
   "language": "python",
   "name": "python3"
  },
  "language_info": {
   "codemirror_mode": {
    "name": "ipython",
    "version": 3
   },
   "file_extension": ".py",
   "mimetype": "text/x-python",
   "name": "python",
   "nbconvert_exporter": "python",
   "pygments_lexer": "ipython3",
   "version": "3.9.18"
  }
 },
 "nbformat": 4,
 "nbformat_minor": 2
}
