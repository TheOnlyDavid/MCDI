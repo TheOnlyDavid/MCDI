{
 "cells": [
  {
   "cell_type": "markdown",
   "metadata": {},
   "source": [
    "<div style=\"display: flex;\">\n",
    "    <div style=\"flex: 1;\">\n",
    "        <h1>Seminario de Proyectos</h1>\n",
    "        <h2>Unidad 2 - Formato APA y planteamiento del problema</h2>\n",
    "        <h3>2A. Resumen. Fuentes de información para la investigación</h3>\n",
    "        <p><strong>Nombre:</strong> David Aaron Ramirez Olmeda<br>\n",
    "        <strong>Programa:</strong> Maestría en Ciencia de Datos e Información</p>\n",
    "    </div>\n",
    "    <img src=\"https://pbs.twimg.com/profile_images/1674912653049774081/Lj1u22X8_400x400.jpg\" alt=\"Imagen de Portada\" width=\"170\" height=\"170\">\n",
    "</div>"
   ]
  },
  {
   "cell_type": "markdown",
   "metadata": {},
   "source": [
    "**Nombre de la Problemática:**\n",
    "\n",
    "Predicción de Accidentes Viales y Evaluación de Factores de Riesgo para Formulación de Políticas de Seguridad Vial  en Sinaloa, México.\n",
    "\n",
    "### A partir de la problemática planteada identifica 2 ó 3 subtemas que abarquen tu tema de investigación.\n",
    "\n",
    "1. **Predicción de Accidentes Viales en Sinaloa:**\n",
    "   Este subtema se centraría en desarrollar un modelo predictivo sólido para predecir la probabilidad de accidentes de tráfico en ubicaciones específicas dentro de Sinaloa. Aquí, puedes explorar las variables clave que influyen en los accidentes, como el clima, la hora del día, el tipo de carretera y más.\n",
    "\n",
    "2. **Análisis de Factores de Riesgo en Accidentes de Tráfico:**\n",
    "   Este subtema se enfocaría en analizar en profundidad los factores de riesgo que contribuyen a los accidentes de tráfico en Sinaloa. Puedes investigar factores como la velocidad, el estado del pavimento, la presencia de señales de tráfico y otros elementos que desempeñen un papel crucial en la seguridad vial.\n"
   ]
  },
  {
   "cell_type": "markdown",
   "metadata": {},
   "source": [
    "# dejar asi "
   ]
  },
  {
   "cell_type": "markdown",
   "metadata": {},
   "source": [
    "En la web busca artículos científicos, libros y tesis que toquen los subtemas del paso 2, revísalos y ordénalos conforme al nivel de profundidad y vinculación con tu tema principal de investigación"
   ]
  },
  {
   "cell_type": "markdown",
   "metadata": {},
   "source": []
  }
 ],
 "metadata": {
  "kernelspec": {
   "display_name": "Python 3 (ipykernel)",
   "language": "python",
   "name": "python3"
  },
  "language_info": {
   "codemirror_mode": {
    "name": "ipython",
    "version": 3
   },
   "file_extension": ".py",
   "mimetype": "text/x-python",
   "name": "python",
   "nbconvert_exporter": "python",
   "pygments_lexer": "ipython3",
   "version": "3.9.13"
  }
 },
 "nbformat": 4,
 "nbformat_minor": 4
}
