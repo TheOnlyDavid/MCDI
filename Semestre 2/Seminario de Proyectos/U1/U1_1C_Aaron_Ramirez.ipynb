{
 "cells": [
  {
   "cell_type": "markdown",
   "metadata": {},
   "source": [
    "<div style=\"display: flex;\">\n",
    "    <div style=\"flex: 1;\">\n",
    "        <h1>Seminario de Proyectos I 2023</h1>\n",
    "        <h2>U1 - 1C</h2>\n",
    "        <h3>Resumen. Selección y descripción del tema de investigación</h3>\n",
    "        <p><strong>Nombre:</strong> David Aaron Ramirez Olmeda<br>\n",
    "        <strong>Programa:</strong> Maestría en Ciencia de Datos e Información</p>\n",
    "    </div>\n",
    "    <img src=\"https://yt3.googleusercontent.com/49nqjzXUU9YuKsyjnqNUIrcHZ9tDHFRmhgw076dyKwC_81oa6X1jGf_2XpWyyooqOeFNPkOx2w=s176-c-k-c0x00ffffff-no-rj\" alt=\"Imagen de Portada\" width=\"170\" height=\"170\">\n",
    "</div>"
   ]
  },
  {
   "cell_type": "markdown",
   "metadata": {},
   "source": [
    "**Nombre de la Problemática:**\n",
    "Predicción de Accidentes Viales y Evaluación de Factores de Riesgo para Formulación de Políticas de Seguridad Vial  en Sinaloa, México.\n",
    "\n",
    "**Descripción del Problema:**\n",
    "En el estado de Sinaloa, México, los accidentes de tráfico son una preocupación constante que afecta la seguridad de los ciudadanos y tiene un impacto económico significativo. El objetivo de este proyecto es predecir la probabilidad de accidentes de tráfico en ubicaciones específicas dentro de Sinaloa, analizar los factores de riesgo que contribuyen a estos accidentes y evaluar el impacto de las políticas públicas en la reducción de accidentes en esta región.\n",
    "\n",
    "**Abordaje del Problema desde la Ciencia de Datos:**\n",
    "Utilizaremos técnicas de ciencia de datos, como la regresión logística (en principio) para la predicción de accidentes, el análisis de regresión para evaluar factores de riesgo y la minería de datos espaciales para la segmentación de tipos de accidentes en Sinaloa, México. También implementaremos métodos de visualización de datos para comunicar los resultados de manera efectiva.\n",
    "\n",
    "**Herramientas y/o Algoritmos Necesarios:**\n",
    "1. Regresión logística para la predicción de accidentes.\n",
    "2. Análisis de regresión para la evaluación de factores de riesgo.\n",
    "3. Métodos de clustering espacial para la segmentación de tipos de accidentes.\n",
    "4. Árboles de Decisión para modelar relaciones entre variables y predecir accidentes.\n",
    "5. Random Forest, una extensión de los árboles de decisión para predicciones más precisas.\n",
    "\n",
    "**Descripción de los Datos Necesarios:**\n",
    "Necesitaremos datos detallados sobre accidentes de tráfico en el estado de Sinaloa, México, que incluyan información sobre la ubicación, fecha y hora, condiciones climáticas, tipo de carretera, velocidad máxima permitida, involucrados, y si hubo víctimas y sus lesiones.\n",
    "\n",
    "**Fuente(s) de los Datos Necesarios:**\n",
    "Los datos necesarios pueden obtenerse de fuentes gubernamentales, como el departamento de tráfico de Sinaloa o el Instituto Nacional de Estadística y Geografía de México. Se debe garantizar el cumplimiento de las regulaciones de privacidad y uso de datos al obtener esta información.\n",
    "\n",
    "**Limitaciones Generales de la Propuesta:**\n",
    "1. La precisión de las predicciones y evaluaciones dependerá en gran medida de la calidad y la cantidad de los datos disponibles en Sinaloa, México.\n",
    "2. Los factores de riesgo pueden ser influenciados por variables no registradas, lo que podría limitar la capacidad de predicción.\n",
    "3. Las políticas públicas pueden cambiar con el tiempo, lo que requerirá actualizaciones periódicas de la evaluación de su impacto en Sinaloa, México.\n",
    "\n",
    "Este proyecto tiene el potencial de proporcionar información valiosa para mejorar la seguridad vial en Sinaloa, México, y tomar decisiones basadas en datos para reducir accidentes de tráfico en esta región específica."
   ]
  },
  {
   "cell_type": "markdown",
   "metadata": {},
   "source": []
  }
 ],
 "metadata": {
  "kernelspec": {
   "display_name": "Python 3 (ipykernel)",
   "language": "python",
   "name": "python3"
  },
  "language_info": {
   "codemirror_mode": {
    "name": "ipython",
    "version": 3
   },
   "file_extension": ".py",
   "mimetype": "text/x-python",
   "name": "python",
   "nbconvert_exporter": "python",
   "pygments_lexer": "ipython3",
   "version": "3.9.13"
  }
 },
 "nbformat": 4,
 "nbformat_minor": 2
}
