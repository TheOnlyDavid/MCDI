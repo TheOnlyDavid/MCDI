{
 "cells": [
  {
   "cell_type": "markdown",
   "id": "414bac3e",
   "metadata": {},
   "source": [
    "<div style=\"display: flex;\">\n",
    "    <div style=\"flex: 1;\">\n",
    "        <h1>Seminario de Proyectos I 2023</h1>\n",
    "        <h2>U1 - 1B</h2>\n",
    "        <h3>Cuadro Sinóptico: Identificación de fuentes de datos y algoritmos para los temas de investigación</h3>\n",
    "        <p><strong>Nombre:</strong> David Aaron Ramirez Olmeda<br>\n",
    "        <strong>Programa:</strong> Maestría en Ciencia de Datos e Información</p>\n",
    "    </div>\n",
    "    <img src=\"https://scontent.fcul2-1.fna.fbcdn.net/v/t39.30808-6/357432505_662449529254685_507850031498699830_n.jpg?_nc_cat=108&ccb=1-7&_nc_sid=09cbfe&_nc_ohc=-3D382E8vG4AX_1wn03&_nc_ht=scontent.fcul2-1.fna&oh=00_AfCIvhU6paJN_kuhRg8E4QAErpJD_TnjF8jST4q1apitiw&oe=64E8294A\" alt=\"Imagen de Portada\" width=\"170\" height=\"170\">\n",
    "</div>"
   ]
  },
  {
   "cell_type": "markdown",
   "id": "fddf43a1",
   "metadata": {},
   "source": [
    "**Propuesta 1: Aplicación de la Ciencia de Datos en Gastronomía**\n",
    "\n",
    "| Nombre de la problemática | Herramientas/Algoritmos necesarios | Descripción de los datos necesarios | Fuente(s) de los datos necesarios | Inconvenientes posibles en recolección de datos/base de datos |\n",
    "|--------------------------|-----------------------------------|------------------------------------|-----------------------------------|-------------------------------------------------------------|\n",
    "| Análisis de Sellos Nutricionales en Alimentos Empaquetados | Análisis exploratorio, clasificación, clustering | Información de sellos nutricionales, ingredientes, valores nutricionales | Bases de datos de alimentos, etiquetas nutricionales, web scraping de páginas de supermercados | Datos incompletos o inconsistentes, variedad en formatos, complejidad en la extracción |\n",
    "| Detección de Fraudulentos en Recetas | Procesamiento de lenguaje natural, detección de anomalías | Recetas, ingredientes, pasos de preparación | Sitios web de recetas, bases de datos culinarias | Dificultad en obtener datos confiables, falta de datos de recetas fraudulentas |\n",
    "\n",
    "**Propuesta 2: Aplicación de la Ciencia de Datos en Agricultura**\n",
    "\n",
    "| Nombre de la problemática | Herramientas/Algoritmos necesarios | Descripción de los datos necesarios | Fuente(s) de los datos necesarios | Inconvenientes posibles en recolección de datos/base de datos |\n",
    "|--------------------------|-----------------------------------|------------------------------------|-----------------------------------|-------------------------------------------------------------|\n",
    "| Predicción de Rendimientos Agrícolas | Modelos de regresión, análisis temporal | Datos climáticos, tipos de cultivos, prácticas agrícolas | Estaciones meteorológicas, registros de cultivos, datos abiertos de México | Falta de datos históricos, variabilidad en condiciones climáticas, falta de datos y estructuras en general |\n",
    "\n",
    "**Propuesta 3: Impacto de la IA en Ciencia de Datos**\n",
    "\n",
    "| Nombre de la problemática | Herramientas/Algoritmos necesarios | Descripción de los datos necesarios | Fuente(s) de los datos necesarios | Inconvenientes posibles en recolección de datos/base de datos |\n",
    "|--------------------------|-----------------------------------|------------------------------------|-----------------------------------|-------------------------------------------------------------|\n",
    "| Ética en la IA | Análisis ético, modelos interpretativos | Casos de uso de IA, decisiones basadas en IA | Documentos de políticas, estudios de casos | Subjetividad en evaluación ética, falta de consenso en estándares |\n"
   ]
  },
  {
   "cell_type": "code",
   "execution_count": null,
   "id": "74b8379f",
   "metadata": {},
   "outputs": [],
   "source": []
  }
 ],
 "metadata": {
  "kernelspec": {
   "display_name": "Python 3 (ipykernel)",
   "language": "python",
   "name": "python3"
  },
  "language_info": {
   "codemirror_mode": {
    "name": "ipython",
    "version": 3
   },
   "file_extension": ".py",
   "mimetype": "text/x-python",
   "name": "python",
   "nbconvert_exporter": "python",
   "pygments_lexer": "ipython3",
   "version": "3.9.13"
  }
 },
 "nbformat": 4,
 "nbformat_minor": 5
}
