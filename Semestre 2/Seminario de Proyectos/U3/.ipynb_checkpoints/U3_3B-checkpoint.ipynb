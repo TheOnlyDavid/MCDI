{
 "cells": [
  {
   "cell_type": "markdown",
   "metadata": {},
   "source": [
    "<div style=\"display: flex;\">\n",
    "    <div style=\"flex: 1;\">\n",
    "        <h1>Seminario de Proyectos</h1>\n",
    "        <h2>3B. Proyecto integrador. Objetivos específicos de investigación</h2>\n",
    "        <p><strong>Nombre:</strong> David Aaron Ramirez Olmeda<br>\n",
    "        <strong>Programa:</strong> Maestría en Ciencia de Datos e Información</p>\n",
    "    </div>\n",
    "    <img src=\"https://pbs.twimg.com/profile_images/1674912653049774081/Lj1u22X8_400x400.jpg\" alt=\"Imagen de Portada\" width=\"170\" height=\"170\">\n",
    "</div>"
   ]
  },
  {
   "cell_type": "markdown",
   "metadata": {},
   "source": [
    "**Introducción:**\n",
    "\n",
    "En esta tarea, estamos refinando nuestros objetivos específicos de investigación para impulsar el desarrollo de un modelo de ciencia de datos que prediga la tasa de accidentes viales en Sinaloa, México. Nuestro objetivo general es **\"Desarrollar un modelo de ciencia de datos para predecir la tasa de accidentes en Sinaloa, México\"** Para lograr esto, es crucial definir objetivos específicos que guíen nuestra investigación.\n",
    "\n",
    "**Objetivo Específico 1: Limpieza y Preparación de Datos**\n",
    "\n",
    "- Realizar la limpieza de datos exhaustiva, eliminando valores faltantes, duplicados y abordando problemas de multicolinealidad.\n",
    "- Transformar los datos en un formato legible por las máquinas, asegurando que estén listos para el proceso de modelado.\n",
    "\n",
    "**Objetivo Específico 2: Análisis Exploratorio de Datos**\n",
    "\n",
    "- Llevar a cabo un análisis exploratorio de datos para comprender patrones y tendencias en el conjunto de datos.\n",
    "- Visualizar y explorar la información de manera que facilite la identificación de características clave y la formulación de hipótesis.\n",
    "\n",
    "**Objetivo Específico 3: Ingeniería de Características**\n",
    "\n",
    "- Aplicar la ingeniería de características para seleccionar y transformar las variables más relevantes, considerando factores como condiciones del camino, tráfico, y condiciones climáticas.\n",
    "- Preparar los datos de manera que sean óptimos para alimentar los algoritmos de aprendizaje automático, contribuyendo a mejores resultados de modelado.\n",
    "\n",
    "**Conclusion:**\n",
    "\n",
    "Estos tres objetivos específicos están diseñados para avanzar en la creación de nuestro modelo de ciencia de datos. La limpieza y preparación de datos, el análisis exploratorio y la ingeniería de características son elementos cruciales para el desarrollo de nuestro modelo. Nos permitirán abordar el desafío de predecir la tasa de accidentes viales en Sinaloa, considerando factores clave como las condiciones climáticas, el tráfico, la densidad de población y la actividad delictiva de manera efectiva y basada en datos sólidos."
   ]
  },
  {
   "cell_type": "markdown",
   "metadata": {},
   "source": []
  }
 ],
 "metadata": {
  "kernelspec": {
   "display_name": "Python 3 (ipykernel)",
   "language": "python",
   "name": "python3"
  },
  "language_info": {
   "codemirror_mode": {
    "name": "ipython",
    "version": 3
   },
   "file_extension": ".py",
   "mimetype": "text/x-python",
   "name": "python",
   "nbconvert_exporter": "python",
   "pygments_lexer": "ipython3",
   "version": "3.9.18"
  }
 },
 "nbformat": 4,
 "nbformat_minor": 2
}
