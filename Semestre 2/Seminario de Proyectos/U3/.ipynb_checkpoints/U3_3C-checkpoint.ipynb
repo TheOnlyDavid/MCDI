{
 "cells": [
  {
   "cell_type": "markdown",
   "metadata": {},
   "source": [
    "<div style=\"display: flex;\">\n",
    "    <div style=\"flex: 1;\">\n",
    "        <h1>Seminario de Proyectos</h1>\n",
    "        <h2>3C. Proyecto integrador. Pregunta general y específicas de la investigación<h2>\n",
    "        <p><strong>Nombre:</strong> David Aaron Ramirez Olmeda<br>\n",
    "        <strong>Programa:</strong> Maestría en Ciencia de Datos e Información</p>\n",
    "    </div>\n",
    "    <img src=\"https://pbs.twimg.com/profile_images/1674912653049774081/Lj1u22X8_400x400.jpg\" alt=\"Imagen de Portada\" width=\"170\" height=\"170\">\n",
    "</div>"
   ]
  },
  {
   "cell_type": "markdown",
   "metadata": {},
   "source": [
    "**Introducción:**\n",
    "Hemos formulado preguntas generales y específicas de investigación que se alinean estrechamente con nuestro objetivo general: desarrollar un modelo de ciencia de datos para predecir la tasa de accidentes viales en Sinaloa. Estas preguntas servirán como la brújula que guiará nuestra investigación hacia la obtención de resultados significativos.\n",
    "\n",
    "\n",
    "| Pregunta General | Objetivo General | Hipótesis General |\n",
    "| ---------------- | ---------------- | ---------------- |\n",
    "| ¿Cuál es la relación entre las variables y la tasa de accidentes viales en Sinaloa durante el período de 1997 a 2022? | Desarrollar un modelo de ciencia de datos que permita predecir la tasa de accidentes viales en Sinaloa, considerando diversas variables. | Se plantea que la tasa de accidentes viales en Sinaloa puede predecirse mediante un modelo de ciencia de datos que tome en cuenta variables como geográficas, tipos de accidente, vehículos involucrados, causas y actividad delictiva. Se espera que el modelo sea capaz de identificar factores de riesgo y patrones asociados. |\n",
    "| Preguntas Específicas | Objetivos Específicos | Hipótesis Específicas |\n",
    "| ¿Cuáles son las tendencias específicas de accidentes viales en Sinaloa durante el período de estudio y su relación con la actividad delictiva en la región? | Identificar patrones específicos en los accidentes viales en Sinaloa y su relación con la actividad delictiva. | Se hipotetiza que ciertos tipos de accidentes pueden estar más relacionados con la actividad delictiva, especialmente aquellos relacionados con conductas delictivas de tráfico, como la huida después de un delito. |\n",
    "| ¿Cómo influye la cobertura geográfica, como áreas urbanas o suburbanas, en la gravedad de los accidentes viales? | Evaluar el impacto de la cobertura geográfica en la frecuencia y gravedad de los accidentes viales. | Se espera que las áreas urbanas presenten tasas más altas de accidentes viales y una mayor gravedad en comparación con las áreas suburbanas debido a la densidad del tráfico y la actividad delictiva. |\n",
    "| ¿Cuál es la correlación entre el tipo de vehículo involucrado en un accidente, la actividad delictiva en la región y la gravedad de los accidentes? | Investigar la relación entre el tipo de vehículo involucrado en un accidente, la actividad delictiva y la gravedad de los accidentes. | Se hipotetiza que ciertos tipos de vehículos, como motocicletas, podrían estar más involucrados en accidentes relacionados con la actividad delictiva, lo que llevaría a una mayor gravedad de los accidentes. |\n",
    "\n",
    "\n",
    "**Conclusión:**\n",
    "La construcción de preguntas de investigación generales y específicas constituye un paso fundamental en la planificación de nuestro proyecto. Estas preguntas nos permitirán explorar las relaciones entre diversas variables y desarrollar nuestro modelo de ciencia de datos con un enfoque claro en la seguridad vial en Sinaloa. El camino hacia la predicción de tasas de accidentes está tomando forma, y estamos listos para avanzar en nuestra investigación."
   ]
  }
 ],
 "metadata": {
  "kernelspec": {
   "display_name": "Python 3 (ipykernel)",
   "language": "python",
   "name": "python3"
  },
  "language_info": {
   "codemirror_mode": {
    "name": "ipython",
    "version": 3
   },
   "file_extension": ".py",
   "mimetype": "text/x-python",
   "name": "python",
   "nbconvert_exporter": "python",
   "pygments_lexer": "ipython3",
   "version": "3.9.18"
  }
 },
 "nbformat": 4,
 "nbformat_minor": 2
}
