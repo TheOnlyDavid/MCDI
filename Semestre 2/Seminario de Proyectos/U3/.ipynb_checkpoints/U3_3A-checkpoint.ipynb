{
 "cells": [
  {
   "cell_type": "markdown",
   "metadata": {},
   "source": [
    "<div style=\"display: flex;\">\n",
    "    <div style=\"flex: 1;\">\n",
    "        <h1>Seminario de Proyectos</h1>\n",
    "        <h2>3A. Proyecto integrador. Variables y objetivo general de investigación</h2>\n",
    "        <p><strong>Nombre:</strong> David Aaron Ramirez Olmeda<br>\n",
    "        <strong>Programa:</strong> Maestría en Ciencia de Datos e Información</p>\n",
    "    </div>\n",
    "    <img src=\"https://pbs.twimg.com/profile_images/1674912653049774081/Lj1u22X8_400x400.jpg\" alt=\"Imagen de Portada\" width=\"170\" height=\"170\">\n",
    "</div>"
   ]
  },
  {
   "cell_type": "markdown",
   "metadata": {},
   "source": [
    "### Introducción\n",
    "\n",
    "Durante este proceso, hemos delineado cuidadosamente el camino que nos llevará a investigar y comprender la seguridad vial en Sinaloa, México, y su relación con factores clave, incluyendo la actividad delictiva en la región. Hemos formulado preguntas y objetivos generales y específicos que nos guiarán en nuestro proyecto. Nuestra investigación se enfoca en los accidentes viales, específicamente los choques o percances automovilísticos que causan daño a personas o vehículos, y se extiende desde 1997 hasta 2022. Nuestro objetivo es proporcionar una visión integral de la seguridad vial en la región, considerando cómo la delincuencia puede influir en este importante aspecto de la vida cotidiana.\n",
    "\n",
    "### Elementos que debe de enlazar y abarcar el objetivo general de investigación, iniciando con un verbo en infinitivo\n",
    "\n",
    "**Sujeto:** El sujeto de nuestra investigación es \"la seguridad vial en Sinaloa, México, y el incidente de accidentes viales\".\n",
    "\n",
    "**Objeto:** Definimos el objeto de estudio como \"los accidentes viales\". Estos accidentes se refieren a choques o percances automovilísticos que causen daño a otros vehículos o personas.\n",
    "\n",
    "**Variables:** Las variables en nuestro estudio se refieren a los diferentes aspectos que investigaremos en relación con los accidentes viales, como la cobertura geográfica, el tipo de accidente, el área urbana o suburbana, el tipo de vehículo involucrado, la causa del accidente y otros factores relevantes. Estas variables nos ayudarán a comprender mejor las circunstancias y tendencias de los accidentes viales en Sinaloa.\n",
    "\n",
    "**Tiempo:** Hemos definido el período de tiempo de nuestra investigación como desde 1997 hasta 2022. Esto abarca un amplio rango de años y nos permitirá analizar las tendencias a lo largo de más de dos décadas.\n",
    "\n",
    "**Lugar:** El lugar de nuestro estudio es \"Sinaloa, México\". Esta ubicación es relevante ya que nos permite centrarnos en un área geográfica específica y analizar las condiciones de seguridad vial en esa región.\n",
    "\n",
    "Utilizando la estructura \"[Verbo en infinitivo] + [Sujeto] + [Objeto] + [Variables] + [Tiempo] + [Lugar]\", formulamos el objetivo general de investigación de la siguiente manera:\n",
    "\n",
    "**\"Analizar** (verbo en infinitivo) **la seguridad vial en Sinaloa, México** (sujeto) **centrándonos en el incidente de accidentes viales, específicamente choques o percances automovilísticos que causen daño a otros vehículos o personas** (objeto) **. Este estudio abarca el período desde 1997 hasta 2022** (tiempo) **y se enfoca en identificar las tendencias y factores de riesgo asociados. Además, se investigará cómo estas incidencias varían en función de variables como la cobertura geográfica, tipo de accidente, área urbana o suburbana, tipo de vehículo involucrado, causa del accidente y otros factores relevantes** (variables) **. El objetivo es proporcionar una comprensión integral de la seguridad vial en Sinaloa, con el propósito de contribuir a la implementación de medidas preventivas y mejoras en la gestión del tráfico** (lugar).\"\n",
    "\n",
    "### Constructo de investigación\n",
    "\n",
    "|                  |                  |                  |\n",
    "|:----------------:|:----------------:|:----------------:|\n",
    "| **Pregunta General** | **Objetivo General** | **Hipótesis General** |\n",
    "| ¿Cómo se relacionan los accidentes viales en Sinaloa con las variables de cobertura geográfica, tipo de accidente, tipo de vehículo involucrado, causa del accidente y el índice de violencia o actividad delictiva, durante el período de 1997 a 2022? | Evaluar la seguridad vial en Sinaloa, México, centrándonos en el incidente de accidentes viales, específicamente choques o percances automovilísticos que causen daño a otros vehículos o personas. Este estudio abarca el período desde 1997 hasta 2022 y se enfoca en identificar las tendencias y factores de riesgo asociados. Se investigará cómo estas incidencias varían en función de variables como la cobertura geográfica, tipo de accidente, área urbana o suburbana, tipo de vehículo involucrado, causa del accidente y el índice de violencia o actividad delictiva en la región. El objetivo es proporcionar una comprensión integral de la seguridad vial en Sinaloa y cómo factores como la delincuencia pueden influir en ella, con el propósito de contribuir a la implementación de medidas preventivas y mejoras en la gestión del tráfico. | Se plantea que la seguridad vial en Sinaloa se verá afectada por factores como la cobertura geográfica, tipo de accidente, tipo de vehículo involucrado, causa del accidente y el índice de violencia o actividad delictiva en la región. Se espera que las áreas urbanas, ciertos tipos de accidentes, ciertos tipos de vehículos y causas específicas se correlacionen con tasas más altas de accidentes viales. Además, se hipotetiza que un mayor índice de violencia o actividad delictiva estará relacionado con un aumento en la frecuencia de accidentes viales. |\n",
    "| **Preguntas Específicas** | **Objetivos Específicos** | **Hipótesis Específicas** |\n",
    "| ¿Cuáles son las tendencias específicas de accidentes viales en Sinaloa durante el período de estudio y cómo se relacionan con la actividad delictiva en la región? | Identificar las tendencias de accidentes viales específicos en Sinaloa durante el período de estudio y analizar su relación con la actividad delictiva en la región. | Se hipotetiza que ciertos tipos de accidentes viales estarán más relacionados con la actividad delictiva, particularmente aquellos que involucran conductas delictivas relacionadas con el tráfico, como la huida después de un delito. |\n",
    "| ¿En qué medida la cobertura geográfica, como las áreas urbanas o suburbanas, influye en la gravedad de los accidentes viales? | Evaluar el impacto de la cobertura geográfica en la frecuencia y gravedad de los accidentes viales. | Se espera que las áreas urbanas muestren tasas más altas de accidentes viales y una mayor gravedad en comparación con las áreas suburbanas debido a la densidad del tráfico y la mayor actividad delictiva. |\n",
    "| ¿Cómo se correlaciona el tipo de vehículo involucrado en un accidente con la actividad delictiva en la región y la gravedad de los accidentes? | Investigar la relación entre el tipo de vehículo involucrado en un accidente, la actividad delictiva en la región y la gravedad de los accidentes. | Se hipotetiza que ciertos tipos de vehículos, como motocicletas, podrían estar más involucrados en accidentes relacionados con la actividad delictiva, lo que llevaría a una mayor gravedad de los accidentes. |\n",
    "\n",
    "**Variable Dependiente:** La variable dependiente en la investigación es \"Accidentes Viales.\" Esta es la variable que queremos comprender y explicar en función de otras variables.\n",
    "\n",
    "**Variables Independientes:** Las variables independientes en el estudio pueden incluir, pero no limitarse a:\n",
    "\n",
    "1. **Cobertura Geográfica:** Esta variable podría ser una de las independientes, ya que podrías analizar cómo la cobertura geográfica (urbana, suburbana, etc.) impacta en la frecuencia y gravedad de los accidentes viales.\n",
    "\n",
    "2. **Tipo de Accidente:** Otra variable independiente podría ser el \"Tipo de Accidente\" (colisión con vehículo automotor, colisión con peatón, colisión con objeto fijo, etc.). Esto te permitirá analizar cómo diferentes tipos de accidentes se relacionan con factores específicos.\n",
    "\n",
    "3. **Tipo de Vehículo Involucrado:** El tipo de vehículo (automóvil, camioneta, motocicleta, etc.) es otra variable independiente relevante que podría influir en la seguridad vial.\n",
    "\n",
    "4. **Causa del Accidente:** La causa del accidente (conductores, condiciones del camino, condiciones climáticas, etc.) es una variable independiente esencial para comprender las circunstancias que llevan a los accidentes.\n",
    "\n",
    "5. **Índice de Violencia o Actividad Delictiva:** Esta variable podría ser relevante para tu estudio ya que la violencia y la actividad delictiva en una región pueden influir en la seguridad vial. Puedes considerar medidas como tasas de criminalidad, delitos relacionados con el tráfico, etc.\n",
    "### Conclusión\n",
    "\n",
    "A lo largo de este proceso, hemos esbozado una ruta sólida para abordar nuestra investigación sobre seguridad vial en Sinaloa. Hemos identificado variables críticas, formulado preguntas y objetivos, y establecido hipótesis que nos ayudarán a comprender mejor la compleja interacción entre la seguridad vial y la actividad delictiva. Esperamos que este enfoque de investigación arroje luz sobre cómo mejorar la gestión del tráfico y prevenir accidentes en la región, lo que podría tener un impacto positivo en la vida de los residentes de Sinaloa y contribuir a un entorno más seguro en las carreteras."
   ]
  }
 ],
 "metadata": {
  "kernelspec": {
   "display_name": "Python 3 (ipykernel)",
   "language": "python",
   "name": "python3"
  },
  "language_info": {
   "codemirror_mode": {
    "name": "ipython",
    "version": 3
   },
   "file_extension": ".py",
   "mimetype": "text/x-python",
   "name": "python",
   "nbconvert_exporter": "python",
   "pygments_lexer": "ipython3",
   "version": "3.9.18"
  }
 },
 "nbformat": 4,
 "nbformat_minor": 2
}
