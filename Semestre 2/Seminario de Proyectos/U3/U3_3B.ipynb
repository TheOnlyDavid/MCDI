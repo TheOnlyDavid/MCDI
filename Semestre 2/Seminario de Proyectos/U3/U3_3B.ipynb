{
 "cells": [
  {
   "cell_type": "markdown",
   "metadata": {},
   "source": [
    "<div style=\"display: flex;\">\n",
    "    <div style=\"flex: 1;\">\n",
    "        <h1>Seminario de Proyectos</h1>\n",
    "        <h2>3B. Proyecto integrador. Objetivos específicos de investigación</h2>\n",
    "        <p><strong>Nombre:</strong> David Aaron Ramirez Olmeda<br>\n",
    "        <strong>Programa:</strong> Maestría en Ciencia de Datos e Información</p>\n",
    "    </div>\n",
    "    <img src=\"https://pbs.twimg.com/profile_images/1674912653049774081/Lj1u22X8_400x400.jpg\" alt=\"Imagen de Portada\" width=\"170\" height=\"170\">\n",
    "</div>"
   ]
  },
  {
   "cell_type": "markdown",
   "metadata": {},
   "source": [
    "**Introducción:**\n",
    "\n",
    "En esta tarea, estamos refinando nuestros objetivos específicos de investigación para impulsar el desarrollo de un modelo de ciencia de datos que prediga la tasa de accidentes viales en Sinaloa, México. Nuestro objetivo general es **\"Desarrollar un modelo de ciencia de datos para predecir la tasa de accidentes en Sinaloa, México\"** Para lograr esto, es crucial definir objetivos específicos que guíen nuestra investigación.\n",
    "\n",
    "| **Pregunta General** | **Objetivo General** | **Hipótesis General** |\n",
    "| --- | --- | --- |\n",
    "| ¿Cuál es la relación entre las variables de cobertura geográfica, tipo de accidente, tipo de vehículo involucrado, causa del accidente y el índice de violencia o actividad delictiva, durante el período de 1997 a 2022? | Desarrollar un modelo de ciencia de datos que permita predecir la tasa de accidentes viales en Sinaloa, considerando diversas variables. | Se plantea que la tasa de accidentes viales en Sinaloa puede predecirse mediante un modelo de ciencia de datos que tome en cuenta variables como geográficas, tipos de accidente, vehículos involucrados, causas y actividad delictiva. Se espera que el modelo sea capaz de identificar factores de riesgo y patrones asociados. |\n",
    "\n",
    "| **Preguntas Específicas** | **Objetivos Específicos** | **Hipótesis Específicas** |\n",
    "| --- | --- | --- |\n",
    "| ¿Cuál es la relación entre las variables de cobertura geográfica y la tasa de accidentes viales en Sinaloa? | Realizar una limpieza exhaustiva de los datos para eliminar valores faltantes, duplicados y abordar problemas de multicolinealidad. Transformar los datos en un formato legible por las máquinas para prepararlos para el proceso de modelado. | Se hipotetiza que la cobertura geográfica influirá en la tasa de accidentes viales, con áreas urbanas mostrando tasas más altas en comparación con las áreas suburbanas. |\n",
    "| ¿Cómo afecta el tipo de accidente a la tasa de accidentes viales en Sinaloa? | Llevar a cabo un análisis exploratorio de datos para comprender patrones y tendencias en el conjunto de datos. Visualizar y explorar la información para identificar características clave y formular hipótesis. | Se hipotetiza que ciertos tipos de accidente estarán más relacionados con tasas más altas de accidentes viales. |\n",
    "| ¿Existe una correlación entre el tipo de vehículo involucrado en un accidente y la tasa de accidentes viales en Sinaloa? | Aplicar la ingeniería de características para seleccionar y transformar variables relevantes, considerando factores como condiciones del camino, tráfico y condiciones climáticas. Preparar los datos para que sean óptimos para alimentar algoritmos de aprendizaje automático. | Se hipotetiza que ciertos tipos de vehículos estarán más involucrados en accidentes relacionados con la actividad delictiva, lo que llevará a tasas más altas de accidentes viales. |\n",
    "\n",
    "\n",
    "**Conclusion:**\n",
    "\n",
    "Estos tres objetivos específicos están diseñados para avanzar en la creación de nuestro modelo de ciencia de datos. La limpieza y preparación de datos, el análisis exploratorio y la ingeniería de características son elementos cruciales para el desarrollo de nuestro modelo. Nos permitirán abordar el desafío de predecir la tasa de accidentes viales en Sinaloa, considerando factores clave como las condiciones climáticas, el tráfico, la densidad de población y la actividad delictiva de manera efectiva y basada en datos sólidos."
   ]
  }
 ],
 "metadata": {
  "kernelspec": {
   "display_name": "Python 3 (ipykernel)",
   "language": "python",
   "name": "python3"
  },
  "language_info": {
   "codemirror_mode": {
    "name": "ipython",
    "version": 3
   },
   "file_extension": ".py",
   "mimetype": "text/x-python",
   "name": "python",
   "nbconvert_exporter": "python",
   "pygments_lexer": "ipython3",
   "version": "3.9.18"
  }
 },
 "nbformat": 4,
 "nbformat_minor": 2
}
