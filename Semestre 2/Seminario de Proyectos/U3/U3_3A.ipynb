{
 "cells": [
  {
   "cell_type": "markdown",
   "metadata": {},
   "source": [
    "<div style=\"display: flex;\">\n",
    "    <div style=\"flex: 1;\">\n",
    "        <h1>Seminario de Proyectos</h1>\n",
    "        <h2>3A. Proyecto integrador. Variables y objetivo general de investigación</h2>\n",
    "        <p><strong>Nombre:</strong> David Aaron Ramirez Olmeda<br>\n",
    "        <strong>Programa:</strong> Maestría en Ciencia de Datos e Información</p>\n",
    "    </div>\n",
    "    <img src=\"https://pbs.twimg.com/profile_images/1674912653049774081/Lj1u22X8_400x400.jpg\" alt=\"Imagen de Portada\" width=\"170\" height=\"170\">\n",
    "</div>"
   ]
  },
  {
   "cell_type": "markdown",
   "metadata": {},
   "source": [
    "### Introducción\n",
    "\n",
    "Durante este proceso, hemos delineado cuidadosamente el camino que nos llevará a investigar y comprender la seguridad vial en Sinaloa, México, y su relación con factores clave, incluyendo la actividad delictiva en la región. Hemos formulado preguntas y objetivos generales y específicos que nos guiarán en nuestro proyecto. Nuestra investigación se enfoca en los accidentes viales, específicamente los choques o percances automovilísticos que causan daño a personas o vehículos, y se extiende desde 1997 hasta 2022. Nuestro objetivo es proporcionar una visión general de la seguridad vial en la región, considerando cómo la delincuencia puede influir en este importante aspecto de la vida cotidiana.\n",
    "\n",
    "### Elementos que debe de enlazar y abarcar el objetivo general de investigación, iniciando con un verbo en infinitivo\n",
    "\n",
    "**Sujeto:** El sujeto de nuestra investigación es \"la seguridad vial en Sinaloa, México, y el incidente de accidentes viales\".\n",
    "\n",
    "**Objeto:** Definimos el objeto de estudio como \"los accidentes viales\". Estos accidentes se refieren a choques o percances automovilísticos que causen daño a otros vehículos o personas.\n",
    "\n",
    "**Variables:** Las variables en nuestro estudio se refieren a los diferentes aspectos que investigaremos en relación con los accidentes viales, como la cobertura geográfica, el tipo de accidente, el área urbana o suburbana, el tipo de vehículo involucrado, la causa del accidente y otros factores relevantes. Estas variables nos ayudarán a comprender mejor las circunstancias y tendencias de los accidentes viales en Sinaloa.\n",
    "\n",
    "**Tiempo:** Hemos definido el período de tiempo de nuestra investigación como desde 1997 hasta 2022. Esto abarca un amplio rango de años y nos permitirá analizar las tendencias a lo largo de más de dos décadas.\n",
    "\n",
    "**Lugar:** El lugar de nuestro estudio es \"Sinaloa, México\". Esta ubicación es relevante ya que nos permite centrarnos en un área geográfica específica y analizar las condiciones de seguridad vial en esa región.\n",
    "\n",
    "Utilizando la estructura \"[Verbo en infinitivo] + [Sujeto] + [Objeto] + [Variables] + [Tiempo] + [Lugar]\", formulamos el objetivo general de investigación de la siguiente manera:\n",
    "\n",
    "**\"Desarrollar un modelo de ciencia de datos para predecir la tasa de accidentes en Sinaloa.\"**\n",
    "\n",
    "### Constructo de investigación\n",
    "\n",
    "|                  |                  |                  |\n",
    "|:----------------:|:----------------:|:----------------:|\n",
    "| **Pregunta General** | **Objetivo General** | **Hipótesis General** |\n",
    "| ¿Cuál es la relación entre las variables y la tasa de accidentes viales en Sinaloa durante el período de 1997 a 2022? | Desarrollar un modelo de ciencia de datos que permita predecir la tasa de accidentes viales en Sinaloa, considerando diversas variables. | Se plantea que la tasa de accidentes viales en Sinaloa puede predecirse mediante un modelo de ciencia de datos que tome en cuenta variables como geográficas, tipos de accidente, vehículos involucrados, causas y actividad delictiva. Se espera que el modelo sea capaz de identificar factores de riesgo y patrones asociados. |\n",
    "| **Preguntas Específicas** | **Objetivos Específicos** | **Hipótesis Específicas** |\n",
    "| ¿Cuáles son las tendencias específicas de accidentes viales en Sinaloa durante el período de estudio y su relación con la actividad delictiva en la región? | Identificar patrones específicos en los accidentes viales en Sinaloa y su relación con la actividad delictiva. | Se hipotetiza que ciertos tipos de accidentes pueden estar más relacionados con la actividad delictiva, especialmente aquellos relacionados con conductas delictivas de tráfico, como la huida después de un delito. |\n",
    "| ¿Cómo influye la cobertura geográfica, como áreas urbanas o suburbanas, en la gravedad de los accidentes viales? | Evaluar el impacto de la cobertura geográfica en la frecuencia y gravedad de los accidentes viales. | Se espera que las áreas urbanas presenten tasas más altas de accidentes viales y una mayor gravedad en comparación con las áreas suburbanas debido a la densidad del tráfico y la actividad delictiva. |\n",
    "| ¿Cuál es la correlación entre el tipo de vehículo involucrado en un accidente, la actividad delictiva en la región y la gravedad de los accidentes? | Investigar la relación entre el tipo de vehículo involucrado en un accidente, la actividad delictiva y la gravedad de los accidentes. | Se hipotetiza que ciertos tipos de vehículos, como motocicletas, podrían estar más involucrados en accidentes relacionados con la actividad delictiva, lo que llevaría a una mayor gravedad de los accidentes. |\n",
    "\n",
    "\n",
    "### Variables\n",
    "\n",
    "En esta investigación, se consideran tanto variables dependientes como independientes. La variable dependiente principal es la \"Tasa de Accidentes Viales en Sinaloa\". Esta variable representa la métrica central que buscamos predecir a lo largo del estudio.\n",
    "\n",
    "Las variables independientes abarcan diversos aspectos que podrían influir en la tasa de accidentes viales en Sinaloa. Estas variables incluyen factores como las condiciones climáticas, el nivel de tráfico en la región, la densidad de población local y la actividad delictiva en la zona. Estos factores se explorarán en profundidad para entender su relación con la seguridad vial y su impacto en la tasa de accidentes.\n",
    "\n",
    "### Conclusión\n",
    "\n",
    "A través de este proceso, hemos definido claramente nuestro camino hacia la investigación de la seguridad vial en Sinaloa. Hemos ajustado nuestro objetivo general para enfocarnos en la predicción de la tasa de accidentes, considerando factores clave como las condiciones climáticas, el tráfico, la densidad de población y la actividad delictiva"
   ]
  }
 ],
 "metadata": {
  "kernelspec": {
   "display_name": "Python 3 (ipykernel)",
   "language": "python",
   "name": "python3"
  },
  "language_info": {
   "codemirror_mode": {
    "name": "ipython",
    "version": 3
   },
   "file_extension": ".py",
   "mimetype": "text/x-python",
   "name": "python",
   "nbconvert_exporter": "python",
   "pygments_lexer": "ipython3",
   "version": "3.9.18"
  }
 },
 "nbformat": 4,
 "nbformat_minor": 2
}
