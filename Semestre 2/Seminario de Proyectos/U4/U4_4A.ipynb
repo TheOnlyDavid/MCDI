{
 "cells": [
  {
   "cell_type": "markdown",
   "metadata": {},
   "source": [
    "<div style=\"display: flex;\">\n",
    "    <div style=\"flex: 1;\">\n",
    "        <h1>Seminario de Proyectos</h1>\n",
    "        <h2>4A. Resumen. Generalidades de una Base de Datos de Investigación</h2>\n",
    "        <p><strong>Nombre:</strong> David Aaron Ramirez Olmeda<br>\n",
    "        <strong>Programa:</strong> Maestría en Ciencia de Datos e Información</p>\n",
    "    </div>\n",
    "    <img src=\"https://pbs.twimg.com/profile_images/1674912653049774081/Lj1u22X8_400x400.jpg\" alt=\"Imagen de Portada\" width=\"170\" height=\"170\">\n",
    "</div>"
   ]
  },
  {
   "cell_type": "markdown",
   "metadata": {},
   "source": [
    "**Reporte de Recopilación de Datos para el Proyecto de Predicción de Tasa de Accidentes Viales en Sinaloa, México**\n",
    "\n",
    "**Fuentes de Información**:\n",
    "- Los datos se han obtenido de dos fuentes principales:\n",
    "   - La Estadística de Accidentes de Tránsito Terrestre en Zonas Urbanas y Suburbanas del INEGI. [Link](https://www.inegi.org.mx/programas/accidentes/#documentacion)\n",
    "   - Información acerca del número de eventos individuales de victimización delictiva reportados. [Link](https://www.inegi.org.mx/app/descarga/?t=155)\n",
    "\n",
    "**Manera o algoritmo para obtener los datos**:\n",
    "- Los datos se han descargado directamente del portal del INEGI. No se ha aplicado ningún algoritmo específico para la extracción de datos, ya que están disponibles para descarga pública.\n",
    "\n",
    "**Sistema de Gestión de Base de Datos a Utilizar**:\n",
    "- Por el momento, hemos optado por almacenar los datos en archivos CSV. Esto nos proporciona la flexibilidad necesaria para manipular los datos en Python. No consideramos necesario procesar los datos en una base de datos SQL u otro sistema similar en esta etapa del proyecto.\n",
    "\n",
    "**Variables a Incluir en la Base de Datos**:\n",
    "- Para predecir la tasa de accidentes viales, y con el potencial de adaptarlas durante el análisis exploratorio de datos, utilizaremos varias variables. Ejemplificamos algunas de las variables más significativas:\n",
    "\n",
    "**Variables de Accidentes de Tránsito**:\n",
    "   - **COBERTURA**: Área geográfica a la que están referidos los indicadores estadísticos, como \"Zona Urbana\" o \"Zona Suburbana\".\n",
    "   - **ID_ENTIDAD**: Clave de la entidad federativa (ejemplo: \"Sinaloa\").\n",
    "   - **ANIO**: Año en que ocurrió el accidente (ejemplo: \"2022\").\n",
    "   - **MES**: Mes de referencia en que ocurrió el accidente (ejemplo: \"03\" para marzo).\n",
    "   - **ID_HORA**: Hora en que ocurrió el accidente (ejemplo: \"15\" para las 3 PM).\n",
    "   - **ID_DIA**: Día del mes en que ocurrió el accidente (ejemplo: \"07\" para el séptimo día).\n",
    "   - **TIPACCID**: Tipo de accidente de tránsito, como \"Colisión con vehículo automotor\" o \"Volcadura\".\n",
    "\n",
    "**Variables de Incidencia Delictiva**:\n",
    "   - **TIPO_DELITO**: Tipo de delito reportado, como \"Robo\" o \"Homicidio\".\n",
    "   - **ANIO**: Año en que se registró el delito (ejemplo: \"2022\").\n",
    "   - **MES**: Mes en que se cometió el delito (ejemplo: \"03\" para marzo).\n",
    "   - **HORA**: Hora en que se cometió el delito (ejemplo: \"21:30\" para las 9:30 PM).\n",
    "\n",
    "Estas variables son ejemplos iniciales que podrían ser utilizados en nuestro modelo de predicción de la tasa de accidentes viales y la incidencia delictiva en Sinaloa. Durante la etapa de análisis exploratorio de datos, evaluaremos la relevancia de estas variables y podremos adaptarlas, agregar nuevas o eliminar algunas según sea necesario."
   ]
  }
 ],
 "metadata": {
  "language_info": {
   "name": "python"
  }
 },
 "nbformat": 4,
 "nbformat_minor": 2
}
