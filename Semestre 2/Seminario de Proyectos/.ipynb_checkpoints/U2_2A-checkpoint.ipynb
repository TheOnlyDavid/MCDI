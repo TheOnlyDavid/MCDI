{
 "cells": [
  {
   "cell_type": "markdown",
   "metadata": {},
   "source": [
    "Nombre de la problemática: Predicción de Enfermedades a través de Patrones de Alimentación y Sellos Alimenticios\n",
    "\n",
    "### 2. A partir de la problemática planteada identifica 2 ó 3 subtemas que abarquen tu tema de investigación.\n",
    "\n",
    "1. **Análisis/web scraping de datos alimenticios:**\n",
    "   - Recopilación y fuentes de datos sobre patrones de alimentación y sellos alimenticios.\n",
    "\n",
    "2. **Desarrollo de modelos predictivos:**\n",
    "   - Aplicación de algoritmos de machine learning para predecir enfermedades a partir de patrones alimenticios.\n",
    "\n"
   ]
  },
  {
   "cell_type": "markdown",
   "metadata": {},
   "source": [
    "Referencia:\n",
    "\"ETIQUETADO NUTRICIONAL EN LA PARTE FRONTAL DEL ENVASE EN AMÉRICA LATINA Y EL CARIBE\"\n",
    "\n",
    "Páginas y/o capítulos consultados:\n",
    "Todo el documento proporcionado en el enlace.\n",
    "\n",
    "Resumen de la parte útil para la investigación:\n",
    "El documento destaca la creciente prevalencia de obesidad y sobrepeso en América Latina y el Caribe, superando el promedio mundial y causando costos económicos y sociales en los sistemas de salud. Aborda el uso de las normativas de etiquetado nutricional en la parte frontal del envase (ENPFE) como una política para enfrentar este problema. Se mencionan diferentes países de la región que han promulgado legislaciones o normativas de ENPFE, implementando sistemas de advertencias nutricionales en forma de octágonos negros u otras variantes. El documento destaca que el ENPFE de advertencias facilita la identificación de productos con exceso de nutrientes críticos y promueve la reducción de su consumo, sin afectar negativamente la industria alimentaria. También se enfatiza en la importancia de contar con instrumentos normativos bien definidos y evaluar los resultados en todas las etapas de implementación.\n",
    "\n",
    "El informe señala que el sobrepeso y la obesidad han aumentado en la región, tanto en adultos como en niños, y están asociados con riesgos de enfermedades cardiovasculares, diabetes tipo 2 y otros problemas de salud. Los costos asociados a estas condiciones son altos y afectan a varios países de América Latina y el Caribe. La evidencia también sugiere que la obesidad puede aumentar el riesgo de morbilidad por enfermedades como el coronavirus.\n",
    "\n",
    "Se menciona que el etiquetado nutricional frontal es una política clave para promover el consumo de dietas saludables. Se resalta la efectividad del ENPFE de advertencias en la modificación de la decisión de compra hacia alimentos más saludables. Además, se hace hincapié en que un enfoque multifactorial y multisectorial, junto con políticas basadas en evidencia, es esencial para abordar el aumento del sobrepeso y la obesidad.\n",
    "\n",
    "Coincidencia con el tema de investigación:\n",
    "El contenido de este documento es altamente relevante para la investigación sobre predicción de enfermedades a través de patrones de alimentación y sellos alimenticios. El informe examina el uso de etiquetas nutricionales en la parte frontal del envase como una herramienta para abordar el problema de la obesidad y el sobrepeso en la región. Además, discute cómo estas políticas pueden influir en el comportamiento del consumidor y cómo pueden ser implementadas efectivamente para promover elecciones alimenticias más saludables."
   ]
  },
  {
   "cell_type": "markdown",
   "metadata": {},
   "source": [
    "\n",
    "Referencia:\n",
    "Título: Comprensión de los sistemas de etiquetado frontal de advertencia de sellos y GDA monocromático según carrera de pertenencia en estudiantes de la Universidad Nacional de Córdoba\n",
    "Autores: Del Egido M, Fabbri R, Bergia M L\n",
    "\n",
    "Páginas y/o capítulos consultados:\n",
    "Todo el documento proporcionado en el enlace.\n",
    " \n",
    "Coincidencia de esta información con tu tema de investigación: La referencia aborda el tema del etiquetado nutricional frontal en alimentos y cómo los consumidores comprenden y utilizan esta información para hacer elecciones alimentarias saludables. El estudio se enfoca en comparar la comprensión entre dos sistemas de etiquetado frontal y cómo esto varía según la carrera de los estudiantes universitarios. El contenido es relevante para mi investigación sobre el etiquetado nutricional y su impacto en las decisiones de consumo.\n",
    "\n",
    "Resumen de la parte útil para la investigación:\n",
    "El estudio se enfoca en la comprensión de dos sistemas de etiquetado frontal en alimentos, el sistema de advertencia de sellos y el sistema GDA monocromático, por parte de estudiantes universitarios en la Universidad Nacional de Córdoba. El objetivo general es comparar el grado de comprensión de estos sistemas según la carrera de pertenencia de los estudiantes. El marco teórico discute la situación alimentaria en Argentina, incluyendo la transición alimentaria y nutricional, y la influencia de la industria alimentaria en la dieta. Se menciona la falta de regulación del etiquetado frontal en Argentina y la propuesta de un sistema de etiquetado frontal de advertencia.\n",
    "\n",
    "El estudio utiliza un enfoque descriptivo y observacional, recopilando datos mediante encuestas a estudiantes de la Facultad de Ciencias Médicas de la UNC. Se analiza estadísticamente la comprensión de ambos sistemas de etiquetado frontal y se evalúa la relación con la carrera de los estudiantes.\n",
    "\n",
    "Los resultados indican que un 75% de los encuestados comprendió de manera \"mediana\" el sistema de sellos, mientras que un 36% lo hizo para el sistema GDA monocromático. Los estudiantes de nutrición mostraron un mayor grado de comprensión en ambos sistemas. La conclusión destaca la necesidad de una implementación regulada por el estado de un sistema de etiquetado frontal que brinde información clara para tomar decisiones saludables.\n",
    "\n",
    "Coincidencia con el tema de investigación:\n",
    "La referencia aborda el tema del etiquetado nutricional frontal en alimentos y cómo los consumidores comprenden y utilizan esta información para hacer elecciones alimentarias saludables. El estudio se enfoca en comparar la comprensión entre dos sistemas de etiquetado frontal y cómo esto varía según la carrera de los estudiantes universitarios. El contenido es relevante para mi investigación sobre el etiquetado nutricional y su impacto en las decisiones de consumo.\n",
    "\n",
    "El contenido de la referencia es altamente relevante para mi investigación, ya que proporciona información sobre cómo los consumidores comprenden los sistemas de etiquetado frontal y cómo la carrera de los estudiantes puede influir en esa comprensión. También discute la necesidad de regulaciones en este ámbito para mejorar la información disponible para los consumidores y promover elecciones alimentarias más saludables."
   ]
  },
  {
   "cell_type": "markdown",
   "metadata": {},
   "source": [
    "Nombre de la referencia: Hacia una Visión Integral del Etiquetado de Alimentos en México: Apoyando la Literacidad Nutrimental.\n",
    "\n",
    "Página(s) y/o capítulo(s) consultados: Introducción, Capítulo 1.\n",
    "\n",
    "Resumen de la parte que es útil para la investigación: \n",
    "Este estudio se centra en la problemática de las enfermedades crónicas no transmisibles (ECNT) en México, como la diabetes, la hipertensión y la obesidad, y su relación con los hábitos alimenticios y el consumo de alimentos preenvasados. Se enfoca en el Sistema de Etiquetado Frontal de Alimentos y Bebidas (SEFAB) como una política para promover elecciones de alimentación más saludables. A pesar de que esta política responde a una medida emergente para reducir las cifras de poblaciones con ECNT, la implementación del etiquetado de advertencia enfrentó críticas y argumentos en contra de las Guías Diarias de Alimentación (GDA) debido a la dificultad de comprensión. El estudio se concentra en el lenguaje del etiquetado nutricional y busca acercar a los consumidores a la información para mejorar la interpretación y el uso de la información nutricional en los alimentos preenvasados. Se examina cómo la información científica es comunicada a través de los documentos de etiquetado y cómo se relaciona con la alfabetización y literacidad científica y nutricional. Se realiza una encuesta dirigida a mujeres de 30 a 45 años en la Ciudad de México para comprender sus asociaciones y conocimientos nutricionales relacionados con la comprensión del etiquetado.\n",
    "\n",
    "Coincidencia con el tema de investigación:\n",
    " El tema de investigación es sobre el grado de comprensión del etiquetado frontal de advertencia y el sistema GDA en el público consumidor. Esta referencia es relevante ya que aborda los desafíos y dificultades en la comprensión del etiquetado nutricional, lo cual es un aspecto clave de tu investigación. También discute la relación entre el etiquetado, la elección de alimentos y la salud pública, lo cual es directamente relevante para tu tema de investigación en epidemiología y salud pública."
   ]
  },
  {
   "cell_type": "markdown",
   "metadata": {},
   "source": [
    "Nombre de la referencia: \n",
    "Machine Learning in Nutrition Research\n",
    "\n",
    "Página(s) y/o capítulo(s) consultados: Todo el documento\n",
    "\n",
    "Resumen:\n",
    "El artículo trata sobre el uso de aprendizaje automático (machine learning, ML) en la investigación en nutrición. Destaca que los datos generados en el campo de la nutrición están volviéndose cada vez más complejos y de alta dimensionalidad, lo que exige nuevos métodos de análisis de datos. Se argumenta que las características del ML lo hacen adecuado para este tipo de análisis y se presenta como una herramienta alternativa para tratar con datos de esta naturaleza. Se resalta que el ML ya se ha aplicado en áreas importantes de la nutrición, como la obesidad, la salud metabólica y la desnutrición.\n",
    "\n",
    "El artículo busca llenar el vacío de conocimiento existente en la comunidad de investigadores de nutrición sobre el ML y su aplicación, ya que muchos expertos en nutrición no comprenden el ML, lo que limita su aplicación y su potencial para resolver preguntas abiertas en la investigación actual. Para abordar esta falta de conocimiento, el artículo proporciona una guía para investigadores de nutrición, que explora el ML y cómo se diferencia de las soluciones tradicionales. Además, se brindan ejemplos clave de aplicaciones de ML en la literatura de nutrición.\n",
    "\n",
    "El artículo presenta dos estudios de caso en los que el ML es particularmente aplicable en la nutrición: la nutrición de precisión y la metabolómica. También se proporciona un marco para guiar a los investigadores interesados en la integración del ML en su trabajo. El objetivo es actuar como un recurso al que los investigadores puedan referirse para facilitar la integración del ML en la investigación en nutrición y apoyar así la investigación moderna en el campo.\n",
    "\n",
    "Coincidencia con el Tema de Investigación:\n",
    "La información proporcionada en este artículo coincide directamente con el tema de investigación relacionado con el uso del aprendizaje automático en la investigación en nutrición. El artículo discute la aplicabilidad del ML en problemas complejos y multifactoriales en nutrición, como la obesidad, la salud metabólica y la desnutrición. Además, aborda la falta de comprensión de los expertos en nutrición sobre el ML y busca proporcionar una guía para los investigadores interesados en utilizar el ML en su trabajo. Dado que el artículo se centra en el uso de ML en el campo de la nutrición, su contenido es altamente relevante para el tema de investigación en cuestión."
   ]
  },
  {
   "cell_type": "markdown",
   "metadata": {},
   "source": [
    "Nombre de la referencia: \n",
    "Applicability of machine learning techniques in food intake assessment: A systematic review\n",
    "\n",
    "Página(s) y/o capítulo(s) consultados: Todo el documento\n",
    "\n",
    "Resumen:\n",
    "El artículo es una revisión sistemática que explora la aplicabilidad de técnicas de aprendizaje automático (machine learning) en la evaluación del consumo de alimentos. Se destaca la importancia de evaluar la ingesta alimentaria para comprender la relación entre la dieta y las condiciones de salud de individuos y poblaciones. Los autores mencionan que grandes volúmenes de datos se generan diariamente en el sector de la salud y que las herramientas de Inteligencia Artificial (IA), como los algoritmos de Aprendizaje Automático (ML), están siendo utilizadas cada vez más para extraer información útil, identificar patrones y predecir enfermedades.\n",
    "\n",
    "Los objetivos de la revisión son identificar estudios que han utilizado algoritmos de ML para evaluar el consumo de alimentos en diversas poblaciones y analizar cómo se han aplicado estas técnicas. Se realizaron búsquedas en bases de datos electrónicas y se seleccionaron 36 estudios que cumplían los criterios de inclusión.\n",
    "\n",
    "Se observó un creciente interés en el uso de algoritmos de ML en el campo de la nutrición en los últimos años. Los algoritmos de aprendizaje supervisado fueron los más utilizados en estos estudios. Además, se destacó que el cuestionario de frecuencia alimentaria fue el método de evaluación nutricional más utilizado. Se observó una tendencia hacia el uso de programas de análisis de datos como R y WEKA.\n",
    "\n",
    "El artículo concluye que el uso de ML en nutrición es reciente y desafiante. Se alienta a realizar más estudios en esta área para desarrollar programas de reeducación alimentaria y políticas públicas. También se destaca la importancia de la interpretación precisa de la información derivada de los algoritmos de ML en el entorno clínico y de investigación.\n",
    "\n",
    "Coincidencia con el tema de investigación:\n",
    "La información contenida en este artículo se relaciona directamente con el tema de investigación, que es la aplicación de técnicas de aprendizaje automático en la evaluación del consumo de alimentos. El artículo revisa estudios que utilizan algoritmos de ML para este propósito, identificando tendencias, métodos y resultados. Esto proporciona una base sólida para comprender cómo el aprendizaje automático puede influir en la evaluación de la ingesta alimentaria y, por lo tanto, se ajusta a la investigación en curso sobre el uso de tecnologías avanzadas para mejorar la precisión y la eficiencia en la evaluación dietética."
   ]
  },
  {
   "cell_type": "markdown",
   "metadata": {},
   "source": [
    "Nombre de la referencia: \n",
    "Machine learning prediction of the degree of food processing\n",
    "\n",
    "Páginas y/o capítulos consultados: Todo el artículo.\n",
    "\n",
    "Resumen útil para la investigación:\n",
    "El artículo aborda la dificultad de definir qué constituye alimentos procesados y ultra-procesados, lo que dificulta la toma de decisiones saludables por parte de los consumidores y ralentiza la investigación sobre las implicaciones para la salud de los alimentos procesados. Los autores presentan un algoritmo de aprendizaje automático (machine learning) llamado \"FoodProX\" que puede predecir con precisión el grado de procesamiento de cualquier alimento en función de su perfil nutricional. El algoritmo clasifica los alimentos en cuatro categorías según el grado de procesamiento: no procesados, ingredientes culinarios procesados, alimentos procesados y productos ultra-procesados. Utilizan datos de alimentos consumidos en Estados Unidos y encuentran que más del 73% del suministro de alimentos en EE. UU. es ultra-procesado. Además, demuestran que una mayor dependencia de una dieta rica en alimentos ultra-procesados se correlaciona con un mayor riesgo de síndrome metabólico, diabetes, angina, presión arterial elevada y envejecimiento biológico, además de reducir la biodisponibilidad de vitaminas. Sugieren que proporcionar información sobre el grado de procesamiento de los alimentos podría mejorar la salud de la población al permitir elecciones informadas.\n",
    "\n",
    "Coincidencia con el tema de investigación:\n",
    "Este artículo es relevante para la investigación en curso ya que explora cómo el uso de un algoritmo de aprendizaje automático puede predecir y clasificar con precisión el grado de procesamiento de los alimentos. Además, se relaciona con la preocupación sobre los efectos para la salud de los alimentos ultra-procesados, que es un tema clave en la investigación sobre nutrición y salud. El enfoque en la calidad de la dieta y su relación con las enfermedades no transmisibles también es relevante para la investigación sobre patrones alimentarios saludables y su impacto en la salud pública."
   ]
  },
  {
   "cell_type": "markdown",
   "metadata": {},
   "source": [
    "### Referencia en orden de aparicion y relevancia\n",
    "\n",
    "https://iris.paho.org/bitstream/handle/10665.2/56520/9789251367537_spa.pdf?sequence=1&isAllowed=y\n",
    "https://rdu.unc.edu.ar/bitstream/handle/11086/18464/tesis%20completa%201440.pdf?sequence=1&isAllowed=y\n",
    "https://issuu.com/elpoderdelconsumidor/docs/alimentarnos_con_dudas_disfrazadas_de_ciencia\n",
    "https://issuu.com/norismorales/docs/icr_etiquetado_nutrimental_alimentos_pagina\n",
    "https://www.gob.mx/cms/uploads/attachment/file/666912/Gu_a_-_Sujetos_regulados_10.0.pdf\n",
    "\n",
    "https://www.ncbi.nlm.nih.gov/pmc/articles/PMC9776646/\n",
    "https://posnutricao.ufv.br/wp-content/uploads/2021/07/Applicability-of-machine-learning-techniques-in-food-intake-assessment-A-systematic-review.pdf\n",
    "https://www.nature.com/articles/s41467-023-37457-1\n",
    "https://bmcmedinformdecismak.biomedcentral.com/articles/10.1186/s12911-019-1004-8"
   ]
  },
  {
   "cell_type": "markdown",
   "metadata": {},
   "source": [
    " Elabora un resumen en espa;ol de cada la referencia donde incluyas\n",
    "\n",
    "Nombre de la referencia\n",
    "Página(s) y/o capítulo(s) consultados\n",
    "Resumen de la parte que es útil para la investigación (los del inciso b)\n",
    "Coincidencia de esta información con tu tema de investigación "
   ]
  }
 ],
 "metadata": {
  "kernelspec": {
   "display_name": "Python 3",
   "language": "python",
   "name": "python3"
  },
  "language_info": {
   "codemirror_mode": {
    "name": "ipython",
    "version": 3
   },
   "file_extension": ".py",
   "mimetype": "text/x-python",
   "name": "python",
   "nbconvert_exporter": "python",
   "pygments_lexer": "ipython3",
   "version": "3.9.7"
  },
  "orig_nbformat": 4
 },
 "nbformat": 4,
 "nbformat_minor": 2
}
