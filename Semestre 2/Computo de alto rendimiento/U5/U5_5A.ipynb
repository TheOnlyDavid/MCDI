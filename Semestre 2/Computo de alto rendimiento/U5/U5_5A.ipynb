{
 "cells": [
  {
   "cell_type": "code",
   "execution_count": 1,
   "metadata": {},
   "outputs": [],
   "source": [
    "from mpi4py import MPI"
   ]
  },
  {
   "cell_type": "code",
   "execution_count": 2,
   "metadata": {},
   "outputs": [
    {
     "data": {
      "text/plain": [
       "<Cluster(cluster_id='1696462845-n4f1', profile='default')>"
      ]
     },
     "execution_count": 2,
     "metadata": {},
     "output_type": "execute_result"
    }
   ],
   "source": [
    "import ipyparallel as ipp\n",
    "\n",
    "cluster = ipp.Cluster()\n",
    "cluster"
   ]
  },
  {
   "cell_type": "code",
   "execution_count": 3,
   "metadata": {},
   "outputs": [],
   "source": [
    "def show_clusters():\n",
    "    clusters = ipp.ClusterManager().load_clusters() \n",
    "    print(\"{:15} {:^10} {}\".format(\"cluster_id\", \"state\", \"cluster_file\")) \n",
    "    for c in clusters:\n",
    "        cd = clusters[c].to_dict()\n",
    "        cluster_id = cd['cluster']['cluster_id']\n",
    "        controller_state = cd['controller']['state']['state']\n",
    "        cluster_file = getattr(clusters[c], '_trait_values')['cluster_file']\n",
    "        print(\"{:15} {:^10} {}\".format(cluster_id, controller_state, cluster_file))"
   ]
  },
  {
   "cell_type": "code",
   "execution_count": 4,
   "metadata": {},
   "outputs": [
    {
     "name": "stdout",
     "output_type": "stream",
     "text": [
      "cluster_id        state    cluster_file\n",
      "                 running   /Users/aaron/.ipython/profile_mpi/security/cluster-.json\n",
      "1696460333-1igf  running   /Users/aaron/.ipython/profile_default/security/cluster-1696460333-1igf.json\n",
      "1696461110-d0es  running   /Users/aaron/.ipython/profile_default/security/cluster-1696461110-d0es.json\n"
     ]
    }
   ],
   "source": [
    "show_clusters()"
   ]
  },
  {
   "cell_type": "code",
   "execution_count": 5,
   "metadata": {},
   "outputs": [],
   "source": [
    "from mpi4py import MPI\n",
    "import math\n",
    "\n",
    "# Inicializa MPI\n",
    "comm = MPI.COMM_WORLD\n",
    "rank = comm.Get_rank()\n",
    "size = comm.Get_size()\n"
   ]
  },
  {
   "cell_type": "code",
   "execution_count": 11,
   "metadata": {},
   "outputs": [
    {
     "name": "stdout",
     "output_type": "stream",
     "text": [
      "1\n"
     ]
    }
   ],
   "source": [
    "from mpi4py import MPI\n",
    "\n",
    "comm = MPI.COMM_WORLD\n",
    "rank = comm.Get_rank()\n",
    "size = comm.Get_size()\n",
    "\n",
    "slice_size = 1000000\n",
    "total_slices = 50\n",
    "\n",
    "# This is the master node.\n",
    "if rank == 0:\n",
    "    pi = 0\n",
    "    slice = 0\n",
    "    process = 1\n",
    "\n",
    "    print (size)\n",
    "\n",
    "    # Send the first batch of processes to the nodes.\n",
    "    while process < size and slice < total_slices:\n",
    "        comm.send(slice, dest=process, tag=1)\n",
    "        print (\"Sending slice\",slice,\"to process\",process)\n",
    "        slice += 1\n",
    "        process += 1\n",
    "\n",
    "    # Wait for the data to come back\n",
    "    received_processes = 0\n",
    "    while received_processes < total_slices:\n",
    "        pi += comm.recv(source=MPI.ANY_SOURCE, tag=1)\n",
    "        process = comm.recv(source=MPI.ANY_SOURCE, tag=2)\n",
    "        print (\"Recieved data from process\", process)\n",
    "        received_processes += 1\n",
    "\n",
    "        if slice < total_slices:\n",
    "            comm.send(slice, dest=process, tag=1)\n",
    "            print (\"Sending slice\",slice,\"to process\",process)\n",
    "            slice += 1\n",
    "\n",
    "    # Send the shutdown signal\n",
    "    for process in range(1,size):\n",
    "        comm.send(-1, dest=process, tag=1)\n",
    "\n",
    "    print (\"Pi is \", 4.0 * pi)\n",
    "\n",
    "# These are the slave nodes, where rank > 0. They do the real work\n",
    "else:\n",
    "    while True:\n",
    "        start = comm.recv(source=0, tag=1)\n",
    "        if start == -1: break\n",
    "\n",
    "        i = 0\n",
    "        slice_value = 0\n",
    "        while i < slice_size:\n",
    "            if i%2 == 0:\n",
    "                slice_value += 1.0 / (2*(start*slice_size+i)+1)\n",
    "            else:\n",
    "                slice_value -= 1.0 / (2*(start*slice_size+i)+1)\n",
    "            i += 1\n",
    "\n",
    "        comm.send(slice_value, dest=0, tag=1)\n",
    "        comm.send(rank, dest=0, tag=2)"
   ]
  },
  {
   "cell_type": "code",
   "execution_count": null,
   "metadata": {},
   "outputs": [],
   "source": []
  }
 ],
 "metadata": {
  "kernelspec": {
   "display_name": "Python 3 (ipykernel)",
   "language": "python",
   "name": "python3"
  },
  "language_info": {
   "codemirror_mode": {
    "name": "ipython",
    "version": 3
   },
   "file_extension": ".py",
   "mimetype": "text/x-python",
   "name": "python",
   "nbconvert_exporter": "python",
   "pygments_lexer": "ipython3",
   "version": "3.10.12"
  }
 },
 "nbformat": 4,
 "nbformat_minor": 2
}
