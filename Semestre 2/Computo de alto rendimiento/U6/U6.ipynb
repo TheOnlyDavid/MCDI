{
 "cells": [
  {
   "cell_type": "markdown",
   "metadata": {},
   "source": [
    "<div style=\"display: flex;\">\n",
    "    <div style=\"flex: 1;\">\n",
    "        <h1>Cómputo de Alto Rendimiento </h1>\n",
    "        <h2>Actividad 6: Investigación sobre sección crítica</h2>\n",
    "        <p><strong>Nombre:</strong> David Aaron Ramirez Olmeda<br>\n",
    "        <strong>Programa:</strong> Maestría en Ciencia de Datos e Información</p>\n",
    "    </div>\n",
    "    <img src=\"https://pbs.twimg.com/profile_images/1674912653049774081/Lj1u22X8_400x400.jpg\" alt=\"Imagen de Portada\" width=\"170\" height=\"170\">\n",
    "</div>"
   ]
  },
  {
   "cell_type": "markdown",
   "metadata": {},
   "source": [
    "**Introducción:**\n",
    "La sección crítica es un concepto fundamental en sistemas distribuidos y programación concurrente. En este informe, exploraremos sus fundamentos teóricos, los problemas asociados, las técnicas y algoritmos utilizados para gestionarla, ejemplos de implementaciones prácticas y cómo se aplica en diferentes contextos.\n",
    "\n",
    "**Concepto de Sección Crítica:**\n",
    "La sección crítica es una región de un programa donde varios procesos o hilos pueden acceder a un recurso compartido de manera controlada. Su propósito es garantizar la integridad y consistencia de los datos al evitar conflictos cuando múltiples procesos intentan acceder o modificar el mismo recurso. Como se ha mencionado, la gestión de la sección crítica es esencial para evitar problemas como condiciones de carrera y garantizar resultados correctos en programas concurrentes.\n",
    "\n",
    "**Problemas Asociados:**\n",
    "- **Condiciones de Carrera:** Las condiciones de carrera son situaciones en las que varios procesos intentan acceder o modificar un recurso compartido de manera concurrente y no coordinada. Esto puede conducir a resultados inesperados o incorrectos, ya que el orden de ejecución de los procesos no está controlado. Para evitar condiciones de carrera, se requiere la exclusión mutua, lo que significa que solo un proceso debe acceder a la sección crítica a la vez. Las condiciones de carrera son uno de los problemas más críticos en la programación concurrente, y su resolución es esencial para garantizar la consistencia de los datos.\n",
    "\n",
    "- **Exclusión Mutua:** Garantizar que solo un proceso pueda acceder a la sección crítica en un momento dado es un requisito fundamental para prevenir condiciones de carrera. Sin embargo, lograr la exclusión mutua puede ser un desafío. Los algoritmos y técnicas, como semáforos y mutex, se utilizan para implementar la exclusión mutua de manera efectiva. La elección de la estrategia de exclusión mutua adecuada depende del contexto y de la complejidad de las operaciones en la sección crítica.\n",
    "\n",
    "- **Sincronización:** La sincronización es esencial para coordinar la ejecución de procesos y evitar conflictos en la gestión de secciones críticas. La falta de sincronización puede dar lugar a situaciones en las que un proceso accede a datos que están en un estado inconsistente debido a la actividad de otro proceso. La sincronización se logra mediante la implementación de mecanismos de bloqueo, como semáforos y mutex, que permiten que los procesos esperen su turno para acceder a la sección crítica. La sincronización efectiva es crucial para garantizar la integridad de los datos compartidos.\n",
    "\n",
    "- **Deadlock (Bloqueo Mutuo):** El bloqueo mutuo es una situación en la que dos o más procesos se bloquean entre sí, impidiendo que avancen. Puede ocurrir cuando un proceso adquiere un recurso y luego espera otro recurso que está siendo retenido por otro proceso, y viceversa. Para evitar bloqueos mutuos, se deben implementar estrategias como la adquisición de recursos en un orden específico o la liberación oportuna de recursos. La gestión de bloqueos mutuos es un desafío crítico en sistemas concurrentes.\n",
    "\n",
    "- **Inanición (Starvation):** La inanición ocurre cuando un proceso queda atrapado en un estado de espera indefinida y no puede acceder a la sección crítica, incluso si otros procesos han liberado el recurso. Esto puede deberse a una asignación injusta de recursos o a la falta de una política de programación equitativa. Para evitar la inanición, se deben implementar políticas de programación que garanticen que todos los procesos tengan la oportunidad de acceder a la sección crítica.\n",
    "\n",
    "- **Condición de Carrera en Recursos No Compartidos:** Aunque las condiciones de carrera generalmente se asocian con recursos compartidos, también pueden ocurrir en recursos no compartidos. Esto sucede cuando un proceso accede a un recurso no compartido de manera concurrente, lo que puede provocar resultados incorrectos o inesperados. Es importante tener en cuenta que la exclusión mutua no siempre se aplica a recursos compartidos, sino que se extiende a recursos no compartidos para evitar condiciones de carrera inesperadas.\n",
    "\n",
    "**Técnicas y Algoritmos:**\n",
    "- **Semáforos:** Los semáforos son una técnica fundamental en la gestión de secciones críticas. Un semáforo es una variable entera que se utiliza para coordinar el acceso a recursos compartidos. Funciona de la siguiente manera: cuando un proceso quiere ingresar a una sección crítica, debe solicitar un semáforo. Si el semáforo está libre (su valor es 1), el proceso lo adquiere y entra a la sección crítica. Si el semáforo está ocupado (su valor es 0), el proceso debe esperar hasta que se libere. Cuando el proceso sale de la sección crítica, libera el semáforo, permitiendo que otros procesos lo adquieran. Esta técnica es efectiva para garantizar la exclusión mutua.\n",
    "\n",
    "- **Mutex (Mutual Exclusion):** Un mutex es un tipo de semáforo que se utiliza para lograr la exclusión mutua. Es una estructura de datos que actúa como un mecanismo de bloqueo. Un proceso que desea ingresar a una sección crítica debe adquirir el mutex. Si otro proceso ya lo ha adquirido, el proceso solicitante debe esperar hasta que se libere. Esto asegura que solo un proceso pueda estar en la sección crítica en un momento dado. Los mutex son ampliamente utilizados en programación concurrente y sistemas operativos para garantizar la integridad de los datos.\n",
    "\n",
    "- **Monitores:** Los monitores son una abstracción de alto nivel que combina datos y procedimientos en una sola unidad. Proporcionan un enfoque más estructurado para gestionar secciones críticas. En un monitor, se definen procedimientos que pueden ser invocados por los procesos. El monitor se encarga de gestionar la exclusión mutua, lo que significa que solo un proceso puede ejecutar un procedimiento del monitor a la vez. Los monitores ofrecen un alto nivel de abstracción y simplifican la gestión de secciones críticas al ocultar detalles de implementación.\n",
    "\n",
    "- **Algoritmos de Exclusión Mutua Distribuida:** En sistemas distribuidos, donde los procesos se ejecutan en diferentes nodos, se utilizan algoritmos de exclusión mutua distribuida. Estos algoritmos permiten a los procesos en diferentes nodos coordinar su acceso a recursos compartidos de manera sincronizada. Ejemplos de algoritmos de exclusión mutua distribuida incluyen el algoritmo de Ricart-Agrawala y el algoritmo de Maekawa. Estos algoritmos son esenciales para garantizar la integridad de los datos en sistemas distribuidos.\n",
    "\n",
    "- **Algoritmo de Dekker:** El algoritmo de Dekker es uno de los primeros algoritmos de exclusión mutua inventados. Permite que dos procesos compartan un recurso de manera segura. Si ambos procesos intentan ingresar a la sección crítica simultáneamente, el algoritmo utiliza una variable de turno para determinar cuál de los dos procesos tiene prioridad y debe esperar. El algoritmo de Dekker es un ejemplo clásico de cómo se puede lograr la exclusión mutua en sistemas multiprogramados.\n",
    "\n",
    "Estas técnicas y algoritmos desempeñan un papel crucial en la gestión de secciones críticas en sistemas concurrentes y distribuidos. Proporcionan la base para evitar condiciones de carrera, garantizar la exclusión mutua y mantener la integridad de los datos en entornos donde múltiples procesos comparten recursos.\n",
    "\n",
    "**Usos de las Secciones Críticas:**\n",
    "- **Protección de Memoria Compartida:** En sistemas distribuidos, la memoria compartida es esencial para la comunicación y el intercambio de datos entre procesos. Las secciones críticas se utilizan para garantizar que solo un proceso pueda acceder a una región de memoria compartida en un momento dado. Esto evita conflictos y asegura la coherencia de los datos compartidos.\n",
    "\n",
    "- **Acceso a Recursos de Red:** En entornos de redes distribuidas, como servidores web, las secciones críticas se aplican para controlar el acceso concurrente a recursos de red, como archivos o bases de datos. Por ejemplo, cuando varios clientes intentan acceder y modificar una base de datos al mismo tiempo, las secciones críticas garantizan que las operaciones se realicen de manera ordenada y sin conflictos.\n",
    "\n",
    "- **Impresión y Colas de Trabajo:** En sistemas de impresión y administración de colas de trabajo, es fundamental evitar que múltiples procesos accedan a la impresora al mismo tiempo. Las secciones críticas se utilizan para coordinar el acceso a la impresora y garantizar que solo un trabajo de impresión se procese a la vez, evitando atascos y errores de impresión.\n",
    "\n",
    "**Ejemplo Práctico - Gestión de una Cuenta Bancaria:**\n",
    "Supongamos que en un sistema bancario en línea, varios usuarios intentan acceder a una cuenta bancaria compartida al mismo tiempo. Cada usuario puede realizar depósitos y retiros. Para garantizar la consistencia de la cuenta y evitar que dos usuarios realicen transacciones conflictivas, se utiliza una sección crítica. En este escenario, la sección crítica se aplica al saldo de la cuenta. Cuando un usuario realiza una transacción, adquiere un bloqueo en la sección crítica del saldo, lo que evita que otros usuarios accedan a ella hasta que la transacción se complete y se libere el bloqueo. De esta manera, se asegura que las transacciones se realicen de manera coherente y que el saldo de la cuenta se mantenga correcto.\n",
    "\n",
    "**Ejemplo Práctico - Control de Acceso a un Archivo Compartido:**\n",
    "En un sistema de almacenamiento en la nube, varios usuarios pueden intentar acceder y modificar un archivo compartido al mismo tiempo. Para evitar conflictos y garantizar la integridad del archivo, se implementa una sección crítica. Cada usuario que desee realizar una operación en el archivo, como editar o guardar cambios, debe adquirir un bloqueo en la sección crítica correspondiente al archivo. Esto impide que otros usuarios realicen operaciones simultáneas en el mismo archivo y evita la corrupción de datos.\n",
    "\n",
    "**Conclusión:**\n",
    "La sección crítica es un componente crítico en sistemas distribuidos y programación concurrente, y se aplica en diversos contextos, desde el núcleo del sistema operativo hasta la gestión de estructuras de datos compartidas y el control de periféricos. Su gestión efectiva es fundamental para garantizar la integridad de los datos y evitar conflictos. Aunque aún no se ha encontrado una solución perfecta, las técnicas y algoritmos mencionados proporcionan una base sólida para abordar la problemática en diferentes escenarios.\n",
    "\n",
    "**Referencias:**\n",
    "- Gupta, A., Gupta, A., & Mishra, A. (2011). Research Paper on Software Solution of Critical Section Problem. *International Journal of Advance Technology & Engineering Research (IJATER)*, 1(1), 48. Retrieved from [Inserta aquí el enlace o información de acceso a la fuente si es aplicable]\n",
    "- Wikipedia. (S.f.). Critical section. [Enlace] [Inserta la fecha en que accediste a la página web] Disponible en: [https://en.wikipedia.org/wiki/Critical_section](https://en.wikipedia.org/wiki/Critical_section)\n",
    "- Salguero, E. (S.f.). Sistemas Distribuidos: Coordinación y Acuerdo. [Enlace] [Inserta la fecha en que accediste a la página web] Disponible en: [https://medium.com/@edusalguero/sistemas-distribuidos-coordinacion-y-acuerdo-aa0b18b444e7](https://medium.com/@edusalguero/sistemas-distribuidos-coordinacion-y-acuerdo-aa0b18b444e7)\n",
    "- Universidad Ana G. Méndez. (S.f.). Sistemas Operativos: Procesos Concurrentes. Unidad III. [Enlace] [Inserta la fecha en que accediste a la página web] Disponible en: [https://www.aiu.edu/spanish/publications/student/spanish/180-207/sistemas-operativos-procesos-concurrentes-unidad-iii.html](https://www.aiu.edu/spanish/publications/student/spanish/180-207/sistemas-operativos-procesos-concurrentes-unidad-iii.html)"
   ]
  }
 ],
 "metadata": {
  "language_info": {
   "name": "python"
  }
 },
 "nbformat": 4,
 "nbformat_minor": 2
}
