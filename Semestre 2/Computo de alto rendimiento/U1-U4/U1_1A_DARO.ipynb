{
 "cells": [
  {
   "cell_type": "markdown",
   "id": "3a52a641",
   "metadata": {},
   "source": [
    "<div style=\"display: flex;\">\n",
    "    <div style=\"flex: 1;\">\n",
    "        <h1>Cómputo de Alto Rendimiento 2023</h1>\n",
    "        <h2>Unidad 1 - Introducción y métricas de desempeño</h2>\n",
    "        <h3>Actividad 1 - Investigación sobre métricas de desempeño</h3>\n",
    "        <p><strong>Nombre:</strong> David Aaron Ramirez Olmeda<br>\n",
    "        <strong>Programa:</strong> Maestría en Ciencia de Datos e Información</p>\n",
    "    </div>\n",
    "    <img src=\"https://scontent.fcul2-1.fna.fbcdn.net/v/t39.30808-6/357432505_662449529254685_507850031498699830_n.jpg?_nc_cat=108&cb=99be929b-3346023f&ccb=1-7&_nc_sid=09cbfe&_nc_eui2=AeH2hCNpPQBYl-6o57Q-RzCk1muPQAYvpg7Wa49ABi-mDvRwO9gpOMqNX25pbHbVW177Wxu5wa45Oo67bjYAhSZG&_nc_ohc=GILHri9sW0sAX_PkSZ4&_nc_ht=scontent.fcul2-1.fna&oh=00_AfDxpJ1m-40MHrY_P3-wQjj4ZdjmggaPZLwP8Dd2ckUikA&oe=64D8574A\" alt=\"Imagen de Portada\" width=\"170\" height=\"170\">\n",
    "</div>\n"
   ]
  },
  {
   "cell_type": "markdown",
   "id": "12d0d9b5",
   "metadata": {},
   "source": [
    "### Resumen\n",
    "\n",
    "Exploraremos la Ley de Gustafson-Barsis y la métrica 'fracción serial'. Analizaremos cómo estas ideas influyen en la eficiencia de la programación paralela y cómo medir el impacto de partes no paralelizables en el rendimiento.\n",
    "\n",
    "### Desarrollo\n",
    "\n",
    "**Descripción de la Ley de Gustafson-Barsis:**\n",
    "\n",
    "La Ley de Gustafson-Barsis es fundamental en la eficiencia de la programación paralela. Básicamente, sostiene que a medida que aumentamos el número de procesadores en un sistema, el tamaño de los problemas que podemos resolver de manera eficiente también puede aumentar. En otras palabras, en lugar de acelerar una sola tarea, la programación paralela se enfoca en resolver problemas más grandes en el mismo tiempo. Esto es esencial para el aprovechamiento efectivo de sistemas con múltiples procesadores. Personalmente, considero que esta ley es una piedra angular en la optimización del rendimiento en la programación paralela.\n",
    "\n",
    "**Opinión sobre la Ley de Gustafson-Barsis:**\n",
    "\n",
    "En mi opinión, la Ley de Gustafson-Barsis ofrece un enfoque muy pragmático para abordar la programación paralela. En lugar de simplemente buscar acelerar una tarea individual, esta ley destaca la importancia de abordar problemas más grandes a medida que aumenta el poder de procesamiento. Esto resuena especialmente en un mundo en constante evolución tecnológica, donde la escalabilidad y la eficiencia en la resolución de problemas son esenciales. Personalmente, me resulta interesante descubrir cómo se ha mejorado el rendimiento del cómputo en los últimos años. Sin embargo, también me hace reflexionar sobre la importancia de prevenir ciertas cuestiones en el futuro. Recordé que durante una de las clases (videos) se mencionó este tema. En la actualidad, contamos con numerosos servicios en la nube, como los ofrecidos por AWS, que facilitan la escalabilidad y el rendimiento de los programas. Aunque estos servicios simplifican muchas tareas, también me genera cierta ansiedad pensar en la posibilidad de que estos temas se vuelvan menos importantes para mi profesión. En cualquier caso, considero que estos conocimientos siguen siendo beneficiosos en general y seguramente aportarán aspectos positivos a mi carrera, reforzando y profundizando mi comprensión de las herramientas que utilizo a diario.\n",
    "\n",
    "**Reseña del artículo \"Measuring Parallel Processor Performance\":**\n",
    "\n",
    "El artículo \"Measuring Parallel Processor Performance\" de Alan H. Karp y Horace P. Flatt presenta una métrica valiosa llamada \"fracción serial\". Esta métrica mide la parte del código de un programa que debe ejecutarse de manera secuencial, incluso en un entorno de programación paralela. En otras palabras, se refiere a la porción del trabajo que no puede ser distribuida entre múltiples procesadores y, por lo tanto, limita la eficiencia. Creo que esta métrica ofrece una visión realista de cómo el paralelismo afecta el rendimiento y brinda una manera de identificar cuellos de botella en el proceso de optimización.\n",
    "\n",
    "Un bosquejo del algoritmo por pasos se podría ver como sigue:\n",
    "\n",
    "1. Identificación de secciones no paralelizables.\n",
    "2. Medición del tiempo total de ejecución del programa.\n",
    "3. Ejecución secuencial de las secciones no paralelizables.\n",
    "4. Medición del tiempo de ejecución de las secciones no paralelizables.\n",
    "5. Cálculo de la fracción serial: (Tiempo de secciones no paralelizables) / (Tiempo total).\n",
    "6. Presentación de resultados y análisis para optimización.\n",
    "\n",
    "**Opinión sobre la métrica \"fracción serial\":**\n",
    "\n",
    "Desde mi punto de vista, la métrica \"fracción serial\" es un gran aporte para la evaluación realista del rendimiento en la programación paralela. Permite identificar con precisión las partes del código que limitan la capacidad de paralelización y, por lo tanto, ofrece una guía valiosa para la optimización. Esta métrica es esencial para comprender cómo el paralelismo afecta la eficiencia general y facilita la toma de decisiones informadas para mejorar el rendimiento en sistemas con múltiples procesadores. En mi experiencia, el uso de servicios en la nube, como AWS, ha cambiado la dinámica del rendimiento en la programación. Si bien estos servicios ofrecen una gran ventaja en términos de escalabilidad y facilidad de uso, también plantean la cuestión de si en un futuro el entendimiento de métricas como la \"fracción serial\" podría volverse menos relevante. No obstante, estoy convencido de que adquirir estos conocimientos solo contribuirá positivamente a mi desarrollo profesional, fortaleciendo mi capacidad para optimizar y comprender las herramientas que empleo en mi rutina diaria.\n",
    "\n",
    "### Referencias\n",
    "\n",
    "1. Karp, A., & Flatt, H. P. (1990). Measuring Parallel Processor Performance. Communications of the ACM.\n",
    "   \n",
    "2. Wikipedia contributors. (2023, July 28). Ley de Gustafson. In Wikipedia. Retrieved August 9, 2023, from https://es.wikipedia.org/wiki/Ley_de_Gustafson.\n",
    "   \n",
    "3. DBpedia contributors. (2023, August 1). Ley de Gustafson. In DBpedia - A community effort to extract structured information from Wikipedia. Retrieved August 9, 2023, from https://es.dbpedia.org/page/Ley_de_Gustafson.\n",
    "\n",
    "4. Arellano, M. (s.f.). Análisis de desempeño. Tema 1. INFOTEC."
   ]
  }
 ],
 "metadata": {
  "kernelspec": {
   "display_name": "Python 3 (ipykernel)",
   "language": "python",
   "name": "python3"
  },
  "language_info": {
   "codemirror_mode": {
    "name": "ipython",
    "version": 3
   },
   "file_extension": ".py",
   "mimetype": "text/x-python",
   "name": "python",
   "nbconvert_exporter": "python",
   "pygments_lexer": "ipython3",
   "version": "3.9.13"
  }
 },
 "nbformat": 4,
 "nbformat_minor": 5
}
