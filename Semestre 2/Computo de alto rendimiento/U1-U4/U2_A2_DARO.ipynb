{
 "cells": [
  {
   "cell_type": "markdown",
   "id": "41afec76",
   "metadata": {},
   "source": [
    "<div style=\"display: flex;\">\n",
    "    <div style=\"flex: 1;\">\n",
    "        <h1>Cómputo de Alto Rendimiento 2023</h1>\n",
    "        <h2>Unidad 2 - Clasificación de arquitecturas y algoritmos paralelos</h2>\n",
    "        <h3>Actividad 2 - Ejercicio sobre tipos de paralelismo</h3>\n",
    "        <p><strong>Nombre:</strong> David Aaron Ramirez Olmeda<br>\n",
    "        <strong>Programa:</strong> Maestría en Ciencia de Datos e Información</p>\n",
    "    </div>\n",
    "    <img src=\"https://pbs.twimg.com/profile_images/1674912653049774081/Lj1u22X8_400x400.jpg\" alt=\"Imagen de Portada\" width=\"170\" height=\"170\">\n",
    "</div>"
   ]
  },
  {
   "cell_type": "markdown",
   "id": "4a6fdbcc",
   "metadata": {},
   "source": [
    "### Introducción:\n",
    "\n",
    "En estos ejercicios, exploramos el concepto de paralelismo algorítmico en dos enfoques: el paralelismo en pipeline y el paralelismo geométrico mediante algoritmos particionados. Estos enfoques buscan mejorar la eficiencia y el rendimiento al realizar tareas computacionales divididas en partes que se ejecutan simultáneamente en múltiples procesadores.\n",
    "\n",
    "**1. Con los siguientes datos y usando paralelismo algorItmico (pipeline),\n",
    "calcula la eficiencia, el speed up y el tiempo de ejecucion...**\n",
    "\n",
    "Para calcular la eficiencia, el speed up y el tiempo de ejecución con paralelismo algorítmico en un enfoque de pipeline, tenemos los siguientes datos:\n",
    "\n",
    "- T = 1 (Tiempo para cada paso)\n",
    "- L = 50 (Número de pasos en el pipeline)\n",
    "- n = 10^5 (Número de objetos)\n",
    "\n",
    "Utilizaremos las siguientes fórmulas:\n",
    "\n",
    "- Speed up = Tiempo secuencial / Tiempo paralelo\n",
    "- Eficiencia = Speed up / Número de procesadores\n",
    "- Tiempo secuencial = L * T * n\n",
    "- Tiempo paralelo = (L + n - 1) * T\n",
    "\n",
    "Sustituyendo los valores:\n",
    "\n",
    "- Tiempo secuencial = 50 * 1 * 10^5 = 5000000\n",
    "- Tiempo paralelo = (50 + 10^5 - 1) * 1 = 100049\n",
    "- Speed up = 5000000 / 100049 ≈ 49.98\n",
    "- Eficiencia = 49.998 / 4 ≈ 12.49\n",
    "\n",
    "(Para calcular la eficiencia en este caso podemos asumir, por ejemplo, el uso de cuatro procesadores. Asumimos esto dado que no contamos con el dato dentro del problema)\n",
    "\n",
    "**2. Con los siguientes datos y usando paralelismo geometrico (algoritmos\n",
    "particionados), calcula la eficiencia, el speed up y el tiempo de ejecucion...**\n",
    "\n",
    "En este caso, el número de pasos (L) es 50, el de objetos (n) es 10^5 y el tiempo (T) es 1. Nota: en este caso L es el número de procesadores\n",
    "\n",
    "Podemos usar las mismas fórmulas:\n",
    "\n",
    "- Tiempo secuencial = 50 * 1 * 10^5 = 5000000\n",
    "- Tiempo paralelo = (50 + 10^5 - 1) * 1 = 100049\n",
    "- Speed up = 5000000 / 100049 ≈ 49.98\n",
    "- Eficiencia = 49.998 / 50 ≈ 0.99996\n",
    "\n",
    "Dado que es un enfoque de paralelismo geométrico, necesitaremos conocer la fracción paralelizable, que no está en la pregunta. Supongamos que la fracción es \"F\". Entonces:\n",
    "\n",
    "- Tiempo secuencial = 50 * 1 * 10^5 = 5000000\n",
    "- Tiempo paralelo = $T_F$ = (50 + 10^5 - 1) * 1 = 100049\n",
    "- Speed up = 5000000 / 100049 ≈ 49.98\n",
    "- Eficiencia = 49.998 / 50 ≈ 0.99996\n",
    "\n",
    "### Conclusion:\n",
    "\n",
    "El paralelismo algorítmico es una estrategia crucial para mejorar el rendimiento de tareas computacionales intensivas. Los enfoques de pipeline y paralelismo geométrico ofrecen formas diferentes de dividir y conquistar problemas para lograr tiempos de ejecución más rápidos. Sin embargo, para obtener resultados precisos, es importante contar con información completa, como el número de procesadores y la fracción paralelizable. La implementación eficiente del paralelismo depende de una comprensión profunda del problema y de la infraestructura computacional disponible.\n",
    "\n",
    "### Referencias\n",
    "\n",
    "\"Speedup.\" Wikipedia, La Enciclopedia Libre. URL: https://es.wikipedia.org/wiki/Speedup.\"\n"
   ]
  }
 ],
 "metadata": {
  "kernelspec": {
   "display_name": "Python 3 (ipykernel)",
   "language": "python",
   "name": "python3"
  },
  "language_info": {
   "codemirror_mode": {
    "name": "ipython",
    "version": 3
   },
   "file_extension": ".py",
   "mimetype": "text/x-python",
   "name": "python",
   "nbconvert_exporter": "python",
   "pygments_lexer": "ipython3",
   "version": "3.9.13"
  }
 },
 "nbformat": 4,
 "nbformat_minor": 5
}
