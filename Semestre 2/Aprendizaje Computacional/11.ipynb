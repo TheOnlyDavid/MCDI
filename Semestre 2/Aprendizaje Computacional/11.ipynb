{
 "cells": [
  {
   "cell_type": "code",
   "execution_count": null,
   "metadata": {},
   "outputs": [],
   "source": []
  },
  {
   "cell_type": "code",
   "execution_count": 7,
   "metadata": {},
   "outputs": [
    {
     "name": "stdout",
     "output_type": "stream",
     "text": [
      "El límite inferior del intervalo de confianza es: 0.8434\n"
     ]
    }
   ],
   "source": [
    "# Parámetros dados\n",
    "p_hat = 0.87\n",
    "alpha = 0.0125\n",
    "n = 1000\n",
    "\n",
    "# Calcular el valor crítico Z\n",
    "z_critical = norm.ppf(1 - alpha/2)\n",
    "\n",
    "# Calcular el error estándar\n",
    "std_error = math.sqrt((p_hat * (1 - p_hat)) / n)\n",
    "\n",
    "# Calcular el intervalo de confianza\n",
    "lower_limit = p_hat - z_critical * std_error\n",
    "\n",
    "# Imprimir el resultado redondeado a cuatro decimales\n",
    "print(f\"El límite inferior del intervalo de confianza es: {lower_limit:.4f}\")\n"
   ]
  },
  {
   "cell_type": "code",
   "execution_count": 4,
   "metadata": {},
   "outputs": [
    {
     "data": {
      "text/plain": [
       "(0.8434372809894305, 0.8965627190105695)"
      ]
     },
     "execution_count": 4,
     "metadata": {},
     "output_type": "execute_result"
    }
   ],
   "source": [
    "from scipy.stats import norm\n",
    "import math\n",
    "\n",
    "alpha = 0.0125\n",
    "z = norm().ppf(1 - alpha / 2)\n",
    "p = 0.87\n",
    "N = 1000\n",
    "Cn = (p - z * np.sqrt(p * (1 - p) / N),\n",
    "      p + z * np.sqrt(p * (1 - p) / N))\n",
    "Cn"
   ]
  },
  {
   "cell_type": "markdown",
   "metadata": {},
   "source": [
    "# 2"
   ]
  },
  {
   "cell_type": "code",
   "execution_count": 2,
   "metadata": {},
   "outputs": [],
   "source": [
    "from sklearn.ensemble import RandomForestClassifier, ExtraTreesClassifier\n",
    "from sklearn.naive_bayes import GaussianNB\n",
    "from sklearn.datasets import load_breast_cancer\n",
    "from sklearn.model_selection import StratifiedKFold\n",
    "from sklearn.metrics import recall_score\n",
    "from scipy.stats import wilcoxon\n",
    "import numpy as np\n"
   ]
  },
  {
   "cell_type": "code",
   "execution_count": 27,
   "metadata": {},
   "outputs": [],
   "source": [
    "K = 30\n",
    "kf = StratifiedKFold(n_splits=K, random_state=0, shuffle=True)\n",
    "X, y = load_breast_cancer(return_X_y=True)\n",
    "\n",
    "P = []\n",
    "for tr, ts in kf.split(X, y):\n",
    "    forest = RandomForestClassifier().fit(X[tr], y[tr]).predict(X[ts])\n",
    "    extra_trees = ExtraTreesClassifier().fit(X[tr], y[tr]).predict(X[ts])\n",
    "    P.append([recall_score(y[ts], hy, average=\"macro\") for hy in [forest, extra_trees]])\n",
    "P = np.array(P)\n"
   ]
  },
  {
   "cell_type": "code",
   "execution_count": 28,
   "metadata": {},
   "outputs": [],
   "source": [
    "p = P[:, 0] - P[:, 1]\n",
    "t = np.sqrt(K) * np.mean(p) / np.std(p)"
   ]
  },
  {
   "cell_type": "code",
   "execution_count": 29,
   "metadata": {},
   "outputs": [
    {
     "name": "stdout",
     "output_type": "stream",
     "text": [
      "Los algoritmos son estadísticamente similares: True\n"
     ]
    },
    {
     "name": "stderr",
     "output_type": "stream",
     "text": [
      "/Users/aaron/opt/anaconda3/lib/python3.9/site-packages/scipy/stats/_morestats.py:3414: UserWarning: Exact p-value calculation does not work if there are zeros. Switching to normal approximation.\n",
      "  warnings.warn(\"Exact p-value calculation does not work if there are \"\n"
     ]
    }
   ],
   "source": [
    "p_values = wilcoxon(P[:, 0], P[:, 1]).pvalue\n",
    "\n",
    "# Define el nivel de significancia\n",
    "alpha = 0.05\n",
    "\n",
    "# Compara el p-value con el nivel de significancia\n",
    "result = p_values > alpha\n",
    "\n",
    "# Imprime el resultado\n",
    "print(\"Los algoritmos son estadísticamente similares:\", result)\n"
   ]
  },
  {
   "cell_type": "code",
   "execution_count": 30,
   "metadata": {},
   "outputs": [
    {
     "data": {
      "text/plain": [
       "WilcoxonResult(statistic=30.0, pvalue=0.7881362654668115)"
      ]
     },
     "execution_count": 30,
     "metadata": {},
     "output_type": "execute_result"
    }
   ],
   "source": [
    "wilcoxon(P[:, 0], P[:, 1])"
   ]
  },
  {
   "cell_type": "code",
   "execution_count": 11,
   "metadata": {},
   "outputs": [
    {
     "name": "stdout",
     "output_type": "stream",
     "text": [
      "Los algoritmos son estadísticamente similares: False\n",
      "Estadístico de prueba de Wilcoxon: 42199.0\n",
      "P-valor: 3.208232101553484e-06\n"
     ]
    }
   ],
   "source": [
    "\n",
    "\n",
    "# Parámetros\n",
    "K = 30\n",
    "kf = StratifiedKFold(n_splits=K, random_state=0, shuffle=True)\n",
    "X, y = load_breast_cancer(return_X_y=True)\n",
    "\n",
    "# Inicializar matrices\n",
    "forest = np.empty_like(y)\n",
    "extra_trees = np.empty_like(y)\n",
    "\n",
    "# Entrenar y predecir con RandomForestClassifier y ExtraTreesClassifier\n",
    "for tr, ts in kf.split(X, y):\n",
    "    forest[ts] = RandomForestClassifier().fit(X[tr], y[tr]).predict(X[ts])\n",
    "    extra_trees[ts] = ExtraTreesClassifier().fit(X[tr], y[tr]).predict(X[ts])\n",
    "\n",
    "# Calcular la diferencia de rendimiento macro-F1\n",
    "diff = lambda y, hy1, hy2: recall_score(y, hy1, average=\"macro\") - recall_score(y, hy2, average=\"macro\")\n",
    "\n",
    "# Generar muestras aleatorias\n",
    "S = np.random.randint(y.shape[0], size=(500, y.shape[0]))\n",
    "\n",
    "# Calcular la diferencia de rendimiento para las muestras aleatorias\n",
    "B = [diff(y[s], forest[s], extra_trees[s]) for s in S]\n",
    "\n",
    "# Realizar la prueba de Wilcoxon\n",
    "statistic, p_value = wilcoxon(B)\n",
    "\n",
    "# Definir el nivel de significancia\n",
    "alpha = 0.05\n",
    "\n",
    "# Comprobar si los algoritmos son estadísticamente similares\n",
    "result = p_value > alpha\n",
    "\n",
    "# Imprimir el resultado\n",
    "print(\"Los algoritmos son estadísticamente similares:\", result)\n",
    "print(\"Estadístico de prueba de Wilcoxon:\", statistic)\n",
    "print(\"P-valor:\", p_value)\n"
   ]
  },
  {
   "cell_type": "code",
   "execution_count": 13,
   "metadata": {},
   "outputs": [
    {
     "data": {
      "text/plain": [
       "0.398"
      ]
     },
     "execution_count": 13,
     "metadata": {},
     "output_type": "execute_result"
    }
   ],
   "source": [
    "(np.array(B) < 0).mean()"
   ]
  },
  {
   "cell_type": "markdown",
   "metadata": {},
   "source": [
    "# 3"
   ]
  },
  {
   "cell_type": "code",
   "execution_count": 34,
   "metadata": {},
   "outputs": [],
   "source": [
    "\n",
    "from scipy.stats import norm, wilcoxon\n",
    "from sklearn.datasets import load_iris, load_breast_cancer\n",
    "from sklearn.naive_bayes import GaussianNB\n",
    "from sklearn.ensemble import RandomForestClassifier\n",
    "from sklearn.model_selection import train_test_split, StratifiedKFold\n",
    "from sklearn.metrics import recall_score\n",
    "import numpy as np\n",
    "import seaborn as sns"
   ]
  },
  {
   "cell_type": "code",
   "execution_count": 52,
   "metadata": {},
   "outputs": [
    {
     "name": "stdout",
     "output_type": "stream",
     "text": [
      "Intervalo de confianza para R^2: (0.24, 0.67)\n"
     ]
    }
   ],
   "source": [
    "from sklearn.datasets import load_diabetes\n",
    "from sklearn.linear_model import LinearRegression\n",
    "from sklearn.model_selection import cross_val_score\n",
    "import numpy as np\n",
    "\n",
    "# Cargar el conjunto de datos Diabetes\n",
    "X, y = load_diabetes(return_X_y=True)\n",
    "\n",
    "# Inicializar el modelo de regresión lineal\n",
    "model = LinearRegression()\n",
    "\n",
    "# Calcular los scores \\( R^2 \\) usando validación cruzada\n",
    "scores = cross_val_score(model, X, y, scoring='r2', cv=10)\n",
    "\n",
    "# Calcular el intervalo de confianza con percentiles\n",
    "lower_bound = np.percentile(scores, 2.5)\n",
    "upper_bound = np.percentile(scores, 97.5)\n",
    "\n",
    "# Imprimir el intervalo de confianza (redondeado a dos decimales)\n",
    "print(f\"Intervalo de confianza para R^2: ({lower_bound:.2f}, {upper_bound:.2f})\")\n"
   ]
  },
  {
   "cell_type": "code",
   "execution_count": 5,
   "metadata": {},
   "outputs": [
    {
     "name": "stdout",
     "output_type": "stream",
     "text": [
      "Intervalo de confianza para R^2: (0.2909, 0.644955)\n"
     ]
    }
   ],
   "source": [
    "from sklearn.datasets import load_diabetes\n",
    "from sklearn.linear_model import LinearRegression\n",
    "from sklearn.model_selection import cross_val_score, KFold\n",
    "import numpy as np\n",
    "\n",
    "# Cargar el conjunto de datos Diabetes\n",
    "X, y = load_diabetes(return_X_y=True)\n",
    "\n",
    "# Inicializar el modelo de regresión lineal\n",
    "model = LinearRegression()\n",
    "\n",
    "# Configurar la validación cruzada K-fold\n",
    "kf = KFold(n_splits=10, random_state=0, shuffle=True)\n",
    "\n",
    "# Lista para almacenar los scores R^2\n",
    "r2_scores = []\n",
    "\n",
    "# Calcular los scores R^2 usando validación cruzada\n",
    "for tr, ts in kf.split(X, y):\n",
    "    model.fit(X[tr], y[tr])\n",
    "    y_pred = model.predict(X[ts])\n",
    "    r2 = model.score(X[ts], y[ts])\n",
    "    r2_scores.append(r2)\n",
    "\n",
    "# Calcular el intervalo de confianza con percentiles\n",
    "lower_bound = np.percentile(r2_scores, 2.5)\n",
    "upper_bound = np.percentile(r2_scores, 97.5)\n",
    "\n",
    "# Imprimir el intervalo de confianza (redondeado a dos decimales)\n",
    "print(f\"Intervalo de confianza para R^2: ({lower_bound:.4f}, {upper_bound:4f})\")\n"
   ]
  },
  {
   "cell_type": "code",
   "execution_count": 25,
   "metadata": {},
   "outputs": [
    {
     "name": "stdout",
     "output_type": "stream",
     "text": [
      "El valor del intervalo superior del R^2 es: 0.67\n"
     ]
    },
    {
     "data": {
      "text/plain": [
       "0.6713346048507146"
      ]
     },
     "execution_count": 25,
     "metadata": {},
     "output_type": "execute_result"
    }
   ],
   "source": [
    "from sklearn.model_selection import cross_val_score\n",
    "from sklearn.linear_model import LinearRegression\n",
    "from sklearn.datasets import load_diabetes\n",
    "import numpy as np\n",
    "\n",
    "# Cargar datos de Diabetes\n",
    "diabetes = load_diabetes()\n",
    "X, y = diabetes.data, diabetes.target\n",
    "\n",
    "# Crear un modelo de regresión lineal\n",
    "model = LinearRegression()\n",
    "\n",
    "# Calcular R^2 utilizando validación cruzada\n",
    "r2_scores = cross_val_score(model, X, y, scoring='r2', cv=10)\n",
    "\n",
    "# Calcular el intervalo de confianza\n",
    "alpha = 0.05\n",
    "lower_bound = np.percentile(r2_scores, 100 * (alpha / 2))\n",
    "upper_bound = np.percentile(r2_scores, 100 * (1 - alpha / 2))\n",
    "\n",
    "# Imprimir el intervalo de confianza superior con dos decimales\n",
    "print(f\"El valor del intervalo superior del R^2 es: {upper_bound:.2f}\")\n",
    "upper_bound\n"
   ]
  },
  {
   "cell_type": "code",
   "execution_count": 45,
   "metadata": {},
   "outputs": [
    {
     "name": "stdout",
     "output_type": "stream",
     "text": [
      "El valor del intervalo superior del R^2 es: 0.67\n"
     ]
    }
   ],
   "source": [
    "from sklearn.linear_model import LinearRegression\n",
    "from sklearn.model_selection import cross_val_score\n",
    "from sklearn.datasets import load_diabetes\n",
    "import numpy as np\n",
    "\n",
    "# Configurar el número de splits (K) y alpha\n",
    "K = 10\n",
    "alpha = 0.05\n",
    "\n",
    "# Cargar datos de Diabetes\n",
    "X, y = load_diabetes(return_X_y=True)\n",
    "\n",
    "# Crear un modelo de regresión lineal\n",
    "model = LinearRegression()\n",
    "\n",
    "# Calcular R^2 utilizando validación cruzada\n",
    "r2_scores = cross_val_score(model, X, y, scoring='r2', cv=K)\n",
    "\n",
    "# Calcular el intervalo de confianza\n",
    "lower_bound = np.percentile(r2_scores, 100 * (alpha / 2))\n",
    "upper_bound = np.percentile(r2_scores, 100 * (1 - alpha / 2))\n",
    "\n",
    "# Imprimir el intervalo de confianza superior con dos decimales\n",
    "print(f\"El valor del intervalo superior del R^2 es: {upper_bound:.2f}\")\n"
   ]
  },
  {
   "cell_type": "code",
   "execution_count": 49,
   "metadata": {},
   "outputs": [
    {
     "name": "stdout",
     "output_type": "stream",
     "text": [
      "El valor del intervalo superior del R^2 es: 0.67\n"
     ]
    }
   ],
   "source": [
    "from sklearn.linear_model import LinearRegression\n",
    "from sklearn.model_selection import cross_val_score\n",
    "from sklearn.datasets import load_diabetes\n",
    "from sklearn.metrics import r2_score\n",
    "import numpy as np\n",
    "\n",
    "# Configurar el número de splits (K) y alpha\n",
    "K = 10\n",
    "alpha = 0.05\n",
    "\n",
    "# Cargar datos de Diabetes\n",
    "X, y = load_diabetes(return_X_y=True)\n",
    "\n",
    "# Crear un modelo de regresión lineal\n",
    "model = LinearRegression()\n",
    "\n",
    "# Calcular R^2 utilizando validación cruzada\n",
    "r2_scores = cross_val_score(model, X, y, scoring='r2', cv=K)\n",
    "\n",
    "# Calcular el intervalo de confianza\n",
    "lower_bound = np.percentile(r2_scores, 100 * (alpha / 2))\n",
    "upper_bound = np.percentile(r2_scores, 100 * (1 - alpha / 2))\n",
    "\n",
    "# Imprimir el intervalo de confianza superior con dos decimales\n",
    "print(f\"El valor del intervalo superior del R^2 es: {upper_bound:.2f}\")\n"
   ]
  },
  {
   "cell_type": "code",
   "execution_count": 57,
   "metadata": {},
   "outputs": [
    {
     "name": "stdout",
     "output_type": "stream",
     "text": [
      "El valor del intervalo superior del R^2 es: 1.00\n"
     ]
    }
   ],
   "source": [
    "from sklearn.linear_model import LinearRegression\n",
    "from sklearn.model_selection import KFold\n",
    "from sklearn.metrics import r2_score\n",
    "from sklearn.datasets import load_diabetes\n",
    "import numpy as np\n",
    "\n",
    "# Configurar el número de splits (K) y alpha\n",
    "K = 10\n",
    "alpha = 0.05\n",
    "\n",
    "# Cargar datos de Diabetes\n",
    "X, y = load_diabetes(return_X_y=True)\n",
    "\n",
    "# Crear un modelo de regresión lineal\n",
    "model = LinearRegression()\n",
    "\n",
    "# Calcular R^2 utilizando validación cruzada\n",
    "y_true, y_pred = [], []\n",
    "\n",
    "for tr, ts in KFold(n_splits=K, shuffle=True, random_state=0).split(X, y):\n",
    "    model.fit(X[tr], y[tr])\n",
    "    y_true.extend(y[ts])\n",
    "    y_pred.extend(model.predict(X[ts]))\n",
    "\n",
    "y_true = np.array(y_true)\n",
    "y_pred = np.array(y_pred)\n",
    "\n",
    "# Calcular el intervalo de confianza\n",
    "n = len(y_pred)\n",
    "mse = np.sum((y_true - y_pred) ** 2) / (n - 2)  # Mean Squared Error\n",
    "std_error = np.sqrt(mse / np.sum((X - np.mean(X, axis=0)) ** 2))\n",
    "margin_error = 1.96 * std_error / np.sqrt(n)\n",
    "\n",
    "r2_value = r2_score(y_true, y_pred)\n",
    "\n",
    "# Calcular el intervalo de confianza\n",
    "lower_bound = r2_value - margin_error\n",
    "upper_bound = r2_value + margin_error\n",
    "\n",
    "# Asegurarse de que el intervalo esté en el rango [0, 1]\n",
    "lower_bound = max(lower_bound, 0)\n",
    "upper_bound = min(upper_bound, 1)\n",
    "\n",
    "# Imprimir el intervalo de confianza superior con dos decimales\n",
    "print(f\"El valor del intervalo superior del R^2 es: {upper_bound:.2f}\")\n",
    "\n"
   ]
  },
  {
   "cell_type": "code",
   "execution_count": 60,
   "metadata": {},
   "outputs": [
    {
     "data": {
      "text/plain": [
       "(0.426501013653632, 0.5562221109048776)"
      ]
     },
     "execution_count": 60,
     "metadata": {},
     "output_type": "execute_result"
    }
   ],
   "source": [
    "import numpy as np\n",
    "from sklearn import datasets\n",
    "from sklearn.linear_model import LinearRegression\n",
    "from sklearn.model_selection import KFold\n",
    "from sklearn.metrics import r2_score\n",
    "\n",
    "X, y = datasets.load_diabetes(return_X_y=True)\n",
    "K = 10\n",
    "kf = KFold(n_splits=K, shuffle=True, random_state=0)\n",
    "\n",
    "hy = np.empty_like(y)\n",
    "for tr, ts in kf.split(X, y):\n",
    "    hy[ts] = LinearRegression().fit(X[tr], y[tr]).predict(X[ts])\n",
    "\n",
    "B = []\n",
    "for _ in range(1000):\n",
    "    s = np.random.randint(X.shape[0], size=X.shape[0])\n",
    "    f = r2_score(y[s], hy[s])\n",
    "    B.append(f)\n",
    "alpha = 0.05 / 2\n",
    "Cn = (np.percentile(B, alpha * 100, axis=0), np.percentile(B, (1 - alpha) * 100, axis=0))\n",
    "Cn"
   ]
  },
  {
   "cell_type": "code",
   "execution_count": 62,
   "metadata": {},
   "outputs": [
    {
     "name": "stdout",
     "output_type": "stream",
     "text": [
      "El valor del intervalo superior del R^2 es: 5.67\n"
     ]
    }
   ],
   "source": [
    "from sklearn.linear_model import LinearRegression\n",
    "from sklearn.model_selection import cross_val_score\n",
    "from sklearn.datasets import load_diabetes\n",
    "from sklearn.metrics import r2_score\n",
    "import numpy as np\n",
    "\n",
    "# Configurar el número de splits (K) y alpha\n",
    "K = 10\n",
    "alpha = 0.05\n",
    "\n",
    "# Cargar datos de Diabetes\n",
    "X, y = load_diabetes(return_X_y=True)\n",
    "\n",
    "# Crear un modelo de regresión lineal\n",
    "model = LinearRegression()\n",
    "\n",
    "# Calcular R^2 utilizando validación cruzada\n",
    "y_true, y_pred = [], []\n",
    "\n",
    "for tr, ts in KFold(n_splits=K, shuffle=True, random_state=0).split(X, y):\n",
    "    model.fit(X[tr], y[tr])\n",
    "    y_true.extend(y[ts])\n",
    "    y_pred.extend(model.predict(X[ts]))\n",
    "\n",
    "r2_value = r2_score(y_true, y_pred)\n",
    "\n",
    "# Calcular el intervalo de confianza\n",
    "lower_bound = r2_value - 1.96 * np.std(y_pred) / np.sqrt(len(y_pred))\n",
    "upper_bound = r2_value + 1.96 * np.std(y_pred) / np.sqrt(len(y_pred))\n",
    "\n",
    "# Imprimir el intervalo de confianza superior con dos decimales\n",
    "print(f\"El valor del intervalo superior del R^2 es: {upper_bound:.2f}\")\n"
   ]
  },
  {
   "cell_type": "code",
   "execution_count": 63,
   "metadata": {},
   "outputs": [
    {
     "data": {
      "text/plain": [
       "5.673394876038918"
      ]
     },
     "execution_count": 63,
     "metadata": {},
     "output_type": "execute_result"
    }
   ],
   "source": [
    "upper_bound"
   ]
  },
  {
   "cell_type": "code",
   "execution_count": null,
   "metadata": {},
   "outputs": [],
   "source": []
  },
  {
   "cell_type": "code",
   "execution_count": null,
   "metadata": {},
   "outputs": [],
   "source": []
  }
 ],
 "metadata": {
  "kernelspec": {
   "display_name": "base",
   "language": "python",
   "name": "python3"
  },
  "language_info": {
   "codemirror_mode": {
    "name": "ipython",
    "version": 3
   },
   "file_extension": ".py",
   "mimetype": "text/x-python",
   "name": "python",
   "nbconvert_exporter": "python",
   "pygments_lexer": "ipython3",
   "version": "3.9.18"
  }
 },
 "nbformat": 4,
 "nbformat_minor": 2
}
