{
 "cells": [
  {
   "cell_type": "markdown",
   "id": "6b8258d6-3aa1-4aec-bce0-436900219c26",
   "metadata": {
    "tags": []
   },
   "source": [
    "<div style=\"display: flex;\">\n",
    "    <div style=\"flex: 1;\">\n",
    "        <h1>Aprendizaje computacional 2023</h1>\n",
    "        <h2>Unidad 3 - Métodos paramétricos</h2>\n",
    "        <p><strong>Nombre:</strong> David Aaron Ramirez Olmeda<br>\n",
    "        <strong>Programa:</strong> Maestría en Ciencia de Datos e Información</p>\n",
    "    </div>\n",
    "    <img src=\"https://pbs.twimg.com/profile_images/1674912653049774081/Lj1u22X8_400x400.jpg\" alt=\"Imagen de Portada\" width=\"170\" height=\"170\">\n",
    "</div>"
   ]
  },
  {
   "cell_type": "code",
   "execution_count": 4,
   "id": "60ecf40f-fed9-4c6c-9e63-8a0a5a62e24c",
   "metadata": {},
   "outputs": [],
   "source": [
    "from EvoMSA.model import GaussianBayes\n",
    "from sklearn.linear_model import LinearRegression\n",
    "from sklearn.model_selection import train_test_split\n",
    "from sklearn.datasets import load_breast_cancer, load_diabetes\n",
    "from scipy.stats import norm, multivariate_normal\n",
    "from scipy.special import logsumexp\n",
    "from matplotlib import pylab as plt\n",
    "import numpy as np\n",
    "import pandas as pd\n",
    "import seaborn as sns\n",
    "sns.set_theme()\n",
    "import os\n",
    "from sklearn import metrics"
   ]
  },
  {
   "cell_type": "code",
   "execution_count": 14,
   "id": "94c2fcf4-20ce-4bac-abfd-c60ff2e820ca",
   "metadata": {},
   "outputs": [
    {
     "name": "stderr",
     "output_type": "stream",
     "text": [
      "/Users/aaron/opt/anaconda3/lib/python3.9/site-packages/EvoMSA/model.py:634: RuntimeWarning: invalid value encountered in subtract\n",
      "  return posterior - evidence\n"
     ]
    },
    {
     "data": {
      "text/plain": [
       "<seaborn.axisgrid.FacetGrid at 0x7f9e43052190>"
      ]
     },
     "execution_count": 14,
     "metadata": {},
     "output_type": "execute_result"
    }
   ],
   "source": [
    "T = np.loadtxt('delitos/delitos_train_data.csv', delimiter=',')\n",
    "y_t = np.loadtxt('delitos/delitos_train_label.csv', delimiter=',')\n",
    "G = np.loadtxt('delitos/delitos_test_data.csv', delimiter=',')\n",
    "y_g = np.loadtxt('delitos/delitos_test_label.csv', delimiter=',')\n",
    "\n",
    "gaussian = GaussianBayes().fit(T, y_t)\n",
    "naive = GaussianBayes(naive=True).fit(T, y_t)\n",
    "\n",
    "hy_gaussian = gaussian.predict(G)\n",
    "hy_naive = naive.predict(G)\n",
    "\n",
    "error_gaussian = (y_g != hy_gaussian).mean()\n",
    "error_naive = (y_g != hy_naive).mean()\n",
    "\n",
    "error_gaussian\n",
    "\n",
    "error_naive\n",
    "\n",
    "diff = (y_g != hy_naive).mean() -  (y_g != hy_gaussian).mean()\n",
    "\n",
    "S = np.random.randint(y_g.shape[0],\n",
    "                      size=(500, y_g.shape[0]))\n",
    "B = [(y_g[s] != hy_naive[s]).mean() -  (y_g[s] != hy_gaussian[s]).mean()\n",
    "     for s in S]\n",
    "se = np.std(B, axis=0)\n",
    "\n",
    "sns.displot(B, kde=True)"
   ]
  },
  {
   "cell_type": "code",
   "execution_count": 16,
   "id": "f109f70b-8486-4116-baa4-8bc56f7c99ac",
   "metadata": {},
   "outputs": [
    {
     "data": {
      "text/plain": [
       "0.28670938128208057"
      ]
     },
     "execution_count": 16,
     "metadata": {},
     "output_type": "execute_result"
    }
   ],
   "source": [
    "dist = norm(loc=diff, scale=se)\n",
    "dist.cdf(0)"
   ]
  },
  {
   "cell_type": "code",
   "execution_count": 17,
   "id": "124a97c9-d423-4108-990c-28c75f72e2ae",
   "metadata": {},
   "outputs": [],
   "source": [
    "accuracy = metrics.accuracy_score(y_g, hy_naive)"
   ]
  },
  {
   "cell_type": "code",
   "execution_count": 18,
   "id": "0e4720f5-e1c3-4c38-b2bb-07e86a898bbe",
   "metadata": {},
   "outputs": [],
   "source": [
    "recall = metrics.recall_score(y_g, hy_naive, average=None)\n",
    "precision = metrics.precision_score(y_g, hy_naive, average=None)\n",
    "f1 = metrics.f1_score(y_g, hy_naive, average=None)"
   ]
  },
  {
   "cell_type": "code",
   "execution_count": 22,
   "id": "84243893-44e6-45a2-91e4-5bd97fb19c65",
   "metadata": {},
   "outputs": [
    {
     "data": {
      "text/plain": [
       "array([0.84046693, 0.60194175])"
      ]
     },
     "execution_count": 22,
     "metadata": {},
     "output_type": "execute_result"
    }
   ],
   "source": [
    "f1"
   ]
  },
  {
   "cell_type": "code",
   "execution_count": 21,
   "id": "25eb700a-e129-4899-9ada-58c90c1ac0c9",
   "metadata": {},
   "outputs": [
    {
     "data": {
      "text/plain": [
       "array([0.93913043, 0.47692308])"
      ]
     },
     "execution_count": 21,
     "metadata": {},
     "output_type": "execute_result"
    }
   ],
   "source": [
    "precision"
   ]
  },
  {
   "cell_type": "code",
   "execution_count": 20,
   "id": "147c0466-08d9-4476-98ed-ab9f5b6ba20f",
   "metadata": {},
   "outputs": [
    {
     "data": {
      "text/plain": [
       "array([0.76056338, 0.81578947])"
      ]
     },
     "execution_count": 20,
     "metadata": {},
     "output_type": "execute_result"
    }
   ],
   "source": [
    "recall"
   ]
  },
  {
   "cell_type": "code",
   "execution_count": 19,
   "id": "15cb1aef-e145-451f-bff7-14d2cc3a0053",
   "metadata": {},
   "outputs": [
    {
     "data": {
      "text/plain": [
       "0.7722222222222223"
      ]
     },
     "execution_count": 19,
     "metadata": {},
     "output_type": "execute_result"
    }
   ],
   "source": [
    "accuracy"
   ]
  },
  {
   "cell_type": "code",
   "execution_count": 34,
   "id": "db55dabc-5655-4421-84d3-533ba758e1a9",
   "metadata": {},
   "outputs": [
    {
     "name": "stdout",
     "output_type": "stream",
     "text": [
      "Se encontraron valores NaN o infinitos en las predicciones limpias.\n"
     ]
    }
   ],
   "source": [
    "import numpy as np\n",
    "\n",
    "# Encuentra las filas con valores NaN en G\n",
    "nan_rows = np.isnan(G).any(axis=1)\n",
    "\n",
    "# Filtra G y y_g para eliminar las filas con NaN\n",
    "G_clean = G[~nan_rows]\n",
    "y_g_clean = y_g[~nan_rows]\n",
    "\n",
    "# Filtra las predicciones para que coincidan con los datos limpios\n",
    "prob_clean = prob[~nan_rows]\n",
    "\n",
    "# Verifica si hay valores NaN o infinitos en las predicciones limpias\n",
    "if np.isnan(prob_clean).any() or np.isinf(prob_clean).any():\n",
    "    # Si se encuentran valores problemáticos, realiza un manejo adecuado, como imputación o eliminación.\n",
    "    # También puedes investigar por qué se están generando valores problemáticos en tus predicciones.\n",
    "    print(\"Se encontraron valores NaN o infinitos en las predicciones limpias.\")\n",
    "else:\n",
    "    # Si no hay valores problemáticos, procede con el cálculo de la entropía cruzada.\n",
    "    entropia = metrics.log_loss(y_g_clean, prob_clean)\n"
   ]
  },
  {
   "cell_type": "code",
   "execution_count": null,
   "id": "2d1f65da-ca62-4e1c-bb87-a3a6973965c3",
   "metadata": {},
   "outputs": [],
   "source": []
  }
 ],
 "metadata": {
  "kernelspec": {
   "display_name": "Python 3 (ipykernel)",
   "language": "python",
   "name": "python3"
  },
  "language_info": {
   "codemirror_mode": {
    "name": "ipython",
    "version": 3
   },
   "file_extension": ".py",
   "mimetype": "text/x-python",
   "name": "python",
   "nbconvert_exporter": "python",
   "pygments_lexer": "ipython3",
   "version": "3.9.13"
  }
 },
 "nbformat": 4,
 "nbformat_minor": 5
}
