{
 "cells": [
  {
   "cell_type": "markdown",
   "metadata": {},
   "source": [
    "Utilizando la siguiente implementación de vecinos mas cercanos en el problema de regresión y con el conjunto de Diabetes.\n",
    "\n",
    "from sklearn import datasets\n",
    "from sklearn.neighbors import KNeighborsRegressor\n",
    "\n",
    "X, y = datasets.load_diabetes(return_X_y=True)\n",
    "kn = KNeighborsRegressor(n_neighbors=K).fit(X, y)\n",
    "Seleccione el valor de 𝐾\n",
    " que sea más adecuado para la suma de los errores al cuadrado. Recuerde que la selección de 𝐾\n",
    " depende de un proceso aleatorio, entonces hay que probar mas valores de 𝐾\n",
    " que solamente los mostrados en la opción múltiple. \n",
    "\n",
    "El código proporcionado solo es un ejemplo y tiene que ser modificador para poder identificar 𝐾\n",
    " de manera correcta\n",
    "\n",
    "a.\n",
    "25\n",
    "\n",
    "b.\n",
    "100\n",
    "\n",
    "c.\n",
    "200"
   ]
  },
  {
   "cell_type": "markdown",
   "metadata": {},
   "source": [
    "### Forma 1"
   ]
  },
  {
   "cell_type": "code",
   "execution_count": 85,
   "metadata": {},
   "outputs": [
    {
     "name": "stdout",
     "output_type": "stream",
     "text": [
      "El mejor valor de K encontrado es: 25\n"
     ]
    }
   ],
   "source": [
    "from sklearn import datasets\n",
    "from sklearn.neighbors import KNeighborsRegressor\n",
    "from sklearn.model_selection import GridSearchCV\n",
    "import numpy as np\n",
    "\n",
    "# Cargamos el conjunto de datos de diabetes\n",
    "X, y = datasets.load_diabetes(return_X_y=True)\n",
    "\n",
    "# Definimos los valores de K que queremos probar\n",
    "param_grid = {'n_neighbors': [25, 50, 75, 100, 125, 150, 175, 200]}\n",
    "\n",
    "# Creamos un objeto GridSearchCV para buscar el mejor valor de K\n",
    "grid_search = GridSearchCV(KNeighborsRegressor(), param_grid, cv=5, scoring='neg_mean_squared_error')\n",
    "\n",
    "# Realizamos la búsqueda en la cuadrícula\n",
    "grid_search.fit(X, y)\n",
    "\n",
    "# Obtenemos el mejor valor de K\n",
    "best_k = grid_search.best_params_['n_neighbors']\n",
    "\n",
    "# Imprimimos el mejor valor de K\n",
    "print(\"El mejor valor de K encontrado es:\", best_k)\n"
   ]
  },
  {
   "cell_type": "code",
   "execution_count": 3,
   "metadata": {},
   "outputs": [],
   "source": [
    "from sklearn import datasets\n",
    "from sklearn.neighbors import KNeighborsRegressor\n",
    "\n",
    "K = 25\n",
    "\n",
    "X, y = datasets.load_diabetes(return_X_y=True)\n",
    "kn = KNeighborsRegressor(n_neighbors=K).fit(X, y)"
   ]
  },
  {
   "cell_type": "code",
   "execution_count": 16,
   "metadata": {},
   "outputs": [],
   "source": [
    "from sklearn.neighbors import NearestNeighbors,\\\n",
    "                              KNeighborsClassifier,\\\n",
    "                              KNeighborsRegressor\n",
    "from sklearn.metrics import pairwise_distances\n",
    "from sklearn.model_selection import train_test_split\n",
    "from sklearn.datasets import load_digits, load_diabetes\n",
    "from scipy.stats import norm\n",
    "from collections import Counter\n",
    "from matplotlib import pylab as plt\n",
    "import numpy as np\n",
    "import pandas as pd\n",
    "import seaborn as sns"
   ]
  },
  {
   "cell_type": "code",
   "execution_count": 80,
   "metadata": {},
   "outputs": [
    {
     "data": {
      "text/plain": [
       "53.935449438202255"
      ]
     },
     "execution_count": 80,
     "metadata": {},
     "output_type": "execute_result"
    }
   ],
   "source": [
    "X, y = load_diabetes(return_X_y=True)\n",
    "T, G, y_t, y_g = train_test_split(X, y, test_size=0.2)\n",
    "def kNN(x, D, k=1, d=lambda x, y: pairwise_distances(x, y)):\n",
    "    x = np.atleast_2d(x)\n",
    "    return (d(D, x).argsort(axis=0))[:k].T\n",
    "def regresion(x, D, respuesta, k=1,\n",
    "              d=lambda x, y: pairwise_distances(x, y)):\n",
    "    knn = respuesta[kNN(x, D, k=k, d=d)]\n",
    "    return knn.mean(axis=1)\n",
    "hy = regresion(G, T, y_t, k=200)\n",
    "error = np.fabs(y_g - hy).mean()\n",
    "error"
   ]
  },
  {
   "cell_type": "code",
   "execution_count": 33,
   "metadata": {},
   "outputs": [
    {
     "name": "stdout",
     "output_type": "stream",
     "text": [
      "Accuracy en el conjunto de entrenamiento: 1.0\n"
     ]
    },
    {
     "name": "stderr",
     "output_type": "stream",
     "text": [
      "/Users/aaron/opt/anaconda3/lib/python3.9/site-packages/sklearn/neighbors/_classification.py:228: FutureWarning: Unlike other reduction functions (e.g. `skew`, `kurtosis`), the default behavior of `mode` typically preserves the axis it acts along. In SciPy 1.11.0, this behavior will change: the default value of `keepdims` will become False, the `axis` over which the statistic is taken will be eliminated, and the value None will no longer be accepted. Set `keepdims` to True or False to avoid this warning.\n",
      "  mode, _ = stats.mode(_y[neigh_ind, k], axis=1)\n"
     ]
    }
   ],
   "source": [
    "from sklearn.datasets import make_classification\n",
    "from sklearn.neighbors import KNeighborsClassifier\n",
    "from sklearn.metrics import accuracy_score\n",
    "\n",
    "# Crear un conjunto de datos de ejemplo\n",
    "X, y = make_classification(n_samples=100, n_features=2, n_informative=2, n_redundant=0, random_state=42)\n",
    "\n",
    "# Crear un clasificador 1-NN\n",
    "knn = KNeighborsClassifier(n_neighbors=1)\n",
    "\n",
    "# Ajustar el clasificador en el conjunto de entrenamiento\n",
    "knn.fit(X, y)\n",
    "\n",
    "# Predecir las etiquetas en el conjunto de entrenamiento\n",
    "y_pred = knn.predict(X)\n",
    "\n",
    "# Calcular el accuracy en el conjunto de entrenamiento\n",
    "accuracy = accuracy_score(y, y_pred)\n",
    "\n",
    "print(\"Accuracy en el conjunto de entrenamiento:\", accuracy)\n"
   ]
  },
  {
   "cell_type": "code",
   "execution_count": 38,
   "metadata": {},
   "outputs": [
    {
     "name": "stdout",
     "output_type": "stream",
     "text": [
      "Accuracy en el conjunto de entrenamiento: 1.0\n"
     ]
    },
    {
     "name": "stderr",
     "output_type": "stream",
     "text": [
      "/Users/aaron/opt/anaconda3/lib/python3.9/site-packages/sklearn/neighbors/_classification.py:228: FutureWarning: Unlike other reduction functions (e.g. `skew`, `kurtosis`), the default behavior of `mode` typically preserves the axis it acts along. In SciPy 1.11.0, this behavior will change: the default value of `keepdims` will become False, the `axis` over which the statistic is taken will be eliminated, and the value None will no longer be accepted. Set `keepdims` to True or False to avoid this warning.\n",
      "  mode, _ = stats.mode(_y[neigh_ind, k], axis=1)\n"
     ]
    }
   ],
   "source": [
    "X, y = datasets.load_diabetes(return_X_y=True)\n",
    "# Crear un clasificador 1-NN\n",
    "knn = KNeighborsClassifier(n_neighbors=1)\n",
    "\n",
    "# Ajustar el clasificador en el conjunto de entrenamiento\n",
    "knn.fit(X, y)\n",
    "\n",
    "# Predecir las etiquetas en el conjunto de entrenamiento\n",
    "y_pred = knn.predict(X)\n",
    "\n",
    "# Calcular el accuracy en el conjunto de entrenamiento\n",
    "accuracy = accuracy_score(y, y_pred)\n",
    "\n",
    "print(\"Accuracy en el conjunto de entrenamiento:\", accuracy)"
   ]
  },
  {
   "cell_type": "code",
   "execution_count": 45,
   "metadata": {},
   "outputs": [
    {
     "name": "stdout",
     "output_type": "stream",
     "text": [
      "Accuracy en el conjunto de prueba: 0.45\n"
     ]
    },
    {
     "name": "stderr",
     "output_type": "stream",
     "text": [
      "/Users/aaron/opt/anaconda3/lib/python3.9/site-packages/sklearn/neighbors/_classification.py:228: FutureWarning: Unlike other reduction functions (e.g. `skew`, `kurtosis`), the default behavior of `mode` typically preserves the axis it acts along. In SciPy 1.11.0, this behavior will change: the default value of `keepdims` will become False, the `axis` over which the statistic is taken will be eliminated, and the value None will no longer be accepted. Set `keepdims` to True or False to avoid this warning.\n",
      "  mode, _ = stats.mode(_y[neigh_ind, k], axis=1)\n"
     ]
    }
   ],
   "source": [
    "import numpy as np\n",
    "from sklearn.datasets import make_classification\n",
    "from sklearn.neighbors import KNeighborsClassifier\n",
    "from sklearn.metrics import accuracy_score\n",
    "from sklearn.model_selection import train_test_split\n",
    "\n",
    "# Crear un conjunto de datos de ejemplo con ruido\n",
    "X, y = make_classification(n_samples=200, n_features=2, n_informative=2, n_redundant=0, random_state=42)\n",
    "\n",
    "# Introducir ruido en las etiquetas\n",
    "rng = np.random.RandomState(42)\n",
    "random_indices = rng.choice(200, size=20, replace=False)\n",
    "y[random_indices] = 1 - y[random_indices]\n",
    "\n",
    "# Dividir el conjunto de datos en entrenamiento y prueba\n",
    "X_train, X_test, y_train, y_test = train_test_split(X, y, test_size=0.2, random_state=42)\n",
    "\n",
    "# Crear un clasificador 1-NN\n",
    "knn = KNeighborsClassifier(n_neighbors=1)\n",
    "\n",
    "# Ajustar el clasificador en el conjunto de entrenamiento\n",
    "knn.fit(X_train, y_train)\n",
    "\n",
    "# Predecir las etiquetas en el conjunto de prueba\n",
    "y_pred = knn.predict(X_test)\n",
    "\n",
    "# Calcular el accuracy en el conjunto de prueba\n",
    "accuracy = accuracy_score(y_test, y_pred)\n",
    "\n",
    "print(\"Accuracy en el conjunto de prueba:\", accuracy)\n"
   ]
  },
  {
   "cell_type": "code",
   "execution_count": 46,
   "metadata": {},
   "outputs": [
    {
     "name": "stdout",
     "output_type": "stream",
     "text": [
      "Accuracy en el conjunto de entrenamiento: 1.0\n"
     ]
    },
    {
     "name": "stderr",
     "output_type": "stream",
     "text": [
      "/Users/aaron/opt/anaconda3/lib/python3.9/site-packages/sklearn/neighbors/_classification.py:228: FutureWarning: Unlike other reduction functions (e.g. `skew`, `kurtosis`), the default behavior of `mode` typically preserves the axis it acts along. In SciPy 1.11.0, this behavior will change: the default value of `keepdims` will become False, the `axis` over which the statistic is taken will be eliminated, and the value None will no longer be accepted. Set `keepdims` to True or False to avoid this warning.\n",
      "  mode, _ = stats.mode(_y[neigh_ind, k], axis=1)\n"
     ]
    }
   ],
   "source": [
    "import numpy as np\n",
    "from sklearn.datasets import make_classification\n",
    "from sklearn.neighbors import KNeighborsClassifier\n",
    "from sklearn.metrics import accuracy_score\n",
    "\n",
    "# Crear un conjunto de datos de ejemplo con ruido\n",
    "X, y = make_classification(n_samples=200, n_features=2, n_informative=2, n_redundant=0, random_state=42)\n",
    "\n",
    "# Introducir ruido en las etiquetas\n",
    "rng = np.random.RandomState(42)\n",
    "random_indices = rng.choice(200, size=20, replace=False)\n",
    "y[random_indices] = 1 - y[random_indices]\n",
    "\n",
    "# Crear un clasificador 1-NN\n",
    "knn = KNeighborsClassifier(n_neighbors=1)\n",
    "\n",
    "# Ajustar el clasificador en el conjunto de entrenamiento\n",
    "knn.fit(X, y)\n",
    "\n",
    "# Predecir las etiquetas en el conjunto de entrenamiento\n",
    "y_pred = knn.predict(X)\n",
    "\n",
    "# Calcular el accuracy en el conjunto de entrenamiento\n",
    "accuracy = accuracy_score(y, y_pred)\n",
    "\n",
    "print(\"Accuracy en el conjunto de entrenamiento:\", accuracy)\n"
   ]
  },
  {
   "cell_type": "code",
   "execution_count": null,
   "metadata": {},
   "outputs": [],
   "source": []
  }
 ],
 "metadata": {
  "kernelspec": {
   "display_name": "base",
   "language": "python",
   "name": "python3"
  },
  "language_info": {
   "codemirror_mode": {
    "name": "ipython",
    "version": 3
   },
   "file_extension": ".py",
   "mimetype": "text/x-python",
   "name": "python",
   "nbconvert_exporter": "python",
   "pygments_lexer": "ipython3",
   "version": "3.9.18"
  },
  "orig_nbformat": 4
 },
 "nbformat": 4,
 "nbformat_minor": 2
}
