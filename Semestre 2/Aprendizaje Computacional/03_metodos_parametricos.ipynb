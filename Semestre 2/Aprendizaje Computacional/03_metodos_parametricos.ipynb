{
 "cells": [
  {
   "cell_type": "markdown",
   "id": "6b8258d6-3aa1-4aec-bce0-436900219c26",
   "metadata": {
    "tags": []
   },
   "source": [
    "<div style=\"display: flex;\">\n",
    "    <div style=\"flex: 1;\">\n",
    "        <h1>Aprendizaje computacional 2023</h1>\n",
    "        <h2>Unidad 3 - Métodos paramétricos</h2>\n",
    "        <p><strong>Nombre:</strong> David Aaron Ramirez Olmeda<br>\n",
    "        <strong>Programa:</strong> Maestría en Ciencia de Datos e Información</p>\n",
    "    </div>\n",
    "    <img src=\"https://pbs.twimg.com/profile_images/1674912653049774081/Lj1u22X8_400x400.jpg\" alt=\"Imagen de Portada\" width=\"170\" height=\"170\">\n",
    "</div>"
   ]
  },
  {
   "cell_type": "code",
   "execution_count": 13,
   "id": "debf1f8a-19ca-4739-b29e-87005ba03df2",
   "metadata": {},
   "outputs": [],
   "source": [
    "from EvoMSA.model import GaussianBayes\n",
    "from sklearn.linear_model import LinearRegression\n",
    "from sklearn.model_selection import train_test_split\n",
    "from sklearn.datasets import load_breast_cancer, load_diabetes\n",
    "from scipy.stats import norm, multivariate_normal\n",
    "from scipy.special import logsumexp\n",
    "from matplotlib import pylab as plt\n",
    "import numpy as np\n",
    "import pandas as pd\n",
    "import seaborn as sns\n",
    "sns.set_theme()\n",
    "import os\n",
    "\n",
    "T = np.loadtxt('delitos/delitos_train_data.csv', delimiter=',')\n",
    "y_t = np.loadtxt('delitos/delitos_train_label.csv', delimiter=',')\n",
    "G = np.loadtxt('delitos/delitos_test_data.csv', delimiter=',')\n",
    "y_g = np.loadtxt('delitos/delitos_test_label.csv', delimiter=',')\n",
    "\n",
    "gaussian = GaussianBayes().fit(T, y_t)\n",
    "naive = GaussianBayes(naive=True).fit(T, y_t)\n",
    "\n",
    "hy_gaussian = gaussian.predict(G)\n",
    "hy_naive = naive.predict(G)\n",
    "\n",
    "error_gaussian = (y_g != hy_gaussian).mean()\n",
    "error_naive = (y_g != hy_naive).mean()\n",
    "\n",
    "error_gaussian\n",
    "\n",
    "error_naive\n",
    "\n",
    "diff = (y_g != hy_naive).mean() -  (y_g != hy_gaussian).mean()\n",
    "\n",
    "S = np.random.randint(y_g.shape[0],\n",
    "                      size=(500, y_g.shape[0]))\n",
    "B = [(y_g[s] != hy_naive[s]).mean() -  (y_g[s] != hy_gaussian[s]).mean()\n",
    "     for s in S]\n",
    "se = np.std(B, axis=0)\n",
    "\n",
    "sns.displot(B, kde=True)"
   ]
  },
  {
   "cell_type": "code",
   "execution_count": 14,
   "id": "f109f70b-8486-4116-baa4-8bc56f7c99ac",
   "metadata": {},
   "outputs": [
    {
     "data": {
      "text/plain": [
       "0.29826272043877583"
      ]
     },
     "execution_count": 14,
     "metadata": {},
     "output_type": "execute_result"
    }
   ],
   "source": [
    "dist = norm(loc=diff, scale=se)\n",
    "dist.cdf(0)"
   ]
  },
  {
   "cell_type": "code",
   "execution_count": null,
   "id": "124a97c9-d423-4108-990c-28c75f72e2ae",
   "metadata": {},
   "outputs": [],
   "source": []
  }
 ],
 "metadata": {
  "kernelspec": {
   "display_name": "Python 3 (ipykernel)",
   "language": "python",
   "name": "python3"
  },
  "language_info": {
   "codemirror_mode": {
    "name": "ipython",
    "version": 3
   },
   "file_extension": ".py",
   "mimetype": "text/x-python",
   "name": "python",
   "nbconvert_exporter": "python",
   "pygments_lexer": "ipython3",
   "version": "3.9.13"
  }
 },
 "nbformat": 4,
 "nbformat_minor": 5
}
