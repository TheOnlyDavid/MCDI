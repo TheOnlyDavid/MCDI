{
 "cells": [
  {
   "cell_type": "markdown",
   "metadata": {},
   "source": [
    "<div style=\"display: flex;\">\n",
    "    <div style=\"flex: 1;\">\n",
    "        <h1>Seminario de Proyectos</h1>\n",
    "        <h2>2D. Ensayo. Planteamiento del problema</h2>\n",
    "        <p><strong>Nombre:</strong> David Aaron Ramirez Olmeda<br>\n",
    "        <strong>Programa:</strong> Maestría en Ciencia de Datos e Información</p>\n",
    "    </div>\n",
    "    <img src=\"https://pbs.twimg.com/profile_images/1674912653049774081/Lj1u22X8_400x400.jpg\" alt=\"Imagen de Portada\" width=\"170\" height=\"170\">\n",
    "</div>"
   ]
  },
  {
   "cell_type": "code",
   "execution_count": null,
   "metadata": {},
   "outputs": [],
   "source": [
    "data=pd.read_csv('datos2.csv').values[1:,1:]"
   ]
  }
 ],
 "metadata": {
  "kernelspec": {
   "display_name": "Python 3",
   "language": "python",
   "name": "python3"
  },
  "language_info": {
   "codemirror_mode": {
    "name": "ipython",
    "version": 3
   },
   "file_extension": ".py",
   "mimetype": "text/x-python",
   "name": "python",
   "nbconvert_exporter": "python",
   "pygments_lexer": "ipython3",
   "version": "3.9.6"
  },
  "orig_nbformat": 4
 },
 "nbformat": 4,
 "nbformat_minor": 2
}
