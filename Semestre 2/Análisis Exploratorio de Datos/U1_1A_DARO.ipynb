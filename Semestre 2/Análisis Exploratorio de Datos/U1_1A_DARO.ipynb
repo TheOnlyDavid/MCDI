{
 "cells": [
  {
   "cell_type": "markdown",
   "id": "733e33db",
   "metadata": {},
   "source": [
    "<div style=\"display: flex;\">\n",
    "    <div style=\"flex: 1;\">\n",
    "        <h1>SAnálisis Exploratorio de Datos 2023</h1>\n",
    "        <h2>U1 - 1A</h2>\n",
    "        <h3>Uso básico de librerías de graficación</h3>\n",
    "        <p><strong>Nombre:</strong> David Aaron Ramirez Olmeda<br>\n",
    "        <strong>Programa:</strong> Maestría en Ciencia de Datos e Información</p>\n",
    "    </div>\n",
    "    <img src=\"https://scontent.fcul2-1.fna.fbcdn.net/v/t39.30808-6/357432505_662449529254685_507850031498699830_n.jpg?_nc_cat=108&ccb=1-7&_nc_sid=09cbfe&_nc_ohc=-3D382E8vG4AX_1wn03&_nc_ht=scontent.fcul2-1.fna&oh=00_AfCIvhU6paJN_kuhRg8E4QAErpJD_TnjF8jST4q1apitiw&oe=64E8294A\" alt=\"Imagen de Portada\" width=\"170\" height=\"170\">\n",
    "</div>\n",
    "\n",
    "### Introducción\n",
    "Esta tarea se basa en la exploración y visualización de datos generados a partir de un código que encontré en internet, tras haber sido inspirado por un instructivo video sobre información relacionada con aplicaciones de citas. La oportunidad de emplear estos datos en la creación de visualizaciones y poner en práctica los conceptos aprendidos en esta unidad resultó sumamente atractiva. En caso de tener el tiempo disponible, recomiendo ver el video mencionado, el cual se encuentra en la sección de referencias, ese material está relacionado al análisis exploratorio de datos y a la ciencia de los datos en general.\n",
    "\n",
    "### Desarrollo\n",
    "\n",
    "Sin tantas complicaciones, veremos primero un fragmento del pequeño, pero de gran potencial, set de datos y lo usaremos para crear, en este caso, dos visulizaciones que darán gran información sobre el comportamiento de las personas en las apps de citas."
   ]
  },
  {
   "cell_type": "code",
   "execution_count": 1,
   "id": "7f3cdd01",
   "metadata": {},
   "outputs": [],
   "source": [
    "import pandas as pd\n",
    "import matplotlib.pyplot as plt\n",
    "import ipywidgets as widgets\n",
    "from ipywidgets import interactive"
   ]
  },
  {
   "cell_type": "code",
   "execution_count": 6,
   "id": "69b41db2",
   "metadata": {},
   "outputs": [
    {
     "name": "stdout",
     "output_type": "stream",
     "text": [
      "   gender  attractiveness  likes  matches\n",
      "0  FEMALE        0.255020     46        3\n",
      "1  FEMALE        0.239791     40        3\n"
     ]
    }
   ],
   "source": [
    "ruta_archivo = '/Users/aaron/Documentos/MCDI/Semestre 2/Análisis Exploratorio de Datos'\n",
    "\n",
    "user_data = pd.read_csv(ruta_archivo + '/user_data.csv')\n",
    "print(user_data.head(2))"
   ]
  },
  {
   "cell_type": "code",
   "execution_count": 15,
   "id": "18e7bf52",
   "metadata": {},
   "outputs": [
    {
     "data": {
      "application/vnd.jupyter.widget-view+json": {
       "model_id": "642df701935d4d65a63d49bc5be87f23",
       "version_major": 2,
       "version_minor": 0
      },
      "text/plain": [
       "VBox(children=(Dropdown(description='Filtrar por género:', options=('FEMALE', 'MALE'), value='FEMALE'), Dropdo…"
      ]
     },
     "metadata": {},
     "output_type": "display_data"
    }
   ],
   "source": [
    "def plot_2(x_column, y_column, gender_filter):\n",
    "    filtered_data = user_data[user_data['gender'] == gender_filter]\n",
    "    plt.figure(figsize=(10, 6))\n",
    "    plt.scatter(filtered_data[x_column], filtered_data[y_column])\n",
    "    plt.xlabel(x_column)\n",
    "    plt.ylabel(y_column)\n",
    "    plt.title(f'{y_column} vs. {x_column} ({gender_filter})')\n",
    "    plt.grid(True)\n",
    "    plt.show()\n",
    "\n",
    "x_widget = widgets.Dropdown(options=user_data.columns, description='X:')\n",
    "y_widget = widgets.Dropdown(options=user_data.columns, description='Y:')\n",
    "gender_filter_widget = widgets.Dropdown(options=user_data['gender'].unique(), description='Filtrar por género:')\n",
    "\n",
    "interactive_plot = interactive(plot_2, x_column=x_widget, y_column=y_widget, gender_filter=gender_filter_widget)\n",
    "output = interactive_plot.children[-1]\n",
    "\n",
    "widgets.VBox([gender_filter_widget, x_widget, y_widget, output])"
   ]
  },
  {
   "cell_type": "code",
   "execution_count": 14,
   "id": "81ceeafc",
   "metadata": {},
   "outputs": [
    {
     "data": {
      "application/vnd.jupyter.widget-view+json": {
       "model_id": "15198d5c42cf4c388dc04e1dc8b9790d",
       "version_major": 2,
       "version_minor": 0
      },
      "text/plain": [
       "VBox(children=(Dropdown(description='Agrupar por:', options=('gender',), value='gender'), Dropdown(description…"
      ]
     },
     "metadata": {},
     "output_type": "display_data"
    }
   ],
   "source": [
    "def plot_1(group_column, y_column):\n",
    "    data = user_data.groupby([group_column, pd.cut(user_data['attractiveness'], bins=5)])\\\n",
    "                            [y_column].sum().unstack()\n",
    "    data.plot(kind='bar', stacked=True, figsize=(10, 6))\n",
    "    plt.xlabel(group_column)\n",
    "    plt.ylabel(y_column + ' (Suma)')\n",
    "    plt.title(f'{y_column} por {group_column} y Nivel de Atractivo')\n",
    "    plt.grid(True)\n",
    "    plt.legend(title='Nivel de Atractivo')\n",
    "    plt.show()\n",
    "\n",
    "group_widget = widgets.Dropdown(options=['gender'], description='Agrupar por:')\n",
    "y_widget = widgets.Dropdown(options=['likes', 'matches'], description='Y:')\n",
    "\n",
    "interactive_plot = interactive(plot_1, group_column=group_widget, y_column=y_widget)\n",
    "output = interactive_plot.children[-1]\n",
    "\n",
    "widgets.VBox([group_widget, y_widget, output])"
   ]
  },
  {
   "cell_type": "markdown",
   "id": "a27c2a42",
   "metadata": {},
   "source": [
    "### Conclusión\n",
    "En esta tarea, nuestro enfoque se centró en la exploración y aplicación de herramientas de visualización y widgets. A través de esta hemos obtenido un mayor entendimiento sobre cómo utilizar estas herramientas para analizar y presentar datos. Tuvimos la oportunidad de examinar dinámicamente los patrones y comportamientos generales de las personas en la aplicación de citas.\n",
    "\n",
    "### Referencias\n",
    "Memeable Data. (2023, Julio 12). Why Men Get So Few Matches on Dating Apps. Recuperado de https://memeabledata.simple.ink/why-men-get-so-few-matches-on-dating-apps-3e239cfee5a74c0f8746f39a9c1b00a7"
   ]
  }
 ],
 "metadata": {
  "kernelspec": {
   "display_name": "Python 3 (ipykernel)",
   "language": "python",
   "name": "python3"
  },
  "language_info": {
   "codemirror_mode": {
    "name": "ipython",
    "version": 3
   },
   "file_extension": ".py",
   "mimetype": "text/x-python",
   "name": "python",
   "nbconvert_exporter": "python",
   "pygments_lexer": "ipython3",
   "version": "3.9.13"
  }
 },
 "nbformat": 4,
 "nbformat_minor": 5
}
