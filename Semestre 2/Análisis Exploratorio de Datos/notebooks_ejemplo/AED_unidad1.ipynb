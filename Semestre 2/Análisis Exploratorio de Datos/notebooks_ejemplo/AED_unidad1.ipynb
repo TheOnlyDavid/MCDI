{
 "cells": [
  {
   "cell_type": "code",
   "execution_count": 2,
   "metadata": {
    "id": "gjRGolwtcKfj"
   },
   "outputs": [],
   "source": [
    "from sklearn import datasets\n",
    "import pandas as pd\n",
    "import numpy as np\n",
    "import matplotlib.pyplot as plt\n",
    "from ipywidgets import interact, interactive, fixed, interact_manual, interactive_output"
   ]
  },
  {
   "cell_type": "markdown",
   "metadata": {
    "id": "rI_Ts9DXqiz2"
   },
   "source": [
    "# Introducción\n",
    "\n",
    "Este curso trataremos con algoritmos para el análisis de conjuntos de datos, como datos que pueden provenir de procesos industriales, comerciales, imagenes, documentos de texto y estructurados.   El anális exploratorio está intimamente relacionado con la minería de datos, descubrimiento de conocimiento y los procesos (KDD Knowledge Discovery in Databases) y CRISP-DM. Los proyectos típicos de análisis de datos se pueden dividir en varias fases: preparación, preprocesamiento, análisis y postprocesamiento. En este curso nos centraremos pincipalmente la fase análisis y preprocesamiento.\n",
    "\n",
    "## Minería de datos\n",
    "\n",
    "La minería de datos  es la tarea de extraer conocimiento a partir de datos. Esto mediante la idnentificación de patrones útiles para la descripción de procesos y la toma de decisiones.  En general la útilidad de los patrones obtenidos deben ser corroborada por expertos en el dominio en donde son generadados los datos bajo estudio materia. Basándose en la retroalimentación de los expertos, el proceso de extracción de conocimiento a menudo se refina de manera interactiva.\n",
    "\n",
    "## Análisis de datos\n",
    "\n",
    "\n",
    "\n",
    "Por otro lado el análisis consiste en la aplicación de algorimos computacionales para el procesamiento y análisis de grandes conjuntos de datos. Los algoritmos y métodos utilizados son tomados de otras disciplinas científicas como estadísticas, aprendizaje automático, reconocimiento de patrones, teoría de sistemas, investigación de operaciones y inteligencia artificial.\n",
    "\n",
    "\n",
    "### Proyecto de análisis de datos\n",
    "\n",
    "Los proyectos de análisis de datos se pueden dividir en varias fases.\n",
    "\n",
    "1. **Preparación** Recolección y seleccción de datos, generación de características.\n",
    "2. **Preporocesamiento** Limpieza, filtrado imputación, correción, estandarízación..\n",
    "3. **Análsis** Visualización, correlación, clasificación, regresión, pronósticos, agurpamiento.\n",
    "4. **Postprocesamiento** Interpretación, documemtación, evaluación.\n",
    "\n",
    "En el presente curso de **Análisis exploratorio** presentaremos algunas ideas básicas de la fáse de preprocesamiento  y análisis que permitan realizar un exploración \"rápido\" para establecer el marco para la relización de un análisis más profundo. Nuestro estudio se centrará en algunos métodos de preprocesamiento y análisis: sobre datos  estrucuturados y no extructurados, aplicando diferentes  técnicas de  visualización y agrupamiento.\n"
   ]
  },
  {
   "cell_type": "markdown",
   "metadata": {
    "id": "RkESiwB-SGKk"
   },
   "source": [
    "## Conjuntos de Datos\n",
    "\n",
    "Un conjunto de datos (**dataset**) es una colección de datos que se utiliza para responder preguntas o tomar decisiones. Un datset generalmente consta de un conjunto de observaciones, donde cada observación está compuesta de un grupo de variables; donde las observaciones son los puntos de datos individuales y las variables son las características de los datos.\n",
    "\n",
    "Las características pueden ser definidas en diferentes espacios y contextos, algunos de los tipos principales son:\n",
    "-  **Numéricos**: este tipo de datos representan números. Pueden ser discretos (números enteros) o continuos (números con decimales). Algunos ejemplos de datos numéricos incluyen la edad, la altura, el peso y el precio.\n",
    "- **Categóricos**: este tipo de datos representa categorías. Puede ser nominal (categorías sin orden inherente) u ordinal (categorías con un orden inherente). Como ejemplos de atributos categóricos podemos considear el género, color de ojos y estado de residencia.\n",
    "- **Texto**: este tipo de datos representa documentos escritos. Puede ser no estructurado (texto de forma libre) o estructurado (texto que sigue un formato específico). Ejemplos de datos  textuales incluyen reseñas de productos, tickets de atención al cliente y publicaciones en redes sociales.\n",
    "- **Fecha y hora**: este tipo de datos representa fechas y horas. Puede ser absoluto (fecha y hora específicas) o relativo (una fecha u hora relativa a otra fecha u hora). Ejemplos de datos de fecha y hora incluyen fecha de nacimiento, orden fecha y hora de llegada.\n",
    "- **Datos espaciales**: este tipo de datos representa ubicaciones. Pueden ser puntos (una sola ubicación), rutas (una serie de ubicaciones conectadas) o polígonos (un área cerrada). Ejemplos de datos espaciales incluyen coordenadas GPS, direcciones de calles y fronteras.\n",
    "\n",
    "### El dataset Iris\n",
    "\n",
    "El dataset de Iris es uno de los conjuntos más utilizados para introducir los conceptos básicos del análisis de datos y aprendizaje automático.  El conjunto de datos Iris fue creado originalmente en 1935 por el botánico estadounidense Edgar Anderson, quien examinó la distribución geográfica de las flores de Iris en la península de Gaspé en Quebec (Canadá).\n",
    "El conjunto de datos de Iris esta conformado por 150 mediciones de muestrar deflores de Iris: 50 de cada una de las tres especies Iris Setosa, Iris Virginica e Iris Versicolor.  Para cada una de las 150 flores, se midieron los valores de cuatro características numéricas elegidas por Anderson: el longitud y el ancho de las hojas de sépalo y pétalo en centímetros. Desde la libreria `sklearn` en el módulo `dataset` podemos acceder al dataset de Iris."
   ]
  },
  {
   "cell_type": "code",
   "execution_count": null,
   "metadata": {
    "colab": {
     "base_uri": "https://localhost:8080/"
    },
    "id": "eJiUZk-LSFuS",
    "outputId": "c599a571-a55d-4e74-f6dd-4bf579d20734"
   },
   "outputs": [
    {
     "data": {
      "text/plain": [
       "(150, 4)"
      ]
     },
     "execution_count": 2,
     "metadata": {},
     "output_type": "execute_result"
    }
   ],
   "source": [
    "iris = datasets.load_iris()\n",
    "X = iris.data # obtenemos las muestras\n",
    "X.shape # 150 muestras con 4 caracterisitcas cada una"
   ]
  },
  {
   "cell_type": "code",
   "execution_count": null,
   "metadata": {
    "colab": {
     "base_uri": "https://localhost:8080/"
    },
    "id": "5JOfd5EQrf1V",
    "outputId": "abb8296c-e8be-4912-e177-9b039bf47942"
   },
   "outputs": [
    {
     "data": {
      "text/plain": [
       "['sepal length (cm)',\n",
       " 'sepal width (cm)',\n",
       " 'petal length (cm)',\n",
       " 'petal width (cm)']"
      ]
     },
     "execution_count": 3,
     "metadata": {},
     "output_type": "execute_result"
    }
   ],
   "source": [
    "iris.feature_names # podemos ver la descripción de cada caractericica"
   ]
  },
  {
   "cell_type": "code",
   "execution_count": null,
   "metadata": {
    "id": "XPrONJkYdDYG"
   },
   "outputs": [],
   "source": [
    "df=pd.DataFrame(columns=iris.feature_names+['tipo'], data=np.hstack((X,iris.target.reshape((-1,1))))) # Para una visualización más fancy"
   ]
  },
  {
   "cell_type": "code",
   "execution_count": null,
   "metadata": {
    "colab": {
     "base_uri": "https://localhost:8080/",
     "height": 206
    },
    "id": "butRiZDQdVS5",
    "outputId": "eb96e889-87d1-4685-9f09-ff9749f7bde6"
   },
   "outputs": [
    {
     "data": {
      "text/html": [
       "\n",
       "  <div id=\"df-7fe03653-8a50-43b7-9f54-7e242f5da4c9\">\n",
       "    <div class=\"colab-df-container\">\n",
       "      <div>\n",
       "<style scoped>\n",
       "    .dataframe tbody tr th:only-of-type {\n",
       "        vertical-align: middle;\n",
       "    }\n",
       "\n",
       "    .dataframe tbody tr th {\n",
       "        vertical-align: top;\n",
       "    }\n",
       "\n",
       "    .dataframe thead th {\n",
       "        text-align: right;\n",
       "    }\n",
       "</style>\n",
       "<table border=\"1\" class=\"dataframe\">\n",
       "  <thead>\n",
       "    <tr style=\"text-align: right;\">\n",
       "      <th></th>\n",
       "      <th>sepal length (cm)</th>\n",
       "      <th>sepal width (cm)</th>\n",
       "      <th>petal length (cm)</th>\n",
       "      <th>petal width (cm)</th>\n",
       "      <th>tipo</th>\n",
       "    </tr>\n",
       "  </thead>\n",
       "  <tbody>\n",
       "    <tr>\n",
       "      <th>0</th>\n",
       "      <td>5.1</td>\n",
       "      <td>3.5</td>\n",
       "      <td>1.4</td>\n",
       "      <td>0.2</td>\n",
       "      <td>0.0</td>\n",
       "    </tr>\n",
       "    <tr>\n",
       "      <th>1</th>\n",
       "      <td>4.9</td>\n",
       "      <td>3.0</td>\n",
       "      <td>1.4</td>\n",
       "      <td>0.2</td>\n",
       "      <td>0.0</td>\n",
       "    </tr>\n",
       "    <tr>\n",
       "      <th>2</th>\n",
       "      <td>4.7</td>\n",
       "      <td>3.2</td>\n",
       "      <td>1.3</td>\n",
       "      <td>0.2</td>\n",
       "      <td>0.0</td>\n",
       "    </tr>\n",
       "    <tr>\n",
       "      <th>3</th>\n",
       "      <td>4.6</td>\n",
       "      <td>3.1</td>\n",
       "      <td>1.5</td>\n",
       "      <td>0.2</td>\n",
       "      <td>0.0</td>\n",
       "    </tr>\n",
       "    <tr>\n",
       "      <th>4</th>\n",
       "      <td>5.0</td>\n",
       "      <td>3.6</td>\n",
       "      <td>1.4</td>\n",
       "      <td>0.2</td>\n",
       "      <td>0.0</td>\n",
       "    </tr>\n",
       "  </tbody>\n",
       "</table>\n",
       "</div>\n",
       "      <button class=\"colab-df-convert\" onclick=\"convertToInteractive('df-7fe03653-8a50-43b7-9f54-7e242f5da4c9')\"\n",
       "              title=\"Convert this dataframe to an interactive table.\"\n",
       "              style=\"display:none;\">\n",
       "        \n",
       "  <svg xmlns=\"http://www.w3.org/2000/svg\" height=\"24px\"viewBox=\"0 0 24 24\"\n",
       "       width=\"24px\">\n",
       "    <path d=\"M0 0h24v24H0V0z\" fill=\"none\"/>\n",
       "    <path d=\"M18.56 5.44l.94 2.06.94-2.06 2.06-.94-2.06-.94-.94-2.06-.94 2.06-2.06.94zm-11 1L8.5 8.5l.94-2.06 2.06-.94-2.06-.94L8.5 2.5l-.94 2.06-2.06.94zm10 10l.94 2.06.94-2.06 2.06-.94-2.06-.94-.94-2.06-.94 2.06-2.06.94z\"/><path d=\"M17.41 7.96l-1.37-1.37c-.4-.4-.92-.59-1.43-.59-.52 0-1.04.2-1.43.59L10.3 9.45l-7.72 7.72c-.78.78-.78 2.05 0 2.83L4 21.41c.39.39.9.59 1.41.59.51 0 1.02-.2 1.41-.59l7.78-7.78 2.81-2.81c.8-.78.8-2.07 0-2.86zM5.41 20L4 18.59l7.72-7.72 1.47 1.35L5.41 20z\"/>\n",
       "  </svg>\n",
       "      </button>\n",
       "      \n",
       "  <style>\n",
       "    .colab-df-container {\n",
       "      display:flex;\n",
       "      flex-wrap:wrap;\n",
       "      gap: 12px;\n",
       "    }\n",
       "\n",
       "    .colab-df-convert {\n",
       "      background-color: #E8F0FE;\n",
       "      border: none;\n",
       "      border-radius: 50%;\n",
       "      cursor: pointer;\n",
       "      display: none;\n",
       "      fill: #1967D2;\n",
       "      height: 32px;\n",
       "      padding: 0 0 0 0;\n",
       "      width: 32px;\n",
       "    }\n",
       "\n",
       "    .colab-df-convert:hover {\n",
       "      background-color: #E2EBFA;\n",
       "      box-shadow: 0px 1px 2px rgba(60, 64, 67, 0.3), 0px 1px 3px 1px rgba(60, 64, 67, 0.15);\n",
       "      fill: #174EA6;\n",
       "    }\n",
       "\n",
       "    [theme=dark] .colab-df-convert {\n",
       "      background-color: #3B4455;\n",
       "      fill: #D2E3FC;\n",
       "    }\n",
       "\n",
       "    [theme=dark] .colab-df-convert:hover {\n",
       "      background-color: #434B5C;\n",
       "      box-shadow: 0px 1px 3px 1px rgba(0, 0, 0, 0.15);\n",
       "      filter: drop-shadow(0px 1px 2px rgba(0, 0, 0, 0.3));\n",
       "      fill: #FFFFFF;\n",
       "    }\n",
       "  </style>\n",
       "\n",
       "      <script>\n",
       "        const buttonEl =\n",
       "          document.querySelector('#df-7fe03653-8a50-43b7-9f54-7e242f5da4c9 button.colab-df-convert');\n",
       "        buttonEl.style.display =\n",
       "          google.colab.kernel.accessAllowed ? 'block' : 'none';\n",
       "\n",
       "        async function convertToInteractive(key) {\n",
       "          const element = document.querySelector('#df-7fe03653-8a50-43b7-9f54-7e242f5da4c9');\n",
       "          const dataTable =\n",
       "            await google.colab.kernel.invokeFunction('convertToInteractive',\n",
       "                                                     [key], {});\n",
       "          if (!dataTable) return;\n",
       "\n",
       "          const docLinkHtml = 'Like what you see? Visit the ' +\n",
       "            '<a target=\"_blank\" href=https://colab.research.google.com/notebooks/data_table.ipynb>data table notebook</a>'\n",
       "            + ' to learn more about interactive tables.';\n",
       "          element.innerHTML = '';\n",
       "          dataTable['output_type'] = 'display_data';\n",
       "          await google.colab.output.renderOutput(dataTable, element);\n",
       "          const docLink = document.createElement('div');\n",
       "          docLink.innerHTML = docLinkHtml;\n",
       "          element.appendChild(docLink);\n",
       "        }\n",
       "      </script>\n",
       "    </div>\n",
       "  </div>\n",
       "  "
      ],
      "text/plain": [
       "   sepal length (cm)  sepal width (cm)  petal length (cm)  petal width (cm)  \\\n",
       "0                5.1               3.5                1.4               0.2   \n",
       "1                4.9               3.0                1.4               0.2   \n",
       "2                4.7               3.2                1.3               0.2   \n",
       "3                4.6               3.1                1.5               0.2   \n",
       "4                5.0               3.6                1.4               0.2   \n",
       "\n",
       "   tipo  \n",
       "0   0.0  \n",
       "1   0.0  \n",
       "2   0.0  \n",
       "3   0.0  \n",
       "4   0.0  "
      ]
     },
     "execution_count": 5,
     "metadata": {},
     "output_type": "execute_result"
    }
   ],
   "source": [
    "df.head() # mostramos las primeras 5 muestras"
   ]
  },
  {
   "cell_type": "code",
   "execution_count": null,
   "metadata": {
    "colab": {
     "base_uri": "https://localhost:8080/",
     "height": 450
    },
    "id": "nK4H7O35dW8K",
    "outputId": "520238db-952e-41fa-b394-77bd16f1a36b"
   },
   "outputs": [
    {
     "data": {
      "text/plain": [
       "<matplotlib.collections.PathCollection at 0x7f165bada140>"
      ]
     },
     "execution_count": 6,
     "metadata": {},
     "output_type": "execute_result"
    },
    {
     "data": {
      "image/png": "[encoded data removed]",
      "text/plain": [
       "<Figure size 640x480 with 1 Axes>"
      ]
     },
     "metadata": {},
     "output_type": "display_data"
    }
   ],
   "source": [
    "# graficamos el ancho contra el largo de sepalo\n",
    "plt.scatter(df['sepal length (cm)'], df['sepal width (cm)'], c=df['tipo'])"
   ]
  },
  {
   "cell_type": "markdown",
   "metadata": {
    "id": "-Syct395fOzU"
   },
   "source": [
    "En el análisis de datos llamamos a cada una de las 150 flores de Iris un objeto, cada una de las cuatro dimensiones una característica o atributo, mientras que la clase es la familia a la que pertenece(en la figura la utilizamos para colorear cada objeto).\n",
    "\n",
    "A continuación listamos algunas de las preguntas típicas que tratamos de responder mediante el análisis de datos:\n",
    "\n",
    "-  ¿Cuál de los datos podría contener errores o asignaciones de clases falsas?\n",
    "- ¿Cuál es el error que se produce al redondear los datos a un decimal?\n",
    "- ¿Cuál es la correlación entre la longitud y el ancho de los pétalos?\n",
    "- ¿Qué par de dimensiones está más correlacionado?\n",
    "- ¿Cual es el ancho máximo del sepalo de un flore?\n",
    "- ¿Qué se esperaría de una flor que tuviera 1.8 cm como ancho de sépalo?\n",
    "• ¿A qué especie pertenecería un instancia del conjunto con un ancho de sépalo de 1.8 cm?\n",
    "• ¿Las tres especies contienen subespecies que se pueden identificar a partir de los datos?"
   ]
  },
  {
   "cell_type": "markdown",
   "metadata": {
    "id": "SZ0Lh3AUgeYY"
   },
   "source": [
    "\n"
   ]
  },
  {
   "cell_type": "markdown",
   "metadata": {
    "id": "5oUdbIXWgYO_"
   },
   "source": [
    "\n",
    "## Estableciendo relaciones entre datos\n",
    "\n",
    "\n",
    "Las matemáticas nos permiten establecer relaciones entre los números reales, las relaciones más utilizadas son del tipo $>,<,\\geq, \\leq, =, \\neq$. En anális de datos establecer relaciones entre elementos de un conjunto de datos es de capital importancia. Por ello dedicaremos un par de secciones para revisar algunos conceptos relacionados con este ámbito.\n",
    "\n",
    "Las tipos de datos (nominal, ordinal, intervalo, razón) deben tenerse en cuenta porque ciertas operaciones matemáticas son apropiadas solo para algunos tipos específicos. Los datos numéricos se pueden representar mediante conjuntos, vectores o matrices.  Cuando tratamos con datos númericos a menudo  las relaciones se establece mediante medidas de disimilitud/distancia (Lebesgue, Minkowski, Bray-Curtis, Canberra, etc) o en medidas de similitud (como el coseno, Dice, Jaccard, Tanimoto). Las secuencias se pueden analizar utilizando relaciones de secuencia (como la distancia de Hamming o la distancia de edición).\n",
    "\n",
    "### Escalas\n",
    "Las medidas numéricas pueden tener diferentes significados semánticos, y las relaciones y estadísticas que podemos aplicara serán distintas. La siguiente tabla muestra algunos de los ejemplos más utilizados.\n"
   ]
  },
  {
   "cell_type": "markdown",
   "metadata": {
    "id": "DsdqsdOMhb5g"
   },
   "source": [
    "Escala   | Operaciones | Ejemplo | Estadisticas\n",
    "-------- |-----------|-------------|------------\n",
    "Razón     | $*, /$      |21 años,273K      | Media\n",
    "Intervalo |$+,-$        |2000 AC, 35ºF.    | Media\n",
    "Ordinal   |$>,<$        | A, B+, B, C+, C  | Mediana\n",
    "Nominal   |$=, \\neq$    | Rojo, verde, azul| Moda\n",
    "----------------------------------------------------\n",
    "**Escalas para diferentes tipos de datos**"
   ]
  },
  {
   "cell_type": "markdown",
   "metadata": {
    "id": "W6BR7I95kYJq"
   },
   "source": [
    "De la tabla podemo leer por ejemplo que los datos nominales (fila inferior), solo son válidas las pruebas de igualdad o desigualdad. Los valores de una característica nominal se pueden representar mediante la moda, que se define como el valor mas fecuente. Para los atributos intervalo las operaciones de suma y resta (segunda fila) son válidas Las características escaladas de intervalo tienen puntos cero arbitrarios en el sistema de datación Anno Domini o temperaturas en grados Celsius (centígrados) o Fahrenheit, por lo que, por ejemplo, no tiene sentido decir que 40◦ C es el doble de 20◦ C. Los datos de una característica a escala de intervalo, por ejemplo, un conjunto de valores $X = \\{x_1,\\dots, x_n\\}$, se pueden representar mediante la media (revisaremos más acerca de algunos estadísticos en secciones posteriores)."
   ]
  },
  {
   "cell_type": "code",
   "execution_count": null,
   "metadata": {
    "colab": {
     "base_uri": "https://localhost:8080/",
     "height": 300
    },
    "id": "kRjg-1cteJ1j",
    "outputId": "6f96b2ad-fdaa-44fb-92a7-713536168a9d"
   },
   "outputs": [
    {
     "data": {
      "text/html": [
       "\n",
       "  <div id=\"df-2e87c7db-b3f3-43f2-931e-a9a15a92e33d\">\n",
       "    <div class=\"colab-df-container\">\n",
       "      <div>\n",
       "<style scoped>\n",
       "    .dataframe tbody tr th:only-of-type {\n",
       "        vertical-align: middle;\n",
       "    }\n",
       "\n",
       "    .dataframe tbody tr th {\n",
       "        vertical-align: top;\n",
       "    }\n",
       "\n",
       "    .dataframe thead th {\n",
       "        text-align: right;\n",
       "    }\n",
       "</style>\n",
       "<table border=\"1\" class=\"dataframe\">\n",
       "  <thead>\n",
       "    <tr style=\"text-align: right;\">\n",
       "      <th></th>\n",
       "      <th>sepal length (cm)</th>\n",
       "      <th>sepal width (cm)</th>\n",
       "      <th>petal length (cm)</th>\n",
       "      <th>petal width (cm)</th>\n",
       "      <th>tipo</th>\n",
       "    </tr>\n",
       "  </thead>\n",
       "  <tbody>\n",
       "    <tr>\n",
       "      <th>count</th>\n",
       "      <td>150.000000</td>\n",
       "      <td>150.000000</td>\n",
       "      <td>150.000000</td>\n",
       "      <td>150.000000</td>\n",
       "      <td>150.000000</td>\n",
       "    </tr>\n",
       "    <tr>\n",
       "      <th>mean</th>\n",
       "      <td>5.843333</td>\n",
       "      <td>3.057333</td>\n",
       "      <td>3.758000</td>\n",
       "      <td>1.199333</td>\n",
       "      <td>1.000000</td>\n",
       "    </tr>\n",
       "    <tr>\n",
       "      <th>std</th>\n",
       "      <td>0.828066</td>\n",
       "      <td>0.435866</td>\n",
       "      <td>1.765298</td>\n",
       "      <td>0.762238</td>\n",
       "      <td>0.819232</td>\n",
       "    </tr>\n",
       "    <tr>\n",
       "      <th>min</th>\n",
       "      <td>4.300000</td>\n",
       "      <td>2.000000</td>\n",
       "      <td>1.000000</td>\n",
       "      <td>0.100000</td>\n",
       "      <td>0.000000</td>\n",
       "    </tr>\n",
       "    <tr>\n",
       "      <th>25%</th>\n",
       "      <td>5.100000</td>\n",
       "      <td>2.800000</td>\n",
       "      <td>1.600000</td>\n",
       "      <td>0.300000</td>\n",
       "      <td>0.000000</td>\n",
       "    </tr>\n",
       "    <tr>\n",
       "      <th>50%</th>\n",
       "      <td>5.800000</td>\n",
       "      <td>3.000000</td>\n",
       "      <td>4.350000</td>\n",
       "      <td>1.300000</td>\n",
       "      <td>1.000000</td>\n",
       "    </tr>\n",
       "    <tr>\n",
       "      <th>75%</th>\n",
       "      <td>6.400000</td>\n",
       "      <td>3.300000</td>\n",
       "      <td>5.100000</td>\n",
       "      <td>1.800000</td>\n",
       "      <td>2.000000</td>\n",
       "    </tr>\n",
       "    <tr>\n",
       "      <th>max</th>\n",
       "      <td>7.900000</td>\n",
       "      <td>4.400000</td>\n",
       "      <td>6.900000</td>\n",
       "      <td>2.500000</td>\n",
       "      <td>2.000000</td>\n",
       "    </tr>\n",
       "  </tbody>\n",
       "</table>\n",
       "</div>\n",
       "      <button class=\"colab-df-convert\" onclick=\"convertToInteractive('df-2e87c7db-b3f3-43f2-931e-a9a15a92e33d')\"\n",
       "              title=\"Convert this dataframe to an interactive table.\"\n",
       "              style=\"display:none;\">\n",
       "        \n",
       "  <svg xmlns=\"http://www.w3.org/2000/svg\" height=\"24px\"viewBox=\"0 0 24 24\"\n",
       "       width=\"24px\">\n",
       "    <path d=\"M0 0h24v24H0V0z\" fill=\"none\"/>\n",
       "    <path d=\"M18.56 5.44l.94 2.06.94-2.06 2.06-.94-2.06-.94-.94-2.06-.94 2.06-2.06.94zm-11 1L8.5 8.5l.94-2.06 2.06-.94-2.06-.94L8.5 2.5l-.94 2.06-2.06.94zm10 10l.94 2.06.94-2.06 2.06-.94-2.06-.94-.94-2.06-.94 2.06-2.06.94z\"/><path d=\"M17.41 7.96l-1.37-1.37c-.4-.4-.92-.59-1.43-.59-.52 0-1.04.2-1.43.59L10.3 9.45l-7.72 7.72c-.78.78-.78 2.05 0 2.83L4 21.41c.39.39.9.59 1.41.59.51 0 1.02-.2 1.41-.59l7.78-7.78 2.81-2.81c.8-.78.8-2.07 0-2.86zM5.41 20L4 18.59l7.72-7.72 1.47 1.35L5.41 20z\"/>\n",
       "  </svg>\n",
       "      </button>\n",
       "      \n",
       "  <style>\n",
       "    .colab-df-container {\n",
       "      display:flex;\n",
       "      flex-wrap:wrap;\n",
       "      gap: 12px;\n",
       "    }\n",
       "\n",
       "    .colab-df-convert {\n",
       "      background-color: #E8F0FE;\n",
       "      border: none;\n",
       "      border-radius: 50%;\n",
       "      cursor: pointer;\n",
       "      display: none;\n",
       "      fill: #1967D2;\n",
       "      height: 32px;\n",
       "      padding: 0 0 0 0;\n",
       "      width: 32px;\n",
       "    }\n",
       "\n",
       "    .colab-df-convert:hover {\n",
       "      background-color: #E2EBFA;\n",
       "      box-shadow: 0px 1px 2px rgba(60, 64, 67, 0.3), 0px 1px 3px 1px rgba(60, 64, 67, 0.15);\n",
       "      fill: #174EA6;\n",
       "    }\n",
       "\n",
       "    [theme=dark] .colab-df-convert {\n",
       "      background-color: #3B4455;\n",
       "      fill: #D2E3FC;\n",
       "    }\n",
       "\n",
       "    [theme=dark] .colab-df-convert:hover {\n",
       "      background-color: #434B5C;\n",
       "      box-shadow: 0px 1px 3px 1px rgba(0, 0, 0, 0.15);\n",
       "      filter: drop-shadow(0px 1px 2px rgba(0, 0, 0, 0.3));\n",
       "      fill: #FFFFFF;\n",
       "    }\n",
       "  </style>\n",
       "\n",
       "      <script>\n",
       "        const buttonEl =\n",
       "          document.querySelector('#df-2e87c7db-b3f3-43f2-931e-a9a15a92e33d button.colab-df-convert');\n",
       "        buttonEl.style.display =\n",
       "          google.colab.kernel.accessAllowed ? 'block' : 'none';\n",
       "\n",
       "        async function convertToInteractive(key) {\n",
       "          const element = document.querySelector('#df-2e87c7db-b3f3-43f2-931e-a9a15a92e33d');\n",
       "          const dataTable =\n",
       "            await google.colab.kernel.invokeFunction('convertToInteractive',\n",
       "                                                     [key], {});\n",
       "          if (!dataTable) return;\n",
       "\n",
       "          const docLinkHtml = 'Like what you see? Visit the ' +\n",
       "            '<a target=\"_blank\" href=https://colab.research.google.com/notebooks/data_table.ipynb>data table notebook</a>'\n",
       "            + ' to learn more about interactive tables.';\n",
       "          element.innerHTML = '';\n",
       "          dataTable['output_type'] = 'display_data';\n",
       "          await google.colab.output.renderOutput(dataTable, element);\n",
       "          const docLink = document.createElement('div');\n",
       "          docLink.innerHTML = docLinkHtml;\n",
       "          element.appendChild(docLink);\n",
       "        }\n",
       "      </script>\n",
       "    </div>\n",
       "  </div>\n",
       "  "
      ],
      "text/plain": [
       "       sepal length (cm)  sepal width (cm)  petal length (cm)  \\\n",
       "count         150.000000        150.000000         150.000000   \n",
       "mean            5.843333          3.057333           3.758000   \n",
       "std             0.828066          0.435866           1.765298   \n",
       "min             4.300000          2.000000           1.000000   \n",
       "25%             5.100000          2.800000           1.600000   \n",
       "50%             5.800000          3.000000           4.350000   \n",
       "75%             6.400000          3.300000           5.100000   \n",
       "max             7.900000          4.400000           6.900000   \n",
       "\n",
       "       petal width (cm)        tipo  \n",
       "count        150.000000  150.000000  \n",
       "mean           1.199333    1.000000  \n",
       "std            0.762238    0.819232  \n",
       "min            0.100000    0.000000  \n",
       "25%            0.300000    0.000000  \n",
       "50%            1.300000    1.000000  \n",
       "75%            1.800000    2.000000  \n",
       "max            2.500000    2.000000  "
      ]
     },
     "execution_count": 7,
     "metadata": {},
     "output_type": "execute_result"
    }
   ],
   "source": [
    "df.describe() # Podemos obtener un resumen básico de algunas estadísticas utilizando el metodo describe"
   ]
  },
  {
   "cell_type": "markdown",
   "metadata": {
    "id": "UiuLMfbjmGTb"
   },
   "source": [
    "## Representación matricial\n",
    "\n",
    "Generalmente un conjuto de dato conformado solo de características numéricas lo representamos como\n",
    "\n",
    "$$X=\\{x_1,x_2,\\dots,x_n\\}$$\n",
    "\n",
    "donde $n$ es el número de objetos/elementos en $X$, ycada elemento es un vector de características  $p$-dimensional, donde $n$ y $p$ son números enteros positivos. Para $p = 1$, llamamos a X un conjunto de datos escalares. Cuando $p>1$ el conjunto se representa como como una matriz.\n",
    "\n",
    "$$\\left(\n",
    "  \\begin{array}{cccc}\n",
    "  x_1^{(1)} & x_1^{(2)}&\\dots&x_1^{(p)}\\\\\n",
    "  x_2^{(1)} & x_2^{(2)}&\\dots&x_2^{(p)}\\\\\n",
    "  \\vdots & \\vdots & \\dots & \\vdots \\\\\n",
    "  x_n^{(1)} & x_n^{(2)}&\\dots&x_n^{(p)}\\\\\n",
    "  \\end{array}\n",
    "\\right)$$\n",
    "\n",
    "donde cada vector  $x_1,\\dots, x_n$ es un vector fila con $p$ elementos. Siendo laxos podemos utilizar los conjuntos de datos y las matrices  como representaciones equivalentes. Cada fila de la matriz de datos corresponde a un elemento del conjunto de datos. Cada columna de la matriz de datos corresponde a una caracterísica de todos los elementos del conjunto de datos. Se denomina característica i-ésima o componente i-ésima $x^{(i)}, i = 1,\\dots,p$.\n"
   ]
  },
  {
   "cell_type": "markdown",
   "metadata": {
    "id": "HvZHRrpZpEEL"
   },
   "source": [
    "## Relaciones\n",
    "\n",
    "Dado un conjunto de elementos (abstractos), sin referirse necesariamente  a vectores de características numéricas.\n",
    "\n",
    "\n",
    "$$O=\\{o_1,o_2,\\dots,o_n\\}$$\n",
    "\n",
    "\n",
    "A veces, no hay una representación de vector de características disponible para los objetos $o_k, k = 1, \\dots , n$, por lo que los métodos convencionales de análisis de datos basados en características no son aplicables (al menos no directamente). En cambio, la relación de todos los pares de objetos a menudo se puede cuantificar y escribir como una matriz cuadrada.\n",
    "\n",
    "\n",
    "$$R=\\left(\n",
    "  \\begin{array}{cccc}\n",
    "  r_{11} & r_{12}&\\dots&r_{1n}\\\\\n",
    "  r_{21} & r_{22}&\\dots&r_{2n}\\\\\n",
    "  \\vdots & \\vdots & \\dots & \\vdots \\\\\n",
    "  r_{n1} & r_{n2}&\\dots&r_{nn}\\\\\n",
    "  \\end{array}\n",
    "\\right) \\in \\mathbb{R}^{ n \\times n} $$\n",
    "\n",
    "\n",
    "donde cada valor de relación $r_{ij} , i, j = 1, \\dots, n$ en $R$, puede referirse a un grado de similitud, disimilitud, compatibilidad, incompatibilidad, proximidad o distancia entre el par de objetos $o_i y o_j  = r{_ji}$ para todo $i,j = 1, \\dots,n$. La matriz de relaciones $R$ puede definirse manualmente o calcularse a partir de las características. Si las características numéricas $X$ están disponibles, entonces $R$ puede calcularse a partir de $X$ usando una función apropiada $f : \\mathbb{R}^p  \\times \\mathbb{R}^p  \\rightarrow R$. Por ejemplo, una función relacional para las matriz para Iris puede ser definida manualmente por un botánico que comparé visualmente y luego asigne  numéricamente algunas relaciones entre pares de flores, o bien $R$ puede calcularse a partir de las longitudes y anchos de sépalos y pétalos.  A continuación presentaremos algunas relaciones de similitud y distancia.\n",
    "\n",
    "\n",
    "\n"
   ]
  },
  {
   "cell_type": "markdown",
   "metadata": {
    "id": "KP9Ngw6Bsof1"
   },
   "source": [
    "### Relaciones de disimilitud/distancia\n",
    "\n",
    "Una función $d$ se llama disimilitud o medida de distancia si para todo $x, y \\in \\mathbb{R}^p$.\n",
    "\n",
    "$$\\begin{array}{l}\n",
    "d(x,y)=d(y,x)\\\\\n",
    "d(x,y)=0 \\Leftrightarrow x=y\\\\\n",
    "d(x,z)\\leq d(x,y)+d(y,z)\n",
    "\\end{array}$$\n",
    "\n",
    "de los aximoas previos se sigue que $d(x,y) \\geq 0$. Una clase de medidas de disimilitud se define mediante la norma $\\lVert . \\rVert$ de $x - y$, por lo que\n",
    "\n",
    "$d(x,y)=\\lVert x-y \\rVert$\n",
    "\n",
    "Una función $\\lVert . \\rVert : \\mathbb{R}^p  \\times \\mathbb{R}^p  \\rightarrow R$ es una normas si y solo si\n",
    "\n",
    "$$\\begin{array}{l}\n",
    "\\lVert x \\rVert = 0 \\Leftrightarrow x=(0,\\dots,0) \\\\\n",
    "\\lVert a.x \\rVert = |a| \\cdot \\lVert x \\rVert  ~\\forall_a\\in\\mathbb{R}, x \\in \\mathbb{R}^p\\\\\n",
    "\\lVert x+y \\rVert = \\lVert x \\rVert+\\lVert y \\rVert ~\\forall_{x,y} \\in \\mathbb{R}^p\n",
    "\\end{array}$$\n",
    "\n",
    "Por ejemplo la llamda norma hiperbólica que esta dada por la siguiente ecuación\n",
    "\n",
    "$$\n",
    "\\lVert x \\rVert_h = \\Pi_{i=1}^p x^{(i)}\n",
    "$$\n",
    "\n",
    "no es una norma ya que la por ejemplo la condición $\\lVert x \\rVert = 0 \\Leftrightarrow x=(0,\\dots,0)$ no se mantiene cuando $x=(0,1)$  ya que $\\lVert x \\rVert_h=0$ a pesar de que $x \\neq (0,0)$.\n",
    "\n",
    "Las clases de normas utilizadas con frecuencia son las normas matriciales y las normas de Lebesgue o Minkowski. La norma matricial se define como\n",
    "\n",
    "$$\\lVert x \\rVert_A=\\sqrt{x A x^T}$$\n",
    "\n",
    "son una matriz $A \\in \\mathbb{R}^{n \\times n}$. Algunos casos importantes para la matriz $A$ se definen en la siguiente tabla.\n",
    "\n",
    "\n",
    "\n"
   ]
  },
  {
   "cell_type": "markdown",
   "metadata": {
    "id": "pjizkAUBxsc7"
   },
   "source": [
    "|Nombre|A||\n",
    "|----|---|--|\n",
    "|Eucideana| $$\\left(\n",
    "  \\begin{array}{cccc}\n",
    "  1 & 0 &\\dots&0\\\\\n",
    "  0 & 1 &\\dots& 0\\\\\n",
    "  \\vdots & \\vdots & \\ddots & \\vdots \\\\\n",
    "  0 &  0 &\\dots & 1\\\\\n",
    "  \\end{array}\n",
    "\\right)$$ ||\n",
    "|Forbenius o Hilbert-Schmid| $$\\left(\n",
    "  \\begin{array}{cccc}\n",
    "  1 & 1 &\\dots& 1\\\\\n",
    "  1 & 1 &\\dots& 1\\\\\n",
    "  \\vdots & \\vdots & \\ddots & \\vdots \\\\\n",
    "  1 &  1 &\\dots & 1\\\\\n",
    "  \\end{array}\n",
    "\\right)$$ ||\n",
    "|diagonal | $$\\left(\n",
    "  \\begin{array}{cccc}\n",
    "  d_1 & 0 &\\dots&0\\\\\n",
    "  0 & d_2 &\\dots& 0\\\\\n",
    "  \\vdots & \\vdots & \\ddots & \\vdots \\\\\n",
    "  0 &  0 &\\dots & d_p\\\\\n",
    "  \\end{array}\n",
    "\\right)$$ | cada atributo $i$ es ponderado por $d_i$ |\n",
    "|Mahalanobis | $\\textit{cov}^{-1}X$ |Adapta la ponderación de las características individuales en función de las estadísticas observadas.|"
   ]
  },
  {
   "cell_type": "markdown",
   "metadata": {
    "id": "PKjvhEFCzvjR"
   },
   "source": [
    "La norma de Lebesgue o Minkowski se define como\n",
    "\n",
    "$$\n",
    "\\lVert x \\rVert_{\\alpha} = \\sqrt[\\alpha]{\\sum_{j=1}^p |x^{(j)}|^{\\alpha}}\n",
    "$$\n",
    "\n",
    "con $\\alpha \\in  \\mathbb{R} \\setminus \\{0\\}$, que es igual a la media generalizada  excepto por un factor constante $\\sqrt[\\alpha]{n}$. Casos especiales importantes de la norma de Lebesgue o Minkowski se resumen en la siguiente tabla.\n",
    "\n",
    "|Nombre|definición||\n",
    "|------|---------|-------|\n",
    "|Infimo $\\alpha \\rightarrow -\\infty$| $$\\lVert x \\rVert_{-\\infty}= \\min_{j=1,2\\dots p} x^{(j)} $$ | |\n",
    "|Manhattan (city block) $\\alpha=1$|$$\n",
    "\\lVert x \\rVert_{\\alpha} = \\sum_{j=1}^p |x^{(j)}|\n",
    "$$ | |\n",
    "|Euclideana|$$\n",
    "\\lVert x \\rVert_{2} = \\sqrt[\\alpha]{\\sum_{j=1}^p (x^{(j)})^{2}}\n",
    "$$||\n",
    "|Supremo $\\alpha \\rightarrow \\infty$| $$\\lVert x \\rVert_{\\infty}= \\max_{j=1,2\\dots p} x^{(j)} $$ | |"
   ]
  },
  {
   "cell_type": "markdown",
   "metadata": {
    "id": "0hi5hosZ3qFt"
   },
   "source": [
    "Otra disimilitud frecuentemente utilizada es la distancia de Hamming definida como:\n",
    "\n",
    " $$d_H(x,y)= \\sum_{i=1}^p \\rho(x^{(i)},y^{(i)}) $$\n",
    "\n",
    " donde\n",
    "\n",
    " $\\rho(x,y)=\\begin{cases}\n",
    " 0 \\text{ si } x=y\\\\\n",
    " 1 \\text{ en cualquier otro caso}\n",
    " \\end{cases}$\n",
    "\n",
    " Note que la distancia de Hamming cuenta el número de valores de características que no coinciden. Para características binarias, la distancia de Hamming es igual a la distancia de Manhattan $d_H (x, y) = x - y$. Observe , sin embargo, que la distancia de Hamming no está asociada con una norma porque la condición $\\lVert a.x \\rVert = |a| \\cdot \\lVert x \\rVert  \\forall_a\\in\\mathbb{R}, x \\in \\mathbb{R}^p$ no se cumple. Las variantes de la distancia de Hamming usan funciones modificadas $\\rho$ para especificar similitudes entre características individuales. Por ejemplo, si las características son (escala nominal) documentos de texto, entonces $\\rho$ podría ser menor para pares  con contenido similar y mayor para pares de documentos con contenido muy diferente."
   ]
  },
  {
   "cell_type": "markdown",
   "metadata": {
    "id": "zhJI7xrV57sr"
   },
   "source": [
    "## Medidas de Similitud\n",
    "\n",
    "Una función s se llama medida de similitud o proximidad si para todo $x, y \\in \\mathbb{R}^p$\n",
    "\n",
    "$$\\begin{array}{l}\n",
    "s(x,y)=s(y,x)\\\\\n",
    "s(x,x)\\leq s(x,y)\\\\\n",
    "s(x,z)\\geq 0\n",
    "\\end{array}$$\n",
    "\n",
    "Adicionalemente si $s(x,y)=0$ se dice que es una función de similitud normalizada.\n",
    "Cualquier medida de disimilitud $d$ se puede usar para definir una medida de similitud  $s$ y viceversa, por ejemplo, usando una función positiva monótonamente decreciente $f$ con $f (0) = 1$ como\n",
    "\n",
    "$$s(x,y)=\\frac{1}{1+d(x,y)}$$\n",
    "\n",
    "Consideremos primero las similitudes entre los vectores de características binarias. Un par de vectores de características binarias pueden ser considerados similares si muchos de sus 1's coinciden. Esta conjunción puede ser representada por el producto, por lo que el producto escalar de los vectores de características es un candidato razonable para una medida de similitud. También para características de valor real no negativo $x,y \\in (\\mathbb{R^+})^p$ las medidas de similitud se pueden definir en base a productos escalares que se pueden normalizar de diferentes maneras:\n",
    "\n",
    "- Similitud coseno\n",
    "\n",
    "$$s(x,y)=\\frac{\\sum_{i=1}^p x^{(i)}y^{(i)}}{\\sqrt{\\sum_{i=1}^p (x^{(i)})^2 \\sum_{i=1}^p (y^{(i)})^2}}$$\n",
    "\n",
    "- Similitud traslape\n",
    "\n",
    "$$s(x,y)=\\frac{\\sum_{i=1}^p x^{(i)}y^{(i)}}{\\min\\left(\\sum_{i=1}^p (x^{(i)})^2 ,\\sum_{i=1}^p (y^{(i)})^2\\right)}$$\n",
    "\n",
    "\n",
    "- Similitud Dice (dado)\n",
    "\n",
    "$$s(x,y)=\\frac{2\\sum_{i=1}^p x^{(i)}y^{(i)}}{\\sum_{i=1}^p (x^{(i)})^2 +\\sum_{i=1}^p (y^{(i)})^2}$$\n",
    "\n",
    "- Jaccard (Tanimoto)\n",
    "\n",
    "\n",
    "$$s(x,y)=\\frac{\\sum_{i=1}^p x^{(i)}y^{(i)}}{\\sum_{i=1}^p (x^{(i)})^2 +\\sum_{i=1}^p (y^{(i)})^2- \\sum_{i=1}^p x^{(i)}y^{(i)}}$$\n",
    "\n",
    "\n"
   ]
  },
  {
   "cell_type": "markdown",
   "metadata": {
    "id": "35G2VWgK_6DD"
   },
   "source": [
    "Estas expresiones no están definidas para vectores en el que todas características son cero porque los denominadores son cero, por lo que la similitud debe definirse explícitamente para este caso, por ejemplo, como cero."
   ]
  },
  {
   "cell_type": "markdown",
   "metadata": {
    "id": "T7CXCVNeARoI"
   },
   "source": [
    "## Relaciones sobre secuencias\n",
    "\n",
    "En esta sección consideramos medidas que se aplican sobre secuencias de valores de características o vectores de características, por ejemplo, secuencias de valores de temperatura diarios, documentos de texto (secuencias de caracteres alfanuméricos) o secuencias de páginas web visitadas. Formalmente, dichas secuencias podrían verse como vectores de características, pero es más adecuado considerar explícitamente el carácter secuencial, el hecho de que cada elemento de la secuencia se refiera a la misma característica, y poder comparar secuencias de diferente longitud.\n",
    "\n",
    "Usamos una función $\\rho$ para comparar pares individuales de elementos de secuencia. Un ejemplo es la función de desigualdad binaria  que se usa en la distancia de Hamming (por lo que está se puede utilizar como una relación para secuencias de igual longitud).\n",
    "\n",
    "Para calcular la relación entre secuencias de diferentes longitudes, se pueden agregar elementos neutrales como ceros o caracteres de espacio a la secuencia más corta. Dependiendo de la alineación de las subsecuencias, se pueden lograr distancias de Hamming más bajas anteponiendo o incluso insertando de manera óptima elementos neutrales. Esta es la idea detrás de la. distancia de Levenshtein o distancia de edición que determina el número mínimo de operaciones de edición (insertar, eliminar o cambiar un elemento de secuencia) necesarias para transformar una secuencia en otra. Denotamos $L_{ij} (x, y)$ como la distancia de edición entre los primeros $i$ elementos de $x$ y los primeros $j$ elementos de $y$, y de forma recursiva se define la distancia de edición como:\n",
    "\n",
    "$$L_{ij}=\\begin{cases}\n",
    "  i \\text{ si } j=0\\\\\n",
    "  j \\text{ si } i=0\\\\\n",
    "  \\min\\{L_{i-1,j}+1,L_{i,j-1}+1, L_{i-1,j-1}+1+\\rho(x^{(i)},y^{(i)})\\}\n",
    "\\end{cases}$$"
   ]
  },
  {
   "cell_type": "markdown",
   "metadata": {
    "id": "BfxxWlRtDCsv"
   },
   "source": [
    "Los primeros dos casos consideran secuencias vacías y terminan la recursión (ya sea $x$ o $y$). En el tercer caso, los tres argumentos del operador mínimo corresponden a las tres operaciones de edición insertar, eliminar y cambiar. Para calcular $L_{ij}$ tenemos que calcular todo $L_{ij}, i = 1 ,\\dots, p_x , j = 1,\\dots, p_y$. La implementación recursiva es ineficiente, pero un solución utilizando programación dinámica puede implementarse como sigue:"
   ]
  },
  {
   "cell_type": "code",
   "execution_count": null,
   "metadata": {
    "id": "ZYNq02Im_wJA"
   },
   "outputs": [],
   "source": [
    "def levenshtein_distance(x, y):\n",
    "    m = len(x) # numero de elementos en la secuencia x\n",
    "    n = len(y) # numero de elementos en la secuencia y\n",
    "\n",
    "    # Crear una matriz de (m+1) x (n+1) para almacenar los subproblemas\n",
    "    # Hacemos m+1 y n+1 para agregar un vacio al inicio\n",
    "    dp = np.zeros((m + 1, n + 1), dtype=int)\n",
    "\n",
    "    # Inicializar la primera fila y columna de la matriz\n",
    "    dp[:, 0] = np.arange(m + 1)\n",
    "    dp[0, :] = np.arange(n + 1)\n",
    "\n",
    "    # Calcular la distancia de Levenshtein para los subproblemas restantes\n",
    "    for i in range(1, m + 1):\n",
    "        for j in range(1, n + 1):\n",
    "            if x[i - 1] == y[j - 1]:\n",
    "                dp[i][j] = dp[i - 1][j - 1]\n",
    "            else:\n",
    "                dp[i][j] = 1 + min(dp[i - 1][j], dp[i][j - 1], dp[i - 1][j - 1])\n",
    "\n",
    "    # Devolver el resultado final y  la matriz resultante\n",
    "    return dp[m][n], dp"
   ]
  },
  {
   "cell_type": "code",
   "execution_count": null,
   "metadata": {
    "colab": {
     "base_uri": "https://localhost:8080/"
    },
    "id": "S6sabcRll5gm",
    "outputId": "56247621-981c-4690-fa61-06e85382a909"
   },
   "outputs": [
    {
     "name": "stdout",
     "output_type": "stream",
     "text": [
      "El número necesario de ediciones para tranformar INFOTEC en INFORMACION son: 6\n"
     ]
    }
   ],
   "source": [
    "x,y=\"INFOTEC\", \"INFORMACION\"\n",
    "d,L=levenshtein_distance(x,y)\n",
    "print(f\"El número necesario de ediciones para tranformar {x} en {y} son: {d}\")"
   ]
  },
  {
   "cell_type": "markdown",
   "metadata": {
    "id": "jLSkTDkWGqRJ"
   },
   "source": [
    "La siguente tabla muestra la matriz de distancia de edición $L$ para las secuencias de caracteres alfanuméricos *INFOTEC* e *INFORMACION* Cada elemento de la matriz se calcula como el mínimo de su vecino superior más uno, vecino izquierdo más uno y vecino diagonal superior izquierdo más la distancia de carácter correspondiente. entre ambas secuencias en el valor inferior derecho, en este caso 6. Esto significa que necesitamos al menos cinco operaciones de edición para convertir la secuencia *INFOTEC* en la secuencia *INFORMACION*  y viceversa."
   ]
  },
  {
   "cell_type": "code",
   "execution_count": null,
   "metadata": {
    "colab": {
     "base_uri": "https://localhost:8080/",
     "height": 300
    },
    "id": "wpGXWxnaFIdj",
    "outputId": "4b8d22aa-8a47-43b1-dd82-60bc214b4e81"
   },
   "outputs": [
    {
     "data": {
      "text/html": [
       "\n",
       "  <div id=\"df-da6b4225-7593-4721-b22e-18caeb1b4e38\">\n",
       "    <div class=\"colab-df-container\">\n",
       "      <div>\n",
       "<style scoped>\n",
       "    .dataframe tbody tr th:only-of-type {\n",
       "        vertical-align: middle;\n",
       "    }\n",
       "\n",
       "    .dataframe tbody tr th {\n",
       "        vertical-align: top;\n",
       "    }\n",
       "\n",
       "    .dataframe thead th {\n",
       "        text-align: right;\n",
       "    }\n",
       "</style>\n",
       "<table border=\"1\" class=\"dataframe\">\n",
       "  <thead>\n",
       "    <tr style=\"text-align: right;\">\n",
       "      <th></th>\n",
       "      <th></th>\n",
       "      <th>I</th>\n",
       "      <th>N</th>\n",
       "      <th>F</th>\n",
       "      <th>O</th>\n",
       "      <th>R</th>\n",
       "      <th>M</th>\n",
       "      <th>A</th>\n",
       "      <th>C</th>\n",
       "      <th>I</th>\n",
       "      <th>O</th>\n",
       "      <th>N</th>\n",
       "    </tr>\n",
       "  </thead>\n",
       "  <tbody>\n",
       "    <tr>\n",
       "      <th></th>\n",
       "      <td>0</td>\n",
       "      <td>1</td>\n",
       "      <td>2</td>\n",
       "      <td>3</td>\n",
       "      <td>4</td>\n",
       "      <td>5</td>\n",
       "      <td>6</td>\n",
       "      <td>7</td>\n",
       "      <td>8</td>\n",
       "      <td>9</td>\n",
       "      <td>10</td>\n",
       "      <td>11</td>\n",
       "    </tr>\n",
       "    <tr>\n",
       "      <th>I</th>\n",
       "      <td>1</td>\n",
       "      <td>0</td>\n",
       "      <td>1</td>\n",
       "      <td>2</td>\n",
       "      <td>3</td>\n",
       "      <td>4</td>\n",
       "      <td>5</td>\n",
       "      <td>6</td>\n",
       "      <td>7</td>\n",
       "      <td>8</td>\n",
       "      <td>9</td>\n",
       "      <td>10</td>\n",
       "    </tr>\n",
       "    <tr>\n",
       "      <th>N</th>\n",
       "      <td>2</td>\n",
       "      <td>1</td>\n",
       "      <td>0</td>\n",
       "      <td>1</td>\n",
       "      <td>2</td>\n",
       "      <td>3</td>\n",
       "      <td>4</td>\n",
       "      <td>5</td>\n",
       "      <td>6</td>\n",
       "      <td>7</td>\n",
       "      <td>8</td>\n",
       "      <td>9</td>\n",
       "    </tr>\n",
       "    <tr>\n",
       "      <th>F</th>\n",
       "      <td>3</td>\n",
       "      <td>2</td>\n",
       "      <td>1</td>\n",
       "      <td>0</td>\n",
       "      <td>1</td>\n",
       "      <td>2</td>\n",
       "      <td>3</td>\n",
       "      <td>4</td>\n",
       "      <td>5</td>\n",
       "      <td>6</td>\n",
       "      <td>7</td>\n",
       "      <td>8</td>\n",
       "    </tr>\n",
       "    <tr>\n",
       "      <th>O</th>\n",
       "      <td>4</td>\n",
       "      <td>3</td>\n",
       "      <td>2</td>\n",
       "      <td>1</td>\n",
       "      <td>0</td>\n",
       "      <td>1</td>\n",
       "      <td>2</td>\n",
       "      <td>3</td>\n",
       "      <td>4</td>\n",
       "      <td>5</td>\n",
       "      <td>6</td>\n",
       "      <td>7</td>\n",
       "    </tr>\n",
       "    <tr>\n",
       "      <th>T</th>\n",
       "      <td>5</td>\n",
       "      <td>4</td>\n",
       "      <td>3</td>\n",
       "      <td>2</td>\n",
       "      <td>1</td>\n",
       "      <td>1</td>\n",
       "      <td>2</td>\n",
       "      <td>3</td>\n",
       "      <td>4</td>\n",
       "      <td>5</td>\n",
       "      <td>6</td>\n",
       "      <td>7</td>\n",
       "    </tr>\n",
       "    <tr>\n",
       "      <th>E</th>\n",
       "      <td>6</td>\n",
       "      <td>5</td>\n",
       "      <td>4</td>\n",
       "      <td>3</td>\n",
       "      <td>2</td>\n",
       "      <td>2</td>\n",
       "      <td>2</td>\n",
       "      <td>3</td>\n",
       "      <td>4</td>\n",
       "      <td>5</td>\n",
       "      <td>6</td>\n",
       "      <td>7</td>\n",
       "    </tr>\n",
       "    <tr>\n",
       "      <th>C</th>\n",
       "      <td>7</td>\n",
       "      <td>6</td>\n",
       "      <td>5</td>\n",
       "      <td>4</td>\n",
       "      <td>3</td>\n",
       "      <td>3</td>\n",
       "      <td>3</td>\n",
       "      <td>3</td>\n",
       "      <td>3</td>\n",
       "      <td>4</td>\n",
       "      <td>5</td>\n",
       "      <td>6</td>\n",
       "    </tr>\n",
       "  </tbody>\n",
       "</table>\n",
       "</div>\n",
       "      <button class=\"colab-df-convert\" onclick=\"convertToInteractive('df-da6b4225-7593-4721-b22e-18caeb1b4e38')\"\n",
       "              title=\"Convert this dataframe to an interactive table.\"\n",
       "              style=\"display:none;\">\n",
       "        \n",
       "  <svg xmlns=\"http://www.w3.org/2000/svg\" height=\"24px\"viewBox=\"0 0 24 24\"\n",
       "       width=\"24px\">\n",
       "    <path d=\"M0 0h24v24H0V0z\" fill=\"none\"/>\n",
       "    <path d=\"M18.56 5.44l.94 2.06.94-2.06 2.06-.94-2.06-.94-.94-2.06-.94 2.06-2.06.94zm-11 1L8.5 8.5l.94-2.06 2.06-.94-2.06-.94L8.5 2.5l-.94 2.06-2.06.94zm10 10l.94 2.06.94-2.06 2.06-.94-2.06-.94-.94-2.06-.94 2.06-2.06.94z\"/><path d=\"M17.41 7.96l-1.37-1.37c-.4-.4-.92-.59-1.43-.59-.52 0-1.04.2-1.43.59L10.3 9.45l-7.72 7.72c-.78.78-.78 2.05 0 2.83L4 21.41c.39.39.9.59 1.41.59.51 0 1.02-.2 1.41-.59l7.78-7.78 2.81-2.81c.8-.78.8-2.07 0-2.86zM5.41 20L4 18.59l7.72-7.72 1.47 1.35L5.41 20z\"/>\n",
       "  </svg>\n",
       "      </button>\n",
       "      \n",
       "  <style>\n",
       "    .colab-df-container {\n",
       "      display:flex;\n",
       "      flex-wrap:wrap;\n",
       "      gap: 12px;\n",
       "    }\n",
       "\n",
       "    .colab-df-convert {\n",
       "      background-color: #E8F0FE;\n",
       "      border: none;\n",
       "      border-radius: 50%;\n",
       "      cursor: pointer;\n",
       "      display: none;\n",
       "      fill: #1967D2;\n",
       "      height: 32px;\n",
       "      padding: 0 0 0 0;\n",
       "      width: 32px;\n",
       "    }\n",
       "\n",
       "    .colab-df-convert:hover {\n",
       "      background-color: #E2EBFA;\n",
       "      box-shadow: 0px 1px 2px rgba(60, 64, 67, 0.3), 0px 1px 3px 1px rgba(60, 64, 67, 0.15);\n",
       "      fill: #174EA6;\n",
       "    }\n",
       "\n",
       "    [theme=dark] .colab-df-convert {\n",
       "      background-color: #3B4455;\n",
       "      fill: #D2E3FC;\n",
       "    }\n",
       "\n",
       "    [theme=dark] .colab-df-convert:hover {\n",
       "      background-color: #434B5C;\n",
       "      box-shadow: 0px 1px 3px 1px rgba(0, 0, 0, 0.15);\n",
       "      filter: drop-shadow(0px 1px 2px rgba(0, 0, 0, 0.3));\n",
       "      fill: #FFFFFF;\n",
       "    }\n",
       "  </style>\n",
       "\n",
       "      <script>\n",
       "        const buttonEl =\n",
       "          document.querySelector('#df-da6b4225-7593-4721-b22e-18caeb1b4e38 button.colab-df-convert');\n",
       "        buttonEl.style.display =\n",
       "          google.colab.kernel.accessAllowed ? 'block' : 'none';\n",
       "\n",
       "        async function convertToInteractive(key) {\n",
       "          const element = document.querySelector('#df-da6b4225-7593-4721-b22e-18caeb1b4e38');\n",
       "          const dataTable =\n",
       "            await google.colab.kernel.invokeFunction('convertToInteractive',\n",
       "                                                     [key], {});\n",
       "          if (!dataTable) return;\n",
       "\n",
       "          const docLinkHtml = 'Like what you see? Visit the ' +\n",
       "            '<a target=\"_blank\" href=https://colab.research.google.com/notebooks/data_table.ipynb>data table notebook</a>'\n",
       "            + ' to learn more about interactive tables.';\n",
       "          element.innerHTML = '';\n",
       "          dataTable['output_type'] = 'display_data';\n",
       "          await google.colab.output.renderOutput(dataTable, element);\n",
       "          const docLink = document.createElement('div');\n",
       "          docLink.innerHTML = docLinkHtml;\n",
       "          element.appendChild(docLink);\n",
       "        }\n",
       "      </script>\n",
       "    </div>\n",
       "  </div>\n",
       "  "
      ],
      "text/plain": [
       "      I  N  F  O  R  M  A  C  I   O   N\n",
       "   0  1  2  3  4  5  6  7  8  9  10  11\n",
       "I  1  0  1  2  3  4  5  6  7  8   9  10\n",
       "N  2  1  0  1  2  3  4  5  6  7   8   9\n",
       "F  3  2  1  0  1  2  3  4  5  6   7   8\n",
       "O  4  3  2  1  0  1  2  3  4  5   6   7\n",
       "T  5  4  3  2  1  1  2  3  4  5   6   7\n",
       "E  6  5  4  3  2  2  2  3  4  5   6   7\n",
       "C  7  6  5  4  3  3  3  3  3  4   5   6"
      ]
     },
     "execution_count": 10,
     "metadata": {},
     "output_type": "execute_result"
    }
   ],
   "source": [
    "pd.DataFrame(L,columns=[\" \"]+list(y), index=[\" \"]+list(x))"
   ]
  },
  {
   "cell_type": "markdown",
   "metadata": {
    "id": "tVXfeJ4pH-C1"
   },
   "source": [
    "Si computamos el mínimo de cada columno podemos ver que hay que realizar una edición en cada que se hay un incremento."
   ]
  },
  {
   "cell_type": "code",
   "execution_count": null,
   "metadata": {
    "colab": {
     "base_uri": "https://localhost:8080/"
    },
    "id": "7m5bLUXwH5jj",
    "outputId": "495f9160-e7a0-4eb2-9e02-a055b6b1b17a"
   },
   "outputs": [
    {
     "data": {
      "text/plain": [
       "array([0, 0, 0, 0, 0, 1, 2, 3, 3, 4, 5, 6])"
      ]
     },
     "execution_count": 11,
     "metadata": {},
     "output_type": "execute_result"
    }
   ],
   "source": [
    "np.min(L, axis=0) # minimo de cada columna"
   ]
  },
  {
   "cell_type": "markdown",
   "metadata": {
    "id": "7R1jVn1aIRRK"
   },
   "source": [
    "Note que los primeros cinco caracteres son iguales por lo que el valor se mantiene $d$ en 0 (decimos 5 porque el primer carácter sería la cadena vacia).  Para el sexto caracter debermos hacer una edición para cambiar  *T* a *R* (o viceversa) , para los caracters *M* (d=1) y *A* (d=3) hacemos bien una inserción  para transformar INFOTEC en INFORMACION o bien  borrado para hacerlo en el sentido inverson. Se mantine el valor 3 porque ambas cadenas contienen el carácter C, para los caracteres I (d=4),O (d=5) y N (d=6) se vuelve a requerir de una una inserción o borrado en cada caso.\n"
   ]
  },
  {
   "cell_type": "markdown",
   "metadata": {
    "id": "WWEdckCbKRlb"
   },
   "source": [
    "##  Muestreo y cuantificación\n",
    "\n",
    "\n",
    "En la sección anterior hemos considerado secuencias discretas finitas de características o vectores de características. En muchos casos, dicha secuencia se obtiene muestreando una señal continua $x(t)$ con un período de muestreo fijo $T$, por ejemplo, midiendo la  velocidad del viento  cada minuto, por lo que obtenemos un secuencia denominada serie de tiempo\n",
    "\n",
    "$$x(t)=x(k.T),~~~ k=1,\\dots,n$$\n",
    "\n",
    "\n",
    "Supongamos que la señal estuviera definida por la función\n",
    "\n",
    "$f(t)= t \\sin(2\\pi t), \\text{ para } 0 < t < 10 $"
   ]
  },
  {
   "cell_type": "code",
   "execution_count": null,
   "metadata": {
    "colab": {
     "base_uri": "https://localhost:8080/",
     "height": 449
    },
    "id": "EoMgkhi4KRA3",
    "outputId": "582fb9bf-a94d-45fa-dc8d-a8457e286123"
   },
   "outputs": [
    {
     "data": {
      "text/plain": [
       "[<matplotlib.lines.Line2D at 0x7f1659838460>]"
      ]
     },
     "execution_count": 12,
     "metadata": {},
     "output_type": "execute_result"
    },
    {
     "data": {
      "image/png": "[encoded data removed]",
      "text/plain": [
       "<Figure size 640x480 with 1 Axes>"
      ]
     },
     "metadata": {},
     "output_type": "display_data"
    }
   ],
   "source": [
    "t=np.arange(0.1,10,0.01) # La señal \"original\"\n",
    "xt=t*np.sin(2*np.pi*t)\n",
    "plt.plot(t,xt)"
   ]
  },
  {
   "cell_type": "markdown",
   "metadata": {
    "id": "M0zvGaswRLbu"
   },
   "source": [
    "La serie tiempo que a la que podemos acceder solo contendrá  muestras individuales pero no la señal continua, por lo que puede cubrir solo una parte de la información contenida en la señal (y no los puntos infinitos contenidos en una señal continua). Con lo anterior en mente podemos ver que incrementando el valor de $T$ la calidad de la serie de tiempo será cada vez mas imprecisa hasta que ya no provea de información útil."
   ]
  },
  {
   "cell_type": "markdown",
   "metadata": {
    "id": "oglBztchTlkJ"
   },
   "source": []
  },
  {
   "cell_type": "code",
   "execution_count": null,
   "metadata": {
    "id": "4KXM6IfFFmaS"
   },
   "outputs": [],
   "source": [
    "def sampling(T=0.7):\n",
    "  fig,axes=plt.subplots(1,2, figsize=(8,4), sharey=True)\n",
    "  t=np.arange(0.1,10,0.01) # La señal \"original\"\n",
    "  xt=t*np.sin(2*np.pi*t)\n",
    "  tm=np.arange(0.1,10,T) # Frecuencia de muestreo\n",
    "  xtm=tm*np.sin(2*np.pi*tm)\n",
    "  axes[0].plot(t,xt, label=\"Señal Original\")\n",
    "  axes[1].plot(tm,xtm, label=f\"Serie de tiempo T={T}\", marker='.')\n",
    "  axes[0].legend()\n",
    "  axes[1].legend()\n",
    "  plt.title(\"Efecto del incremento de  T\")\n",
    "  plt.show()"
   ]
  },
  {
   "cell_type": "code",
   "execution_count": null,
   "metadata": {
    "colab": {
     "base_uri": "https://localhost:8080/",
     "height": 169
    },
    "id": "uIStvvghNzXD",
    "outputId": "215bb0f9-c3c7-43b6-f6ef-d5881a66716c"
   },
   "outputs": [
    {
     "ename": "NameError",
     "evalue": "ignored",
     "output_type": "error",
     "traceback": [
      "\u001b[0;31m---------------------------------------------------------------------------\u001b[0m",
      "\u001b[0;31mNameError\u001b[0m                                 Traceback (most recent call last)",
      "\u001b[0;32m<ipython-input-2-a0925924e79f>\u001b[0m in \u001b[0;36m<cell line: 1>\u001b[0;34m()\u001b[0m\n\u001b[0;32m----> 1\u001b[0;31m \u001b[0minteract\u001b[0m\u001b[0;34m(\u001b[0m\u001b[0msampling\u001b[0m\u001b[0;34m,\u001b[0m \u001b[0mT\u001b[0m\u001b[0;34m=\u001b[0m\u001b[0;34m(\u001b[0m\u001b[0;36m0.1\u001b[0m\u001b[0;34m,\u001b[0m\u001b[0;36m1.5\u001b[0m\u001b[0;34m,\u001b[0m \u001b[0;36m0.1\u001b[0m\u001b[0;34m)\u001b[0m\u001b[0;34m)\u001b[0m\u001b[0;34m;\u001b[0m\u001b[0;34m\u001b[0m\u001b[0;34m\u001b[0m\u001b[0m\n\u001b[0m",
      "\u001b[0;31mNameError\u001b[0m: name 'interact' is not defined"
     ]
    }
   ],
   "source": [
    "interact(sampling, T=(0.1,1.5, 0.1));"
   ]
  },
  {
   "cell_type": "markdown",
   "metadata": {
    "id": "O9ZkNeJgyf0A"
   },
   "source": [
    "Cualquier señal continua finita se puede representar como la suma de señales periódicas con diferentes frecuencias (series de Fourier). Una señal $x(t)$ se denomina limitada en banda si la frecuencia máxima $f_{\\max}$ de estas señales periódicas es finita, por lo que el espectro de Fourier es $|x(j2\\pi f)| = 0$ para $f > f_{\\max}$. Si esta señal se muestrea con un período de muestreo menor que $Ts = 1/(2 f_{\\max})$, o equivalentemente, una frecuencia de muestreo mayor que $f_s = 2 f_{\\max}$, entonces la señal original se puede reconstruir completamente a partir de la serie temporal (infinita). Esto se conoce como el teorema de muestreo de Shannon. La condición $T \\leq Ts$ (o $f \\geq f_s$) se denomina condición de Nyquist. En proyectos prácticos de análisis de datos, a menudo solo se disponen de datos muestreados y no de las señales originales. Dado que solo se tienen los datos muestreados, no es posible determinar si el muestreo se realizó de acuerdo con la condición de Nyquist. Por lo tanto, suele ser útil discutir este tema con los proveedores de datos."
   ]
  },
  {
   "cell_type": "markdown",
   "metadata": {
    "id": "KZlpCb8Pz05d"
   },
   "source": [
    "### Cuantización\n",
    "\n",
    "La primera parte de esta sección consideró la discretización en el tiempo, llamada muestreo. A continuación, consideramos la discretización de los valores de los datos, llamada cuantización.\n",
    "\n",
    "La cuantización se aplica a valores analógicos que se digitalizan con precisión finita, así como a valores digitales cuya precisión se reduce para ahorrar memoria o acelerar la transmisión de datos. La cuantización asigna un intervalo continuo $[x_{\\min}, x_{\\max}]$ a un conjunto de valores discretos $\\{x_1,\\dots, x_q\\}$, donde $q$ es el número de niveles de cuantización.  Cada valor cuantizado se puede representar como un número binario de $b = ⌈\\log_2 q⌉$ bits, por ejemplo. Cada valor continuo $x \\in  [x_{\\min}, x_{\\max}]$ se puede traducir a un valor cuantizado $x_k \\in \\{x_1, \\dots , x_q\\}$ o a un índice $k \\in {1,\\dots,q}$ mediante el redondeo.\n",
    "\n",
    "$$\\frac{\\frac{x_{k-1}+x_k}{2}+x_1}{x_q-x_1} \\leq \\frac{x-x_{\\min}}{x_{\\max}-x_{\\min}}< \\frac{\\frac{x_k+x_{k+1}}{2}+x_1}{x_q-x_1} $$"
   ]
  },
  {
   "cell_type": "markdown",
   "metadata": {
    "id": "oVdyzLsT1vll"
   },
   "source": [
    "El proceso de cuantización provoca un error de cuantización. El error de cuantización está relacionado con el número de bits utilizado para represetar un dato númerico. Un número binario con $b$ bits puede representar enteros entre $x_1 = 0$ y $x_q = 2^b-1$. El error de cuantización relativo puede estimarse como $|e/(x_q - x_1)| \\leq 100\\%/2/(2^b-1) \\approx b+1$. Para valores típicos de $b \\geq 8$, este error de cuantización a menudo puede ser prácticamente ignorado si se eligen adecuadamente los límites $x_{\\min}$ y $x_{\\max}$. Si el rango $x_{\\max}-x_{\\min}$ es mucho mayor que la variación real de los datos, entonces los datos cuantizados pueden parecer constantes o posiblemente mostrar saltos repentinos causados por los límites de los niveles de cuantización."
   ]
  },
  {
   "cell_type": "code",
   "execution_count": null,
   "metadata": {
    "id": "k5Oxe_-K9Lw4"
   },
   "outputs": [],
   "source": []
  }
 ],
 "metadata": {
  "colab": {
   "provenance": []
  },
  "kernelspec": {
   "display_name": "Python 3 (ipykernel)",
   "language": "python",
   "name": "python3"
  },
  "language_info": {
   "codemirror_mode": {
    "name": "ipython",
    "version": 3
   },
   "file_extension": ".py",
   "mimetype": "text/x-python",
   "name": "python",
   "nbconvert_exporter": "python",
   "pygments_lexer": "ipython3",
   "version": "3.9.13"
  }
 },
 "nbformat": 4,
 "nbformat_minor": 1
}
