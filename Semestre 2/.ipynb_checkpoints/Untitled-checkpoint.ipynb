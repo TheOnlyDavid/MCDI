{
 "cells": [
  {
   "cell_type": "markdown",
   "id": "550d25b8",
   "metadata": {},
   "source": [
    "<div style=\"display: flex;\">\n",
    "    <div style=\"flex: 1;\">\n",
    "        <h1>Seminario de Proyectos I 2023</h1>\n",
    "        <h2>Criterios de Evaluación U1 - 1A</h2>\n",
    "        <h3>Cuadro Sinóptico: Identificación de Temas de Investigación</h3>\n",
    "        <p><strong>Nombre:</strong> David Aaron Ramirez Olmeda<br>\n",
    "        <strong>Programa:</strong> Maestría en Ciencia de Datos e Información</p>\n",
    "    </div>\n",
    "    <img src=\"https://scontent.fcul2-1.fna.fbcdn.net/v/t39.30808-6/357432505_662449529254685_507850031498699830_n.jpg?_nc_cat=108&cb=99be929b-3346023f&ccb=1-7&_nc_sid=09cbfe&_nc_eui2=AeH2hCNpPQBYl-6o57Q-RzCk1muPQAYvpg7Wa49ABi-mDvRwO9gpOMqNX25pbHbVW177Wxu5wa45Oo67bjYAhSZG&_nc_ohc=GILHri9sW0sAX_PkSZ4&_nc_ht=scontent.fcul2-1.fna&oh=00_AfDxpJ1m-40MHrY_P3-wQjj4ZdjmggaPZLwP8Dd2ckUikA&oe=64D8574A\" alt=\"Imagen de Portada\" width=\"170\" height=\"170\">\n",
    "</div>\n"
   ]
  },
  {
   "cell_type": "markdown",
   "id": "b68ff832",
   "metadata": {},
   "source": [
    "### Resumen\n",
    "\n",
    "En esta primera instancia vamos a analizar y proponer de manera informal los posibles temas que, dadas mis circunstancias y experiencias, me gustarían abordar como proyecto/investigación para la MCDI."
   ]
  },
  {
   "cell_type": "markdown",
   "id": "f65600ba",
   "metadata": {},
   "source": [
    "### Problemática 1: Aplicación de la Ciencia de Datos en Gastronomía\n",
    "\n",
    "#### Análisis de Sellos Nutricionales en Alimentos Empaquetados\n",
    "\n",
    "| Nombre de la Problemática | Descripción del Problema | Aporte de la Ciencia de Datos | Limitaciones de la Ciencia de Datos |\n",
    "|-------------------------|--------------------------|--------------------------------|------------------------------------|\n",
    "| Análisis de Sellos Nutricionales | Evaluar la relación entre los sellos nutricionales en alimentos empaquetados y el costo de seguir una dieta saludable según las directrices gubernamentales utilizando técnicas de ciencia de datos. | Utilizar técnicas de procesamiento de datos, análisis estadístico y modelado predictivo para comparar los precios y las características nutricionales de alimentos con y sin sellos nutricionales, identificando tendencias y patrones. | Los datos pueden ser incompletos o estar sujetos a errores, y los resultados del análisis dependen de la calidad de los datos disponibles. Además, los modelos predictivos pueden requerir suposiciones que podrían afectar los resultados. |\n",
    "\n",
    "#### Detección de Fraudulentos en Recetas\n",
    "\n",
    "| Nombre de la Problemática | Descripción del Problema | Aporte de la Ciencia de Datos | Limitaciones de la Ciencia de Datos |\n",
    "|-------------------------|--------------------------|--------------------------------|------------------------------------|\n",
    "| Detección de Fraudulentos en Recetas | Identificar recetas fraudulentas o engañosas que proporcionan información incorrecta sobre ingredientes o métodos de preparación en el contexto de la gastronomía. | Utilizar técnicas de procesamiento de lenguaje natural (NLP) y análisis de patrones para identificar inconsistencias y anomalías en recetas, ayudando a los usuarios a tomar decisiones informadas al cocinar. | Las variaciones regionales en la descripción de ingredientes y los estilos de cocina pueden dificultar la detección precisa. Además, las recetas subjetivas pueden generar falsos positivos. |\n",
    "\n",
    "### Problemática 2: Aplicación de la Ciencia de Datos en Agricultura\n",
    "\n",
    "#### Predicción de Rendimientos Agrícolas\n",
    "\n",
    "| Nombre de la Problemática | Descripción del Problema | Aporte de la Ciencia de Datos | Limitaciones de la Ciencia de Datos |\n",
    "|-------------------------|--------------------------|--------------------------------|------------------------------------|\n",
    "| Predicción de Rendimientos Agrícolas | Estimar los rendimientos de cultivos agrícolas antes de la cosecha para mejorar la planificación y la toma de decisiones en la agricultura. | Utilizar datos históricos de cosechas, condiciones climáticas, tipos de suelo y prácticas agrícolas para desarrollar modelos de aprendizaje automático que pronostiquen los rendimientos en función de múltiples variables. | Las condiciones climáticas impredecibles y las prácticas agrícolas cambiantes pueden afectar la precisión de las predicciones. |\n",
    "\n",
    "\n",
    "### Problemática 3: Impacto de la IA en Ciencia de Datos\n",
    "\n",
    "#### Ética en la IA\n",
    "\n",
    "| Nombre de la Problemática | Descripción del Problema | Aporte de la Ciencia de Datos | Limitaciones de la Ciencia de Datos |\n",
    "|-------------------------|--------------------------|--------------------------------|------------------------------------|\n",
    "| Ética en la IA | Abordar los dilemas éticos que surgen en el desarrollo y uso de sistemas de Inteligencia Artificial (IA), incluyendo su impacto en la ciencia de datos. | Utilizar análisis de datos y modelado ético para evaluar y mitigar sesgos algorítmicos, y diseñar marcos para guiar la implementación responsable de la IA en la ciencia de datos. | Los valores éticos pueden ser subjetivos y culturalmente influenciados, y los algoritmos pueden reflejar prejuicios humanos. Además, la complejidad de la ética en la IA puede dificultar la solución completa de los dilemas. |\n"
   ]
  },
  {
   "cell_type": "markdown",
   "id": "390ede2b",
   "metadata": {},
   "source": [
    "###### **Recursos en línea:**\n",
    "- Guía de productos sujetos a modificación. Gobierno de México, https://www.gob.mx/cms/uploads/attachment/file/666912/Gu_a_-_Sujetos_regulados_10.0.pdf\n",
    "\n",
    "###### **Video:**\n",
    "- MemeableData. (2022, Mar 18). \"Data Science vs. Machine Learning vs. AI - What's the Difference?\" [https://www.youtube.com/watch?v=mJs8L3oSmak&ab_channel=MemeableData](https://www.youtube.com/watch?v=mJs8L3oSmak&ab_channel=MemeableData)"
   ]
  }
 ],
 "metadata": {
  "kernelspec": {
   "display_name": "Python 3 (ipykernel)",
   "language": "python",
   "name": "python3"
  },
  "language_info": {
   "codemirror_mode": {
    "name": "ipython",
    "version": 3
   },
   "file_extension": ".py",
   "mimetype": "text/x-python",
   "name": "python",
   "nbconvert_exporter": "python",
   "pygments_lexer": "ipython3",
   "version": "3.9.13"
  }
 },
 "nbformat": 4,
 "nbformat_minor": 5
}
