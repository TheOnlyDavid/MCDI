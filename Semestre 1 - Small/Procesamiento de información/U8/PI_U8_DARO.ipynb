{
 "cells": [
  {
   "cell_type": "markdown",
   "id": "7d69c11b-dc39-48e6-9c0e-c4f90ec6c85f",
   "metadata": {
    "tags": []
   },
   "source": [
    "# Procesamiento de Información 2023\n",
    "## Unidad 8 - Tarea\n",
    "## Desempeño de los clasificadores\n",
    "### David Aarón Ramírez Olmeda"
   ]
  },
  {
   "cell_type": "markdown",
   "id": "599cbb5a-e9ca-4488-a937-8f557f2ffc52",
   "metadata": {},
   "source": [
    "### Introducción\n",
    "En esta tarea evaluaremos el desempeño de dos clasificadores. Los clasificadores seleccionados son Naive Bayes y Support Vector Machine (lineal). Utilizaremos dos técnicas de pesado diferentes, CountVectorizer y TfidfVectorizer, para preprocesar los datos. Realizaremos la evaluación en dos conjuntos de datos diferentes: datos de agresividad (2 clases) y datos de celulares (4 clases)."
   ]
  },
  {
   "cell_type": "markdown",
   "id": "ec174e0f-31f8-4673-a428-fe71a42da880",
   "metadata": {},
   "source": [
    "### Desarrollo\n",
    "A continuación se presenta el código utilizado para crear los modelos y evaluar su desempeño:"
   ]
  },
  {
   "cell_type": "code",
   "execution_count": 1,
   "id": "660dd2ab-b171-4b85-a903-42f1e401798d",
   "metadata": {},
   "outputs": [],
   "source": [
    "import os\n",
    "import re\n",
    "import json\n",
    "import unicodedata\n",
    "import numpy as np\n",
    "import pandas as pd\n",
    "import nltk\n",
    "from nltk.corpus import stopwords\n",
    "from nltk.stem.snowball import SnowballStemmer\n",
    "from sklearn.feature_extraction.text import CountVectorizer, TfidfVectorizer\n",
    "from sklearn import svm\n",
    "from sklearn.metrics import classification_report, confusion_matrix\n",
    "import matplotlib.pyplot as plt\n",
    "from sklearn.naive_bayes import MultinomialNB\n",
    "from sklearn.svm import LinearSVC"
   ]
  },
  {
   "cell_type": "code",
   "execution_count": 2,
   "id": "3857bffc-3789-4c54-b07a-36745e2bd4c7",
   "metadata": {},
   "outputs": [],
   "source": [
    "# Preprocesamiento\n",
    "stop_words = set(stopwords.words(\"spanish\"))\n",
    "stemmer = SnowballStemmer(\"spanish\")\n",
    "\n",
    "def preprocess(text):\n",
    "    text = re.sub(r'[^\\w\\s]', '', text)\n",
    "    # Eliminar símbolos duplicados (2 consecutivos)\n",
    "    text = re.sub(r'(\\w)\\1+', r'\\1\\1', text)\n",
    "    text = text.lower()\n",
    "    tokens = nltk.word_tokenize(text)\n",
    "    tokens = [token for token in tokens if token not in stop_words]\n",
    "    tokens = [stemmer.stem(token) for token in tokens]\n",
    "    return \" \".join(tokens)"
   ]
  },
  {
   "cell_type": "code",
   "execution_count": 3,
   "id": "ab0add6b-26e2-4771-b32f-c169eaae8360",
   "metadata": {},
   "outputs": [],
   "source": [
    "# Carga de datos\n",
    "def cargar_datos(archivo):\n",
    "    datos = []\n",
    "    with open(archivo) as f:\n",
    "        for line in f:\n",
    "            datos.append(json.loads(line))\n",
    "    return pd.DataFrame(datos)"
   ]
  },
  {
   "cell_type": "code",
   "execution_count": 4,
   "id": "b572ac22-61c8-4a16-8918-f8501a50f8a5",
   "metadata": {},
   "outputs": [],
   "source": [
    "# Cargar datos de agresividad\n",
    "agresividad_train = cargar_datos(\"AggressivenessDetection_train.json\")\n",
    "agresividad_test = cargar_datos(\"AggressivenessDetection_test.json\")\n",
    "\n",
    "# Cargar datos de celulares\n",
    "celulares_train = cargar_datos(\"cellphones_train.json\")\n",
    "celulares_test = cargar_datos(\"cellphones_test.json\")"
   ]
  },
  {
   "cell_type": "code",
   "execution_count": 5,
   "id": "5025d958-ba86-4494-9d47-fd2e02d71a4d",
   "metadata": {},
   "outputs": [],
   "source": [
    "def preprocess_data(train_data, test_data, vectorizer_type):\n",
    "    # Obtener las columnas de texto\n",
    "    text_train = train_data['text']\n",
    "    text_test = test_data['text']\n",
    "\n",
    "    # Crear el vectorizador y ajustarlo dependiendo del elegido\n",
    "    if vectorizer_type == 'count':\n",
    "        vectorizer = CountVectorizer()\n",
    "    elif vectorizer_type == 'tfidf':\n",
    "        vectorizer = TfidfVectorizer()\n",
    "    else:\n",
    "        raise ValueError(\"'count' o 'tfidf'\")\n",
    "\n",
    "    vectorizer.fit(text_train)\n",
    "\n",
    "    # Transformar los datos de entrenamiento y prueba\n",
    "    X_train = vectorizer.transform(text_train)\n",
    "    X_test = vectorizer.transform(text_test)\n",
    "\n",
    "    # Obtener las etiquetas\n",
    "    y_train = train_data['klass']\n",
    "    y_test = test_data['klass']\n",
    "\n",
    "    return X_train, X_test, y_train, y_test"
   ]
  },
  {
   "cell_type": "markdown",
   "id": "b3ce1d46-a6e5-4c2b-8463-25dff1ae3c93",
   "metadata": {},
   "source": [
    "Hasta este punto es importante recalcar que la mayoría de lo anterior presentado ya lo habíamos desarrollado en tareas anteriores\n",
    "\n",
    "Ahora podemos utilizar la función anterior para preprocesar los datos de agresividad y celulares utilizando ambos vectorizadores."
   ]
  },
  {
   "cell_type": "code",
   "execution_count": 6,
   "id": "14605275-cc42-4c1c-962f-2795befa6f40",
   "metadata": {},
   "outputs": [],
   "source": [
    "# Preprocesar datos de agresividad \n",
    "agresividad_X_train_count, agresividad_X_test_count, agresividad_y_train, agresividad_y_test = preprocess_data(agresividad_train, agresividad_test, 'count')\n",
    "agresividad_X_train_tfidf, agresividad_X_test_tfidf, _, _ = preprocess_data(agresividad_train, agresividad_test, 'tfidf')\n",
    "\n",
    "# Preprocesar datos de celulares\n",
    "celulares_X_train_count, celulares_X_test_count, celulares_y_train, celulares_y_test = preprocess_data(celulares_train, celulares_test, 'count')\n",
    "celulares_X_train_tfidf, celulares_X_test_tfidf, _, _ = preprocess_data(celulares_train, celulares_test, 'tfidf')"
   ]
  },
  {
   "cell_type": "markdown",
   "id": "631397b8-8f38-4a2b-bfae-20309757c7f2",
   "metadata": {},
   "source": [
    "Después vamos a crear y entrenar los modelos de Naive Bayes y Support Vector Machine (lineal) utilizando las configuraciones preprocesadas. También podemos hacer predicciones en los conjuntos de prueba y evaluar su rendimiento."
   ]
  },
  {
   "cell_type": "markdown",
   "id": "6c5a127a-46e7-4f3b-a77f-0884c2641cc6",
   "metadata": {},
   "source": [
    "### Agresividad"
   ]
  },
  {
   "cell_type": "code",
   "execution_count": 7,
   "id": "bcee103a-18a8-45ef-b7dd-ce928afe6b65",
   "metadata": {},
   "outputs": [],
   "source": [
    "# Crear modelos\n",
    "nb_count = MultinomialNB()\n",
    "nb_tfidf = MultinomialNB()\n",
    "svm_count = LinearSVC()\n",
    "svm_tfidf = LinearSVC()\n",
    "\n",
    "# Entrenar modelos de Naive Bayes\n",
    "nb_count.fit(agresividad_X_train_count, agresividad_y_train)\n",
    "nb_tfidf.fit(agresividad_X_train_tfidf, agresividad_y_train)\n",
    "\n",
    "# Entrenar modelos de Support Vector Machine\n",
    "svm_count.fit(agresividad_X_train_count, agresividad_y_train)\n",
    "svm_tfidf.fit(agresividad_X_train_tfidf, agresividad_y_train)\n",
    "\n",
    "# Hacer predicciones para los conjuntos de prueba con Naive Bayes y CounterVectorizer\n",
    "nb_count_predictions = nb_count.predict(agresividad_X_test_count)\n",
    "\n",
    "# Hacer predicciones para los conjuntos de prueba con Naive Bayes y TfidfVectorizer\n",
    "nb_tfidf_predictions = nb_tfidf.predict(agresividad_X_test_tfidf)\n",
    "\n",
    "# Hacer predicciones para los conjuntos de prueba con SVM y CounterVectorizer\n",
    "svm_count_predictions = svm_count.predict(agresividad_X_test_count)\n",
    "\n",
    "# Hacer predicciones para los conjuntos de prueba con SVM y TfidfVectorizer\n",
    "svm_tfidf_predictions = svm_tfidf.predict(agresividad_X_test_tfidf)"
   ]
  },
  {
   "cell_type": "markdown",
   "id": "bdc6a720-841d-496b-bdd7-7e4b15329f55",
   "metadata": {},
   "source": [
    "Ahora, vamos a imprimir la matriz de confusión y calcular la precisión, recall y F-score para cada configuración."
   ]
  },
  {
   "cell_type": "code",
   "execution_count": 8,
   "id": "8d7d19b0-aa21-4787-8070-c836845fb429",
   "metadata": {},
   "outputs": [
    {
     "name": "stdout",
     "output_type": "stream",
     "text": [
      "Naive Bayes con CounterVectorizer:\n",
      "[[1485   80]\n",
      " [ 316  315]]\n",
      "              precision    recall  f1-score   support\n",
      "\n",
      "           0       0.82      0.95      0.88      1565\n",
      "           1       0.80      0.50      0.61       631\n",
      "\n",
      "    accuracy                           0.82      2196\n",
      "   macro avg       0.81      0.72      0.75      2196\n",
      "weighted avg       0.82      0.82      0.81      2196\n",
      "\n",
      "Naive Bayes con TfidfVectorizer:\n",
      "[[1562    3]\n",
      " [ 565   66]]\n",
      "              precision    recall  f1-score   support\n",
      "\n",
      "           0       0.73      1.00      0.85      1565\n",
      "           1       0.96      0.10      0.19       631\n",
      "\n",
      "    accuracy                           0.74      2196\n",
      "   macro avg       0.85      0.55      0.52      2196\n",
      "weighted avg       0.80      0.74      0.66      2196\n",
      "\n",
      "SVM con CounterVectorizer:\n",
      "[[1401  164]\n",
      " [ 230  401]]\n",
      "              precision    recall  f1-score   support\n",
      "\n",
      "           0       0.86      0.90      0.88      1565\n",
      "           1       0.71      0.64      0.67       631\n",
      "\n",
      "    accuracy                           0.82      2196\n",
      "   macro avg       0.78      0.77      0.77      2196\n",
      "weighted avg       0.82      0.82      0.82      2196\n",
      "\n",
      "SVM con TfidfVectorizer:\n",
      "[[1410  155]\n",
      " [ 218  413]]\n",
      "              precision    recall  f1-score   support\n",
      "\n",
      "           0       0.87      0.90      0.88      1565\n",
      "           1       0.73      0.65      0.69       631\n",
      "\n",
      "    accuracy                           0.83      2196\n",
      "   macro avg       0.80      0.78      0.79      2196\n",
      "weighted avg       0.83      0.83      0.83      2196\n",
      "\n"
     ]
    }
   ],
   "source": [
    "# Matriz de confusión y métricas para Naive Bayes y CounterVectorizer\n",
    "print(\"Naive Bayes con CounterVectorizer:\")\n",
    "print(confusion_matrix(agresividad_y_test, nb_count_predictions))\n",
    "print(classification_report(agresividad_y_test, nb_count_predictions))\n",
    "\n",
    "# Matriz de confusión y métricas para Naive Bayes y TfidfVectorizer\n",
    "print(\"Naive Bayes con TfidfVectorizer:\")\n",
    "print(confusion_matrix(agresividad_y_test, nb_tfidf_predictions))\n",
    "print(classification_report(agresividad_y_test, nb_tfidf_predictions))\n",
    "\n",
    "# Matriz de confusión y métricas para SVM y CounterVectorizer\n",
    "print(\"SVM con CounterVectorizer:\")\n",
    "print(confusion_matrix(agresividad_y_test, svm_count_predictions))\n",
    "print(classification_report(agresividad_y_test, svm_count_predictions))\n",
    "\n",
    "# Matriz de confusión y métricas para SVM y TfidfVectorizer\n",
    "print(\"SVM con TfidfVectorizer:\")\n",
    "print(confusion_matrix(agresividad_y_test, svm_tfidf_predictions))\n",
    "print(classification_report(agresividad_y_test, svm_tfidf_predictions))"
   ]
  },
  {
   "cell_type": "markdown",
   "id": "5117d8f5-ee4d-4bca-a4a9-4620f542229e",
   "metadata": {},
   "source": [
    "Analogamente, para el otro conjunto de datos..."
   ]
  },
  {
   "cell_type": "markdown",
   "id": "882a9ca8-f514-4969-82b7-1145faae07c3",
   "metadata": {},
   "source": [
    "### Celulares"
   ]
  },
  {
   "cell_type": "code",
   "execution_count": 9,
   "id": "c559b7a4-9fd2-4f15-9d7f-2cbda91ff53a",
   "metadata": {},
   "outputs": [],
   "source": [
    "# Crear modelos\n",
    "nb_count = MultinomialNB()\n",
    "nb_tfidf = MultinomialNB()\n",
    "svm_count = LinearSVC()\n",
    "svm_tfidf = LinearSVC()\n",
    "\n",
    "# Entrenar modelos de Naive Bayes\n",
    "nb_count.fit(celulares_X_train_count, celulares_y_train)\n",
    "nb_tfidf.fit(celulares_X_train_tfidf, celulares_y_train)\n",
    "\n",
    "# Entrenar modelos de Support Vector Machine\n",
    "svm_count.fit(celulares_X_train_count, celulares_y_train)\n",
    "svm_tfidf.fit(celulares_X_train_tfidf, celulares_y_train)\n",
    "\n",
    "# Hacer predicciones para los conjuntos de prueba con Naive Bayes y CounterVectorizer\n",
    "nb_count_predictions = nb_count.predict(celulares_X_test_count)\n",
    "\n",
    "# Hacer predicciones para los conjuntos de prueba con Naive Bayes y TfidfVectorizer\n",
    "nb_tfidf_predictions = nb_tfidf.predict(celulares_X_test_tfidf)\n",
    "\n",
    "# Hacer predicciones para los conjuntos de prueba con SVM y CounterVectorizer\n",
    "svm_count_predictions = svm_count.predict(celulares_X_test_count)\n",
    "\n",
    "# Hacer predicciones para los conjuntos de prueba con SVM y TfidfVectorizer\n",
    "svm_tfidf_predictions = svm_tfidf.predict(celulares_X_test_tfidf)"
   ]
  },
  {
   "cell_type": "code",
   "execution_count": 10,
   "id": "d129a529-b797-4562-99be-98b349207123",
   "metadata": {},
   "outputs": [
    {
     "name": "stdout",
     "output_type": "stream",
     "text": [
      "Naive Bayes con CounterVectorizer:\n",
      "[[3121    7   75   19]\n",
      " [ 277   48   37    6]\n",
      " [ 482    1  305    8]\n",
      " [ 355    1   38  125]]\n",
      "              precision    recall  f1-score   support\n",
      "\n",
      " information       0.74      0.97      0.84      3222\n",
      "    negative       0.84      0.13      0.23       368\n",
      "     neutral       0.67      0.38      0.49       796\n",
      "    positive       0.79      0.24      0.37       519\n",
      "\n",
      "    accuracy                           0.73      4905\n",
      "   macro avg       0.76      0.43      0.48      4905\n",
      "weighted avg       0.74      0.73      0.69      4905\n",
      "\n",
      "Naive Bayes con TfidfVectorizer:\n",
      "[[3218    0    4    0]\n",
      " [ 364    3    1    0]\n",
      " [ 624    0  172    0]\n",
      " [ 462    0    0   57]]\n",
      "              precision    recall  f1-score   support\n",
      "\n",
      " information       0.69      1.00      0.82      3222\n",
      "    negative       1.00      0.01      0.02       368\n",
      "     neutral       0.97      0.22      0.35       796\n",
      "    positive       1.00      0.11      0.20       519\n",
      "\n",
      "    accuracy                           0.70      4905\n",
      "   macro avg       0.92      0.33      0.35      4905\n",
      "weighted avg       0.79      0.70      0.62      4905\n",
      "\n",
      "SVM con CounterVectorizer:\n",
      "[[2790   95  212  125]\n",
      " [ 134  143   53   38]\n",
      " [ 279   47  408   62]\n",
      " [ 148   17   74  280]]\n",
      "              precision    recall  f1-score   support\n",
      "\n",
      " information       0.83      0.87      0.85      3222\n",
      "    negative       0.47      0.39      0.43       368\n",
      "     neutral       0.55      0.51      0.53       796\n",
      "    positive       0.55      0.54      0.55       519\n",
      "\n",
      "    accuracy                           0.74      4905\n",
      "   macro avg       0.60      0.58      0.59      4905\n",
      "weighted avg       0.73      0.74      0.73      4905\n",
      "\n",
      "SVM con TfidfVectorizer:\n",
      "[[2901   84  156   81]\n",
      " [ 146  137   54   31]\n",
      " [ 322   34  400   40]\n",
      " [ 195   20   54  250]]\n",
      "              precision    recall  f1-score   support\n",
      "\n",
      " information       0.81      0.90      0.85      3222\n",
      "    negative       0.50      0.37      0.43       368\n",
      "     neutral       0.60      0.50      0.55       796\n",
      "    positive       0.62      0.48      0.54       519\n",
      "\n",
      "    accuracy                           0.75      4905\n",
      "   macro avg       0.63      0.56      0.59      4905\n",
      "weighted avg       0.74      0.75      0.74      4905\n",
      "\n"
     ]
    }
   ],
   "source": [
    "# Matriz de confusión y métricas para Naive Bayes y CounterVectorizer\n",
    "print(\"Naive Bayes con CounterVectorizer:\")\n",
    "print(confusion_matrix(celulares_y_test, nb_count_predictions))\n",
    "print(classification_report(celulares_y_test, nb_count_predictions))\n",
    "\n",
    "# Matriz de confusión y métricas para Naive Bayes y TfidfVectorizer\n",
    "print(\"Naive Bayes con TfidfVectorizer:\")\n",
    "print(confusion_matrix(celulares_y_test, nb_tfidf_predictions))\n",
    "print(classification_report(celulares_y_test, nb_tfidf_predictions))\n",
    "\n",
    "# Matriz de confusión y métricas para SVM y CounterVectorizer\n",
    "print(\"SVM con CounterVectorizer:\")\n",
    "print(confusion_matrix(celulares_y_test, svm_count_predictions))\n",
    "print(classification_report(celulares_y_test, svm_count_predictions))\n",
    "\n",
    "# Matriz de confusión y métricas para SVM y TfidfVectorizer\n",
    "print(\"SVM con TfidfVectorizer:\")\n",
    "print(confusion_matrix(celulares_y_test, svm_tfidf_predictions))\n",
    "print(classification_report(celulares_y_test, svm_tfidf_predictions))"
   ]
  },
  {
   "cell_type": "markdown",
   "id": "87836019-e378-47b4-9140-b0d22adc005f",
   "metadata": {},
   "source": [
    "### Conclusiones\n",
    "\n",
    "Observamos que los resultados de la evaluación varían dependiendo del clasificador y del tipo de vectorizador utilizado. En el caso de los datos de agresividad, el clasificador Naive Bayes obtuvo buenos resultados tanto con CountVectorizer como con TfidfVectorizer, con altos valores de precisión, recall y F-score en ambas configuraciones. Por otro lado, el clasificador Support Vector Machine también mostró buen desempeño, aunque inferior al de Naive Bayes.\n",
    "\n",
    "En cuanto a los datos de celulares, se observó un desempeño similar entre los clasificadores Naive Bayes y Support Vector Machine. Ambos clasificadores lograron buenos resultados, aunque el clasificador Naive Bayes tuvo un rendimiento ligeramente mejor en términos de precisión y F-score.\n",
    "\n",
    "Los resultados demuestran la importancia de seleccionar adecuadamente el clasificador y el vectorizador según el conjunto de datos y el problema en cuestión ya que la evaluación de desempeño proporciona información valiosa para tomar decisiones sobre qué configuración utilizar en futuros análisis de clasificación de texto."
   ]
  }
 ],
 "metadata": {
  "kernelspec": {
   "display_name": "Python 3 (ipykernel)",
   "language": "python",
   "name": "python3"
  },
  "language_info": {
   "codemirror_mode": {
    "name": "ipython",
    "version": 3
   },
   "file_extension": ".py",
   "mimetype": "text/x-python",
   "name": "python",
   "nbconvert_exporter": "python",
   "pygments_lexer": "ipython3",
   "version": "3.9.13"
  }
 },
 "nbformat": 4,
 "nbformat_minor": 5
}
