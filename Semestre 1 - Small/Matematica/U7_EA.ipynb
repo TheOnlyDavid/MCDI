{
 "cells": [
  {
   "cell_type": "markdown",
   "id": "ec40956e-ecb8-49a2-b049-c42f73f8a207",
   "metadata": {},
   "source": [
    "# TAREA 7\n",
    "\n",
    "* Unidad: Modelación probabilística\n",
    "* Materia: Matemáticas para Ciencia de Datos\n",
    "* Programa: Maestría en Ciencia de Datos e Información, INFOTEC\n",
    "* Docente:  Juliho Castillo Colmenares, Sc.D.\n",
    "\n",
    "## Grupo A\n",
    "\n",
    "- Eduardo Gomez Lopez\n",
    "- David Aaron Ramírez Olmeda\n",
    "- Erika Araceli Gonzalez\n",
    "- Ar Sullivan Santana Najera\n",
    "\n",
    "## Lectura asignada\n",
    "\n",
    "Wikipedia contributors. (2021, March 18). Markov chain. In Wikipedia, The Free Encyclopedia. Retrieved 17:50, March 21, 2021, from https://en.wikipedia.org/w/index.php?title=Markov_chain&oldid=1012769976\n",
    "\n",
    "## Instrucciones\n",
    "\n",
    "1. Completa las lecturas propuestas para esta actividad y reúnete con los miembros de tu equipo para comentar las lecturas y la tarea.\n",
    "2. Resuelvan el siguiente problema, desarrollando de manera clara todos y cada unos de los puntos.\n",
    "3. Si incluyes bloque de código, coméntalos de manera concisa, enfatizando su relación con la solución.\n",
    "4. Detalla la información auxiliar de las gráficas para que tu conclusión sea clara.\n",
    "5. Organiza tu documento, escribe de manera explícita el enunciado de cada inciso y sepáralos utilizando secciones.\n",
    "6. Transcríbanlo a un archivo PDF y suban un único archivo por equipo.\n",
    "7. Se considerará un inciso como incorrecto si el resultado no es el esperado, y se considerará incompleto si el resultado no está debidamente justificado.\n",
    "\n",
    "## Planteamiento del problema\n",
    "\n",
    "Hay tres categorías de contribuyentes de impuestos sobre la renta en los Estados Unidos: los que nunca evaden impuestos, los que a veces lo hacen y los que siempre lo hacen.\n",
    "Un examen de las declaraciones de impuestos auditadas de un año al siguiente muestra que de aquellos que no evadieron impuestos el año pasado, el 95% continúa en la misma categoría este año, el 4% pasa a la categoría \"a veces\" y el resto se mueve a la categoría \"siempre\". Para aquellos que a veces evaden impuestos, el 6% pasa a \"nunca\", el 90% permanece igual y el 4% pasa a \"siempre\". En cuanto a los evasores “siempre”, los porcentajes respectivos son 0%, 10% y 90%."
   ]
  },
  {
   "cell_type": "markdown",
   "id": "633d3543-2ba0-4211-b268-7145ac06455c",
   "metadata": {},
   "source": [
    "## Introducción\n",
    "En este problema se modela la evasión de impuestos en tres categorías de contribuyentes en los Estados Unidos utilizando una cadena de Markov. A partir de la matriz de transición y el vector de probabilidades estacionarias obtenidos, se pudo calcular la reducción anual de los impuestos recaudados debido a la evasión de impuestos en cada categoría."
   ]
  },
  {
   "cell_type": "markdown",
   "id": "83c8bf16-cd92-41e2-ac72-241ec3570644",
   "metadata": {},
   "source": [
    "## Inciso A\n",
    "Expresa el problema en términos de una cadena de Markov, justificando detalladamente la elección de tu modelo."
   ]
  },
  {
   "cell_type": "markdown",
   "id": "0ac3ed91-6d33-4860-a98b-8388c3be376b",
   "metadata": {},
   "source": [
    "Podemos definir los siguientes estados:\n",
    "\n",
    "- Estado 1: \"Nunca evaden impuestos\"\n",
    "- Estado 2: \"A veces evaden impuestos\"\n",
    "- Estado 3: \"Siempre evaden impuestos\"\n",
    "\n",
    "La matriz de transición correspondiente es la siguiente:\n",
    "\n",
    "$\\begin{equation}\n",
    "\\hspace{4cm}Estado \\ del \\ sistema\\\\\n",
    "\\hspace{5cm}este \\ año \\\\ \n",
    " P = \n",
    "\\begin{matrix}\n",
    "Estado \\ del \\\\\n",
    "sistema \\ el\\\\\n",
    "siguiente \\ año\n",
    "\\end{matrix}\n",
    "\\begin{cases}\n",
    "1\\\\\n",
    "2\\\\\n",
    "3\\\\\n",
    "\\end{cases}\n",
    "\\begin{pmatrix}\n",
    "0.95 & 0.40 & 0.01\\\\\n",
    "0.06 & 0.90 & 0.04\\\\\n",
    "0.00 & 0.10 & 0.90\n",
    "\\end{pmatrix}\n",
    "\\end{equation}$"
   ]
  },
  {
   "cell_type": "markdown",
   "id": "626744f7-e272-4324-8e32-635244eeea22",
   "metadata": {},
   "source": [
    "<p align=\"justify\"> Es posible justificar el uso de este problema como una cadena de Markov bajo la definición de las propiedades de esta, ser discreta en el tiempo, se define en un espacio finito de espacios posibles y el cambio entre estados esta determinado por un cambio de probabilidades, así como que un estado futuro depende sólo del estado inmediatamente anterior.</p>\n",
    "\n",
    "<p align=\"justify\"> Esto se refleja en el problema de los contribuyentes de impuestos bajo el siguiente orden, es discreta en tiempo, pues el tiempo del problema en base a los años fiscales registrados. El espacio finito de espacios se define bajo los únicos tres estados que posee este sistema, nunca evaden impuestos, los que a veces lo hacen y los que siempre lo hacen. La tercera propiedad aparece en los cambios que se definen en el enunciado y por último cada uno de los futuros propuestos ocurre únicamente en base a los datos del estado actual. </p>\n",
    "\n",
    "<p align=\"justify\"> Por ejemplo: La entrada en la fila i y columna j de la matriz P representa la probabilidad de que un individuo en el estado i pase al estado j en el siguiente período de tiempo.\n",
    "La probabilidad de que un individuo que está en el estado 1 (\"Nunca evaden impuestos\") en un año dado pase al estado 2 (\"A veces evaden impuestos\") en el siguiente año es del 4%, mientras que la probabilidad de permanecer en el estado 1 es del 95%. </p>"
   ]
  },
  {
   "cell_type": "markdown",
   "id": "82780322-ffff-4d32-bf2f-e1b68c23e78d",
   "metadata": {},
   "source": [
    "## Inciso B\n",
    "Calcula la distribución estacionaria y explica este resultado en términos de nuestro problema de impuestos."
   ]
  },
  {
   "cell_type": "markdown",
   "id": "e015e42c-9c23-44d0-b502-82ce8f1b7f14",
   "metadata": {},
   "source": [
    "Se dice que una Cadena de Markov en tiempo discreto admite una distribución estacionaria en la medida que las probabilidades de largo plazo existen y es independiente de la distribución inicial.\n",
    "\n",
    "La distribución estacionaria es el vector π tal que πP = π, donde P es la matriz de transición. En otras palabras, la proporción de tiempo que la cadena pasa en cada estado cuando se ejecuta durante un tiempo infinito."
   ]
  },
  {
   "cell_type": "code",
   "execution_count": 1,
   "id": "af2d64d3-c88c-4ed3-b73a-87304204e3fd",
   "metadata": {},
   "outputs": [
    {
     "name": "stdout",
     "output_type": "stream",
     "text": [
      "Distribución estacionaria: [0.44117647 0.36764706 0.19117647]\n"
     ]
    }
   ],
   "source": [
    "import numpy as np\n",
    "\n",
    "P = np.array([[0.95, 0.04, 0.01], [0.06, 0.90, 0.04], [0.00, 0.10, 0.90]])\n",
    "\n",
    "A = P.T - np.eye(3)\n",
    "b = np.zeros((3, 1))\n",
    "b[0] = 1\n",
    "\n",
    "π = np.linalg.solve(A, b)\n",
    "π = π / np.sum(π)\n",
    "print(\"Distribución estacionaria:\", π.flatten())"
   ]
  },
  {
   "cell_type": "markdown",
   "id": "bbe151b1-81f9-4cf7-abeb-1cba14ac2ff9",
   "metadata": {},
   "source": [
    "Lo anterior significa que, a largo plazo, aproximadamente el 44% de los contribuyentes nunca evadirá impuestos, el 36% evadirá impuestos ocasionalmente y el 19% evadirá impuestos siempre."
   ]
  },
  {
   "cell_type": "markdown",
   "id": "c53c0eab-3753-4dca-86fc-f35c4bf71306",
   "metadata": {},
   "source": [
    "## Inciso C\n",
    "Inciso C\n",
    "Las estadísticas muestran que un contribuyente en la categoría \"a veces\" evade impuestos aproximadamente 5000 por declaración y en la categoría \"siempre\" sobre alrededor de  12000\n",
    "Suponiendo que la población de contribuyentes es de 70 millones y que la tasa de impuesto sobre la renta promedio es del 12%, determinar la reducción anual de los impuestos\n",
    "recaudados por evasión."
   ]
  },
  {
   "cell_type": "code",
   "execution_count": 2,
   "id": "8009d4d0-5e9d-4c10-8692-32ee391ccc73",
   "metadata": {},
   "outputs": [
    {
     "name": "stdout",
     "output_type": "stream",
     "text": [
      "Nunca evade: [30882352]\n",
      "A veces evade: [25735294]\n",
      "Siempre evade: [13382352]\n",
      "Total: [70000000]\n"
     ]
    }
   ],
   "source": [
    "n = 70000000\n",
    "\n",
    "imp_nunca = n * π[0]\n",
    "imp_avece = n * π[1]\n",
    "imp_siemp = n * π[2]\n",
    "total = imp_nunca + imp_avece + imp_siemp\n",
    "\n",
    "print(f\"Nunca evade: {imp_nunca.astype(int)}\")\n",
    "print(f\"A veces evade: {imp_avece.astype(int)}\")\n",
    "print(f\"Siempre evade: {imp_siemp.astype(int)}\")\n",
    "print(f\"Total: {total.astype(int)}\")"
   ]
  },
  {
   "cell_type": "code",
   "execution_count": 3,
   "id": "9940235c-a8b7-4e98-8cfb-4f9ad29de08e",
   "metadata": {},
   "outputs": [
    {
     "name": "stdout",
     "output_type": "stream",
     "text": [
      "Impuestos evadidos por contribuyentes 'a veces': $15441.18 millones\n",
      "Impuestos evadidos por contribuyentes 'siempre': $19270.59 millones\n",
      "\n",
      "Impuestos evadidos por contribuyentes 'siempre': $34711.76 millones\n"
     ]
    }
   ],
   "source": [
    "tax = 0.12\n",
    "tax_imp_avece = (imp_avece * 5000 * tax) / 1000000\n",
    "tax_imp_siemp = (imp_siemp * 12000 * tax) / 1000000\n",
    "\n",
    "print(f\"Impuestos evadidos por contribuyentes 'a veces': ${tax_imp_avece.item():.2f} millones\")\n",
    "print(f\"Impuestos evadidos por contribuyentes 'siempre': ${tax_imp_siemp.item():.2f} millones\")\n",
    "print()\n",
    "print(f\"Impuestos evadidos por contribuyentes 'siempre': ${tax_imp_siemp.item()+tax_imp_avece.item():.2f} millones\")"
   ]
  },
  {
   "cell_type": "markdown",
   "id": "44e055b9-f2c5-4bfb-a7d5-2780e8f9b2eb",
   "metadata": {},
   "source": [
    "## Conclusión\n",
    "\n",
    "En este problema, se utilizó una cadena de Markov para modelar la evasión de impuestos en tres categorías de contribuyentes. A partir de la distribución estacionaria obtenida, se pudo calcular la cantidad de impuestos evadidos y la reducción anual en la recaudación de impuestos debido a la evasión de impuestos"
   ]
  }
 ],
 "metadata": {
  "kernelspec": {
   "display_name": "Python 3 (ipykernel)",
   "language": "python",
   "name": "python3"
  },
  "language_info": {
   "codemirror_mode": {
    "name": "ipython",
    "version": 3
   },
   "file_extension": ".py",
   "mimetype": "text/x-python",
   "name": "python",
   "nbconvert_exporter": "python",
   "pygments_lexer": "ipython3",
   "version": "3.9.13"
  }
 },
 "nbformat": 4,
 "nbformat_minor": 5
}
