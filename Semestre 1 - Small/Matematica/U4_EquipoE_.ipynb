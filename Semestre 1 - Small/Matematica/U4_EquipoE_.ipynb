{
 "cells": [
  {
   "cell_type": "markdown",
   "id": "d8aaad9b-9937-470b-8b1e-2aa86c5eee2e",
   "metadata": {
    "id": "338601e5-aee1-4f25-9296-3e123ba04d88"
   },
   "source": [
    "<center> <h2>CENTRO DE INVESTIGACIÓN E INNOVACIÓN EN TIC </h2> </center>\n",
    "<center> <h2>MAESTRIA EN CIENCIAS DE DATOS E </h2> </center>\n",
    "<center> <h2>INFORMACIÓN </h2> </center>\n",
    "<center> <h2> TAREA 4 </h2> </center>"
   ]
  },
  {
   "cell_type": "markdown",
   "id": "ae7fbca1-8b3f-4c6d-a906-ee6e0b096c6d",
   "metadata": {
    "id": "2520736a-f863-4577-8937-04665dffba90"
   },
   "source": [
    "\n",
    "<center>07 de marzo de 2023</center>"
   ]
  },
  {
   "cell_type": "markdown",
   "id": "b33f9ac6-2a81-4848-8c2e-ec0560d1a47c",
   "metadata": {
    "id": "c9cdd7d1-6831-46da-af41-970d846f2107"
   },
   "source": [
    "<center>Docente: Dr. Juliho Castillo Colmenares</center>"
   ]
  },
  {
   "cell_type": "markdown",
   "id": "dd71055b-6f9d-4fe4-811a-c708d972766b",
   "metadata": {
    "id": "d76aacca-53ea-4a7f-966f-efc16314a141",
    "tags": []
   },
   "source": [
    "<center> Autores:</center>\n",
    "<center> David Aarón Ramirez Olmeda </center>\n",
    "<center> Miguel Sánchez Domínguez </center>\n",
    "<center> Ricardo López Cruz </center>\n",
    "\n"
   ]
  },
  {
   "cell_type": "markdown",
   "id": "dad879a3-36dc-47c8-94a9-628def2460bd",
   "metadata": {},
   "source": [
    "<p style=\"text-align: justify;\"> En esta actividad se implementará el método de Newton para resolver dos ecuaciones no lineales: $f(x) = x^2 - 4$ y $g(x) = x^2$. Se calcularán las soluciones aproximadas de cada ecuación utilizando el método de Newton con una tolerancia de $10^{-9}$ y se determinará el número de iteraciones necesarias para alcanzar la tolerancia deseada. Además, se creará una visualización de los resultados obtenidos para cada ecuación. Finalmente, se comparará el número de iteraciones necesarias y la velocidad de convergencia en ambos casos. El objetivo de esta actividad es familiarizarse con el método de Newton y su aplicación a ecuaciones no lineales, así como comprender la importancia de la elección de la función y del punto de inicio en la eficacia del método. </p>"
   ]
  },
  {
   "cell_type": "markdown",
   "id": "d95b8fb1-3dbe-4548-b3b8-eec815d8145e",
   "metadata": {
    "id": "b96153a4-fd30-43d2-8c35-8c1d05ecc523",
    "tags": []
   },
   "source": [
    "### Inciso A"
   ]
  },
  {
   "cell_type": "markdown",
   "id": "6aaaad89-b9fb-40d2-aa27-338ed9f5096f",
   "metadata": {
    "id": "3c8b7655-8fa8-4629-975b-d8f497ceba42"
   },
   "source": [
    "Se implementará el método de Newton para resolver la ecuación $f(x) = 0$ con $f(x) = x^2 - 4$, utilizando $x_0 = 3$. El método de Newton se define por la siguiente iteración:"
   ]
  },
  {
   "cell_type": "markdown",
   "id": "4f656575-fe54-433e-a858-ceff216d877c",
   "metadata": {
    "id": "caf9b15b-a42e-4ec5-99f6-ea67f41820a3"
   },
   "source": [
    "$$ x_{n+1} = x_n -[ f(x_n) / f'(x_n) ]$$"
   ]
  },
  {
   "cell_type": "code",
   "execution_count": 1,
   "id": "05c7352b-8e1e-4d5a-adc9-1ad6e181a107",
   "metadata": {},
   "outputs": [],
   "source": [
    "def newton_method(f, f_prime, x0, tol):\n",
    "    x = x0\n",
    "    iterations = 0\n",
    "    print(\"x\" + str(iterations) + \" = \" + str(x))\n",
    "    while abs(f(x)) > tol:\n",
    "        x = x - f(x)/f_prime(x)\n",
    "        iterations += 1\n",
    "        print(\"x\" + str(iterations) + \" = \" + str(x))\n",
    "    return x, iterations"
   ]
  },
  {
   "cell_type": "code",
   "execution_count": 2,
   "id": "01683432-8e99-4e63-98f4-23fe99abca85",
   "metadata": {},
   "outputs": [
    {
     "name": "stdout",
     "output_type": "stream",
     "text": [
      "x0 = 3\n",
      "x1 = 2.1666666666666665\n",
      "x2 = 2.0064102564102564\n",
      "x3 = 2.0000102400262145\n",
      "x4 = 2.000000000026214\n",
      "La solución es x = 2.000000000026214\n",
      "Se necesitaron 4 iteraciones.\n"
     ]
    }
   ],
   "source": [
    "def f(x):\n",
    "    return x**2 - 4\n",
    "\n",
    "def f_prime(x):\n",
    "    return 2*x\n",
    "\n",
    "x0 = 3\n",
    "tol = 1e-9\n",
    "\n",
    "solution, iterations = newton_method(f, f_prime, x0, tol)\n",
    "\n",
    "print(\"La solución es x = \" + str(solution))\n",
    "print(\"Se necesitaron \" + str(iterations) + \" iteraciones.\")"
   ]
  },
  {
   "cell_type": "markdown",
   "id": "66be7bb2-cebd-4dac-9391-856b70f637a2",
   "metadata": {
    "id": "7837ef2b-0130-4d35-b32e-d2e51525b827"
   },
   "source": [
    "### Inciso B"
   ]
  },
  {
   "cell_type": "markdown",
   "id": "a8518982-35a4-46f3-ab23-33cb5c86e2d3",
   "metadata": {
    "id": "5ab34857-da4a-4467-be03-d8febfb18ece"
   },
   "source": [
    "Se realizará una visualización de los resultados obtenidos en el inciso A."
   ]
  },
  {
   "cell_type": "code",
   "execution_count": 3,
   "id": "89723054-beea-4bd6-850c-694267b1149d",
   "metadata": {},
   "outputs": [
    {
     "data": {
      "image/png": "[encoded data removed]",
      "text/plain": [
       "<Figure size 640x480 with 1 Axes>"
      ]
     },
     "metadata": {},
     "output_type": "display_data"
    }
   ],
   "source": [
    "import numpy as np\n",
    "import matplotlib.pyplot as plt\n",
    "\n",
    "def newton_method_g(f, f_prime, x0, tol):\n",
    "    x = x0\n",
    "    iterations = 0\n",
    "    x_list = [x]\n",
    "    while abs(f(x)) > tol:\n",
    "        x = x - f(x)/f_prime(x)\n",
    "        iterations += 1\n",
    "        x_list.append(x)\n",
    "    return x_list, iterations\n",
    "\n",
    "x0 = 1\n",
    "tol = 1e-9\n",
    "\n",
    "x_list, iterations = newton_method_g(f, f_prime, x0, tol)\n",
    "\n",
    "x = np.linspace(-3, 3, 100)\n",
    "y = f(x)\n",
    "plt.plot(x, y, 'b')\n",
    "y_newton = f(np.array(x_list))\n",
    "plt.plot(x_list, y_newton, 'ro')\n",
    "plt.xlabel(\"x\")\n",
    "plt.ylabel(\"f(x)\")\n",
    "plt.legend([\"f(x)\", \"Método de Newton\"])\n",
    "plt.show()"
   ]
  },
  {
   "cell_type": "markdown",
   "id": "deeaaa01-05ad-4ec5-b4d2-33c41dbd8578",
   "metadata": {},
   "source": [
    "Este código generará un gráfico que muestra la función f(x) y las iteraciones del método de Newton en rojo:\n",
    "\n",
    "Podemos ver que el método de Newton converge rápidamente a la solución exacta en x = 2. A medida que se realizan más iteraciones, los puntos rojos se acercan cada vez más a la intersección de la función con el eje x."
   ]
  },
  {
   "cell_type": "markdown",
   "id": "58c83ecb-dd87-4abe-9bd4-f33721cb376d",
   "metadata": {},
   "source": [
    "### C"
   ]
  },
  {
   "cell_type": "markdown",
   "id": "2bf67d1f-641e-4cec-927c-7049a9a6b0a7",
   "metadata": {},
   "source": [
    "El método de Newton se utiliza para aproximar soluciones de ecuaciones de la forma f(x) = 0. En este caso, queremos aproximar la solución de g(x) = 0, donde g(x) = x^2.\n",
    "\n",
    "Podemos encontrar la solución aproximada utilizando el método de Newton de la siguiente manera:"
   ]
  },
  {
   "cell_type": "code",
   "execution_count": 4,
   "id": "b7785d3e-012b-431c-93d5-fb46ff300751",
   "metadata": {},
   "outputs": [
    {
     "name": "stdout",
     "output_type": "stream",
     "text": [
      "x0 = 1\n",
      "x1 = 0.5\n",
      "x2 = 0.25\n",
      "x3 = 0.125\n",
      "x4 = 0.0625\n",
      "x5 = 0.03125\n",
      "x6 = 0.015625\n",
      "x7 = 0.0078125\n",
      "x8 = 0.00390625\n",
      "x9 = 0.001953125\n",
      "x10 = 0.0009765625\n",
      "x11 = 0.00048828125\n",
      "x12 = 0.000244140625\n",
      "x13 = 0.0001220703125\n",
      "x14 = 6.103515625e-05\n",
      "x15 = 3.0517578125e-05\n",
      "La solución es x = 3.0517578125e-05\n",
      "Se necesitaron 15 iteraciones.\n"
     ]
    }
   ],
   "source": [
    "def g(x):\n",
    "    return x**2\n",
    "\n",
    "def g_prime(x):\n",
    "    return 2*x\n",
    "\n",
    "x0 = 1\n",
    "tol = 1e-9\n",
    "\n",
    "solution, iterations = newton_method(g, g_prime, x0, tol)\n",
    "\n",
    "print(\"La solución es x = \" + str(solution))\n",
    "print(\"Se necesitaron \" + str(iterations) + \" iteraciones.\")"
   ]
  },
  {
   "cell_type": "markdown",
   "id": "37a0fae7-a245-4200-a720-f8d95656d80b",
   "metadata": {},
   "source": [
    "### D"
   ]
  },
  {
   "cell_type": "code",
   "execution_count": 5,
   "id": "e52f1271-5fab-40ab-860c-ffc7cf1d1719",
   "metadata": {},
   "outputs": [
    {
     "data": {
      "image/png": "[encoded data removed]",
      "text/plain": [
       "<Figure size 640x480 with 1 Axes>"
      ]
     },
     "metadata": {},
     "output_type": "display_data"
    }
   ],
   "source": [
    "x0 = 1\n",
    "\n",
    "x_list, iterations = newton_method_g(g, g_prime, x0, tol)\n",
    "\n",
    "y = g(x)\n",
    "plt.plot(x, y, 'b')\n",
    "y_newton = g(np.array(x_list))\n",
    "plt.plot(x_list, y_newton, 'ro')\n",
    "plt.xlabel(\"x\")\n",
    "plt.ylabel(\"g(x)\")\n",
    "plt.legend([\"g(x)\", \"Método de Newton\"])\n",
    "plt.show()"
   ]
  },
  {
   "cell_type": "markdown",
   "id": "3663e797-5d55-4c96-be49-badb00d68f0a",
   "metadata": {},
   "source": [
    "### E"
   ]
  },
  {
   "cell_type": "markdown",
   "id": "eb09f5b7-f618-43fb-bedf-3c2008f6c16a",
   "metadata": {},
   "source": [
    "La razón por la cual el método de Newton converge más rápidamente para la función $f(x)$ que para la función $g(x)$ es que la función $f(x)$ tiene una raíz doble en $x=2$ y $x=-2$, lo que hace que el método de Newton converja rápidamente a la raíz. Por otro lado, la función $g(x)$ tiene una única raíz en $x=0$, pero en la primera iteración el método de Newton se acerca a la raíz muy lentamente debido a la forma de la función y la elección del punto inicial $x_0$.\n",
    "\n",
    "Por lo tanto, podemos concluir que el método de Newton converge en menos iteraciones para la función $f(x) = x^2 - 4$ que para la función $g(x) = x^2$, lo que demuestra que la velocidad de convergencia del método de Newton depende no solo de la forma de la función, sino también de la elección del punto inicial $x_0$."
   ]
  }
 ],
 "metadata": {
  "kernelspec": {
   "display_name": "Python 3 (ipykernel)",
   "language": "python",
   "name": "python3"
  },
  "language_info": {
   "codemirror_mode": {
    "name": "ipython",
    "version": 3
   },
   "file_extension": ".py",
   "mimetype": "text/x-python",
   "name": "python",
   "nbconvert_exporter": "python",
   "pygments_lexer": "ipython3",
   "version": "3.9.13"
  }
 },
 "nbformat": 4,
 "nbformat_minor": 5
}
