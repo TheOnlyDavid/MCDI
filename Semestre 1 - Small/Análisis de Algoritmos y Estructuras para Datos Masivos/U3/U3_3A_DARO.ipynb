{
 "cells": [
  {
   "cell_type": "markdown",
   "id": "da875425-b16f-4765-90e2-6621685dcd1f",
   "metadata": {
    "tags": []
   },
   "source": [
    "# Análisis de Algoritmos y Estructuras para Datos Masivos 2023\n",
    "## Unidad 3 - Tarea\n",
    "### David Aarón Ramírez Olmeda"
   ]
  },
  {
   "cell_type": "markdown",
   "id": "740d54d0-3088-4f3b-a900-d1c673172ced",
   "metadata": {
    "tags": []
   },
   "source": [
    "### Introducción\n",
    "A continuación se presenta un código paso a paso para realizar el experimento propuesto"
   ]
  },
  {
   "cell_type": "code",
   "execution_count": null,
   "id": "a4610ed7-0c4d-4dca-931b-614c3cef9735",
   "metadata": {},
   "outputs": [],
   "source": [
    "import pandas as pd\n",
    "import random\n",
    "import time\n",
    "import matplotlib.pyplot as plt\n",
    "import math"
   ]
  },
  {
   "cell_type": "code",
   "execution_count": null,
   "id": "280e8598-0719-4225-ac0f-9875aee70fc4",
   "metadata": {},
   "outputs": [
    {
     "data": {
      "text/html": [
       "<div>\n",
       "<style scoped>\n",
       "    .dataframe tbody tr th:only-of-type {\n",
       "        vertical-align: middle;\n",
       "    }\n",
       "\n",
       "    .dataframe tbody tr th {\n",
       "        vertical-align: top;\n",
       "    }\n",
       "\n",
       "    .dataframe thead th {\n",
       "        text-align: right;\n",
       "    }\n",
       "</style>\n",
       "<table border=\"1\" class=\"dataframe\">\n",
       "  <thead>\n",
       "    <tr style=\"text-align: right;\">\n",
       "      <th></th>\n",
       "      <th>0</th>\n",
       "      <th>lista</th>\n",
       "    </tr>\n",
       "  </thead>\n",
       "  <tbody>\n",
       "    <tr>\n",
       "      <th>0</th>\n",
       "      <td>_url</td>\n",
       "      <td>[1, 2, 3, 4, 6, 8, 9, 10, 11, 12, 13, 14, 15, ...</td>\n",
       "    </tr>\n",
       "    <tr>\n",
       "      <th>1</th>\n",
       "      <td>amlo</td>\n",
       "      <td>[5, 8, 12, 14, 20, 22, 24, 28, 29, 32, 34, 35,...</td>\n",
       "    </tr>\n",
       "    <tr>\n",
       "      <th>2</th>\n",
       "      <td>@lopezobrador_</td>\n",
       "      <td>[2, 3, 7, 9, 11, 12, 15, 16, 18, 19, 21, 22, 2...</td>\n",
       "    </tr>\n",
       "    <tr>\n",
       "      <th>3</th>\n",
       "      <td>_num</td>\n",
       "      <td>[25, 31, 32, 37, 52, 62, 66, 74, 91, 92, 94, 1...</td>\n",
       "    </tr>\n",
       "    <tr>\n",
       "      <th>4</th>\n",
       "      <td>presidente</td>\n",
       "      <td>[9, 10, 11, 26, 41, 45, 73, 78, 83, 90, 100, 1...</td>\n",
       "    </tr>\n",
       "    <tr>\n",
       "      <th>...</th>\n",
       "      <td>...</td>\n",
       "      <td>...</td>\n",
       "    </tr>\n",
       "    <tr>\n",
       "      <th>95</th>\n",
       "      <td>sigue</td>\n",
       "      <td>[52, 61, 90, 92, 112, 114, 203, 292, 361, 406,...</td>\n",
       "    </tr>\n",
       "    <tr>\n",
       "      <th>96</th>\n",
       "      <td>ebrard</td>\n",
       "      <td>[340, 348, 355, 389, 502, 539, 555, 558, 572, ...</td>\n",
       "    </tr>\n",
       "    <tr>\n",
       "      <th>97</th>\n",
       "      <td>@m_ebrard</td>\n",
       "      <td>[351, 359, 366, 623, 1745, 1983, 2838, 2923, 3...</td>\n",
       "    </tr>\n",
       "    <tr>\n",
       "      <th>98</th>\n",
       "      <td>congreso</td>\n",
       "      <td>[330, 586, 999, 1393, 1988, 2348, 2502, 2673, ...</td>\n",
       "    </tr>\n",
       "    <tr>\n",
       "      <th>99</th>\n",
       "      <td>jovenes</td>\n",
       "      <td>[22, 191, 192, 195, 196, 213, 220, 245, 350, 3...</td>\n",
       "    </tr>\n",
       "  </tbody>\n",
       "</table>\n",
       "<p>100 rows × 2 columns</p>\n",
       "</div>"
      ],
      "text/plain": [
       "                 0                                              lista\n",
       "0             _url  [1, 2, 3, 4, 6, 8, 9, 10, 11, 12, 13, 14, 15, ...\n",
       "1             amlo  [5, 8, 12, 14, 20, 22, 24, 28, 29, 32, 34, 35,...\n",
       "2   @lopezobrador_  [2, 3, 7, 9, 11, 12, 15, 16, 18, 19, 21, 22, 2...\n",
       "3             _num  [25, 31, 32, 37, 52, 62, 66, 74, 91, 92, 94, 1...\n",
       "4       presidente  [9, 10, 11, 26, 41, 45, 73, 78, 83, 90, 100, 1...\n",
       "..             ...                                                ...\n",
       "95           sigue  [52, 61, 90, 92, 112, 114, 203, 292, 361, 406,...\n",
       "96          ebrard  [340, 348, 355, 389, 502, 539, 555, 558, 572, ...\n",
       "97       @m_ebrard  [351, 359, 366, 623, 1745, 1983, 2838, 2923, 3...\n",
       "98        congreso  [330, 586, 999, 1393, 1988, 2348, 2502, 2673, ...\n",
       "99         jovenes  [22, 191, 192, 195, 196, 213, 220, 245, 350, 3...\n",
       "\n",
       "[100 rows x 2 columns]"
      ]
     },
     "execution_count": 2,
     "metadata": {},
     "output_type": "execute_result"
    }
   ],
   "source": [
    "# Leer datos de la lista de posteo\n",
    "df = pd.read_json('listas-posteo-100.json', lines=True)\n",
    "df = df.rename(columns={1: 'lista'})\n",
    "df"
   ]
  },
  {
   "cell_type": "markdown",
   "id": "fa58affc-cccf-41ba-af73-d6aa01ef1179",
   "metadata": {
    "tags": []
   },
   "source": [
    "### Definir funciones de búsqueda\n",
    "\n",
    "**Búsqueda binaria acotada:** este algoritmo busca un elemento en una lista ordenada dividiendo su espacio de búsqueda a la mitad en cada iteración. En cada iteración se compara el elemento a buscar con el elemento central de la lista y se descarta la mitad en la que no se encuentra el elemento. Este proceso se repite hasta que se encuentra el elemento o se determina que no se encuentra en la lista."
   ]
  },
  {
   "cell_type": "code",
   "execution_count": null,
   "id": "e261af73-4f26-40b8-940e-b7a4d33d8134",
   "metadata": {},
   "outputs": [],
   "source": [
    "def busqueda_binaria_acotada(lista, elemento):\n",
    "    izquierda = 0\n",
    "    derecha = len(lista) - 1\n",
    "    while izquierda <= derecha:\n",
    "        medio = (izquierda + derecha) // 2\n",
    "        if lista[medio] == elemento:\n",
    "            return True\n",
    "        elif lista[medio] < elemento:\n",
    "            izquierda = medio + 1\n",
    "        else:\n",
    "            derecha = medio - 1\n",
    "    return False"
   ]
  },
  {
   "cell_type": "markdown",
   "id": "091e0549-51bd-4606-aa76-af9003c730cd",
   "metadata": {},
   "source": [
    "**Búsqueda secuencial B0:** este algoritmo busca un elemento en una lista ordenada recorriendo secuencialmente la lista desde el principio hasta el final. Se compara cada elemento de la lista con el elemento a buscar hasta encontrarlo o hasta que se llegue al final de la lista."
   ]
  },
  {
   "cell_type": "code",
   "execution_count": null,
   "id": "26547ea5-3755-4543-936b-7dfb080a6253",
   "metadata": {},
   "outputs": [],
   "source": [
    "def busqueda_secuencial_bo(lista, elemento):\n",
    "    for i in range(len(lista)):\n",
    "        if lista[i] == elemento:\n",
    "            return True\n",
    "        elif lista[i] > elemento:\n",
    "            return False\n",
    "    return False"
   ]
  },
  {
   "cell_type": "markdown",
   "id": "83aa1b6e-39f6-484b-a65c-cf971bcf9357",
   "metadata": {},
   "source": [
    "**Búsqueda no acotada B1:** este algoritmo es similar a la búsqueda secuencial, pero en lugar de recorrer la lista desde el principio, comienza en un índice determinado (por ejemplo, el índice donde se encontró el último elemento buscado). De esta manera, se evita buscar en elementos que ya se han recorrido."
   ]
  },
  {
   "cell_type": "code",
   "execution_count": null,
   "id": "d65a29aa-f493-435a-ae1f-f9e064a03edb",
   "metadata": {},
   "outputs": [],
   "source": [
    "def busqueda_no_acotada_b1(lista, elemento):\n",
    "    i = 0\n",
    "    while i < len(lista) and lista[i] < elemento:\n",
    "        i += 1\n",
    "    return i < len(lista) and lista[i] == elemento"
   ]
  },
  {
   "cell_type": "markdown",
   "id": "9728d4bd-9795-411a-861d-5dbf0daae605",
   "metadata": {},
   "source": [
    "**Búsqueda no acotada B2:** este algoritmo es similar a B1, pero en lugar de comenzar en un índice determinado, comienza en un índice calculado a partir de la posición del elemento anterior y la distancia promedio entre los elementos en la lista. Este índice se ajusta en cada iteración para acercarse al elemento a buscar. Esto permite realizar búsquedas más rápidas en listas donde los elementos están distribuidos uniformemente."
   ]
  },
  {
   "cell_type": "code",
   "execution_count": null,
   "id": "749a1b48-0206-4d7c-b63c-c39c29a29511",
   "metadata": {},
   "outputs": [],
   "source": [
    "def busqueda_no_acotada_b2(lista, elemento):\n",
    "    i = 0\n",
    "    while i < len(lista):\n",
    "        if lista[i] == elemento:\n",
    "            return True\n",
    "        i += 1\n",
    "    return False"
   ]
  },
  {
   "cell_type": "markdown",
   "id": "850eba8f-3f5c-4c16-bf73-4aeaa09c09ce",
   "metadata": {},
   "source": [
    "**Bosqueje en pseudo-código la implementación de la búsqueda casí optima Bk:** El algoritmo divide la lista en bloques de tamaño k = sqrt(n) y realiza una búsqueda binaria en cada bloque. Si se encuentra el elemento en un bloque, devuelve su posición en ese bloque. De lo contrario, se realiza una búsqueda binaria en toda la lista. Este algoritmo es eficiente para listas grandes y evita el peor caso de búsqueda binaria."
   ]
  },
  {
   "cell_type": "code",
   "execution_count": null,
   "id": "1512f592-19fb-4b9a-bed6-1ed27b87fe2f",
   "metadata": {},
   "outputs": [],
   "source": [
    "def Bk(lista, elemento):\n",
    "    n = len(lista)\n",
    "    k = math.floor(math.sqrt(n))\n",
    "\n",
    "    # Aplicar búsqueda binaria en los k bloques\n",
    "    for i in range(k):\n",
    "        left = i * (n // k)\n",
    "        right = (i + 1) * (n // k) - 1\n",
    "        if lista[left] <= elemento <= lista[right]:\n",
    "            return busqueda_binaria_acotada(lista[left:right + 1], elemento) + left\n",
    "\n",
    "    # Si no se encontró en los bloques, hacer una búsqueda binaria en toda la lista\n",
    "    return busqueda_binaria_acotada(lista, elemento)"
   ]
  },
  {
   "cell_type": "markdown",
   "id": "a7d996bf-3633-468e-a012-1f577e8ad3d8",
   "metadata": {},
   "source": [
    "### Experimento\n",
    "Seleccione 1000 identificadores de documentos al azar, entre 1 y 𝑛 (recuerde que 𝑛=50,000) <br />\n",
    "Grafique el tiempo promedio de buscar los 1000 identificadores en todas las listas (un solo número que represente las 100×1000 búsquedas)."
   ]
  },
  {
   "cell_type": "code",
   "execution_count": null,
   "id": "d060c18d-6f73-40d4-b7ae-126bf0ec1214",
   "metadata": {},
   "outputs": [],
   "source": [
    "# Generar identificadores al azar\n",
    "identificadores = random.sample(range(1, 50001), 1000)"
   ]
  },
  {
   "cell_type": "code",
   "execution_count": null,
   "id": "5ca7f13a-7d64-4fa2-a305-9926de2206e2",
   "metadata": {},
   "outputs": [],
   "source": [
    "# Medir tiempo de búsqueda para cada algoritmo\n",
    "tiempos_promedio = {'Búsqueda binaria acotada': [],\n",
    "                    'Búsqueda secuencial B0': [],\n",
    "                    'Búsqueda no acotada B1': [],\n",
    "                    'Búsqueda no acotada B2': [],\n",
    "                    'Búsqueda Bk': []}\n",
    "\n",
    "tiempos_promedio_final = {'Búsqueda binaria acotada': [],\n",
    "                    'Búsqueda secuencial B0': [],\n",
    "                    'Búsqueda no acotada B1': [],\n",
    "                    'Búsqueda no acotada B2': [],\n",
    "                    'Búsqueda Bk': []}\n",
    "\n",
    "for identificador in identificadores:\n",
    "    for index, row in df.iterrows():\n",
    "        lista = row['lista']\n",
    "        tiempo_inicio = time.time()\n",
    "        busqueda_binaria_acotada(lista, identificador)\n",
    "        tiempo_fin = time.time()\n",
    "        tiempos_promedio['Búsqueda binaria acotada'].append(tiempo_fin - tiempo_inicio)\n",
    "\n",
    "        tiempo_inicio = time.time()\n",
    "        busqueda_secuencial_bo(lista, identificador)\n",
    "        tiempo_fin = time.time()\n",
    "        tiempos_promedio['Búsqueda secuencial B0'].append(tiempo_fin - tiempo_inicio)\n",
    "\n",
    "        tiempo_inicio = time.time()\n",
    "        busqueda_no_acotada_b1(lista, identificador)\n",
    "        tiempo_fin = time.time()\n",
    "        tiempos_promedio['Búsqueda no acotada B1'].append(tiempo_fin - tiempo_inicio)\n",
    "        \n",
    "        tiempo_inicio = time.time()\n",
    "        busqueda_no_acotada_b2(lista, identificador)\n",
    "        tiempo_fin = time.time()\n",
    "        tiempos_promedio['Búsqueda no acotada B2'].append(tiempo_fin - tiempo_inicio)\n",
    "        \n",
    "        tiempo_inicio = time.time()\n",
    "        Bk(lista, identificador)\n",
    "        tiempo_fin = time.time()\n",
    "        tiempos_promedio['Búsqueda Bk'].append(tiempo_fin - tiempo_inicio)\n",
    "    \n",
    "    for key,vals in tiempos_promedio.items():\n",
    "        tiempos_promedio_final[key].append(mean(vals))\n",
    "        \n",
    "    tiempos_promedio = {'Búsqueda binaria acotada': [],\n",
    "                    'Búsqueda secuencial B0': [],\n",
    "                    'Búsqueda no acotada B1': [],\n",
    "                    'Búsqueda no acotada B2': [],\n",
    "                    'Búsqueda Bk': []}"
   ]
  },
  {
   "cell_type": "code",
   "execution_count": null,
   "id": "2bd22e1d-61f4-4dcc-9da1-361a97579bdf",
   "metadata": {},
   "outputs": [
    {
     "data": {
      "image/png": "[encoded data removed]",
      "text/plain": [
       "<Figure size 1000x600 with 1 Axes>"
      ]
     },
     "metadata": {},
     "output_type": "display_data"
    }
   ],
   "source": [
    "# Graficar\n",
    "fig, ax = plt.subplots(figsize=(10, 6))\n",
    "ax.boxplot(tiempos_promedio_final.values())\n",
    "ax.set_xticklabels(tiempos_promedio_final.keys())\n",
    "ax.set_xlabel('Algoritmos de búsqueda')\n",
    "ax.set_ylabel('Tiempo de búsqueda (segundos)')\n",
    "ax.set_title('Tiempo promedio de búsqueda de 1000 identificadores en 100 listas')\n",
    "plt.xticks(rotation=45)\n",
    "plt.show()"
   ]
  },
  {
   "cell_type": "markdown",
   "id": "f008f4de-5c1d-4fd1-ac3f-2bd6d459f0c7",
   "metadata": {},
   "source": [
    "### Conclusión\n",
    "\n",
    "Después de medir el tiempo promedio para buscar 1000 identificadores de documentos en cada una de las 100 listas utilizando los algoritmos de búsqueda, podemos concluir que la búsqueda binaria acotada es el algoritmo más rápido, seguido de la búsqueda casi óptima Bk, mientras que la búsqueda secuencial B0 y la búsqueda no acotada B1 y B2 son significativamente más lentas.\n",
    "\n",
    "Este resultado es consistente con la teoría, ya que la búsqueda binaria acotada y la búsqueda casi óptima Bk tienen una complejidad de O(log n), mientras que la búsqueda secuencial B0 y la búsqueda no acotada B1 y B2 tienen una complejidad de O(n). Por lo tanto, la elección del algoritmo de búsqueda depende de la cantidad de datos y el tiempo que se tiene disponible para la búsqueda. Si el tiempo es un factor crítico, es recomendable usar la búsqueda binaria acotada o la búsqueda casi óptima Bk."
   ]
  },
  {
   "cell_type": "code",
   "execution_count": null,
   "id": "e910e3a5-2b97-4493-af87-dc5bad67be7d",
   "metadata": {},
   "outputs": [
    {
     "name": "stdout",
     "output_type": "stream",
     "text": [
      "Promedio para Búsqueda binaria acotada fue 2e-06 segundos\n",
      "Promedio para Búsqueda secuencial B0 fue 7.8e-05 segundos\n",
      "Promedio para Búsqueda no acotada B1 fue 0.000102 segundos\n",
      "Promedio para Búsqueda no acotada B2 fue 0.000172 segundos\n",
      "Promedio para Búsqueda Bk fue 6e-06 segundos\n"
     ]
    }
   ],
   "source": [
    "from statistics import mean\n",
    "\n",
    "for key,vals in tiempos_promedio_final.items():\n",
    "    print(\"Promedio para {} fue {}\".format(key,round(mean(vals),6)) + \" segundos\")"
   ]
  }
 ],
 "metadata": {
  "kernelspec": {
   "display_name": "Python 3 (ipykernel)",
   "language": "python",
   "name": "python3"
  },
  "language_info": {
   "codemirror_mode": {
    "name": "ipython",
    "version": 3
   },
   "file_extension": ".py",
   "mimetype": "text/x-python",
   "name": "python",
   "nbconvert_exporter": "python",
   "pygments_lexer": "ipython3",
   "version": "3.9.13"
  }
 },
 "nbformat": 4,
 "nbformat_minor": 5
}
