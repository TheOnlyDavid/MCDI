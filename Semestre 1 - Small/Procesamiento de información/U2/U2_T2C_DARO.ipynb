{
 "cells": [
  {
   "cell_type": "markdown",
   "id": "224a93b3",
   "metadata": {
    "tags": []
   },
   "source": [
    "# Procesamiento de Información 2023\n",
    "## Unidad 2 - Tarea 2C (Corrección)\n",
    "### David Aarón Ramírez Olmeda"
   ]
  },
  {
   "cell_type": "markdown",
   "id": "79aeb4a8",
   "metadata": {},
   "source": [
    "### Introducción"
   ]
  },
  {
   "cell_type": "markdown",
   "id": "48fccc0c",
   "metadata": {},
   "source": [
    "la entropía se puede entender como una medida de incertidumbre o desorden en un sistema de símbolos, donde los símbolos menos probables aportan más información que los símbolos más frecuentes. Por lo tanto, eliminar los símbolos más comunes y redundantes puede ayudar a reducir la entropía del sistema, lo que a su vez puede llevar a una mayor eficiencia en la transmisión, almacenamiento y compresión de la información.\n",
    "\n",
    "Cabe señalar que la entropía también se relaciona con la cantidad de opciones o alternativas posibles que existen en un sistema, y que puede ser calculada matemáticamente a partir de la probabilidad de ocurrencia de cada símbolo en el sistema. En resumen, la entropía es una medida importante en la teoría de la información y tiene aplicaciones en diversos campos, desde la ingeniería hasta la física y la biología.\n",
    "\n",
    "Apoyados de los conocimientos adquiridos durante el curso y también, un poco, por las soluciones propuestas, damos inicio a nuestro experimento."
   ]
  },
  {
   "cell_type": "markdown",
   "id": "d3a2a602",
   "metadata": {},
   "source": [
    "### Experimento"
   ]
  },
  {
   "cell_type": "markdown",
   "id": "2847419f",
   "metadata": {},
   "source": [
    "Se presenta un programa que realiza el procesamiento de texto y calcula la entropía a nivel de caracteres y palabras. El objetivo del programa es analizar la distribución de frecuencias de los caracteres y palabras en un conjunto de archivos de texto y calcular la entropía correspondiente.\n",
    "\n",
    "Para calcular la entropía de un archivo de texto siguiendo los siguientes pasos, a grandes rasgos:\n",
    "\n",
    "1. Leer el archivo de texto y almacenar su contenido en una variable.\n",
    "2. Calcular la frecuencia de ocurrencia de cada símbolo (carácter) en el texto.\n",
    "3. Calcular la probabilidad de cada símbolo dividiendo su frecuencia por el número total de símbolos en el texto.\n",
    "4. Calcular la entropía a partir de la fórmula de la entropía de Shannon: $H = - sum(p * log_{2}(p))$, donde $p$ es la probabilidad de cada símbolo."
   ]
  },
  {
   "cell_type": "code",
   "execution_count": 1,
   "id": "df31b58e-1bcc-4aa3-82a5-625abc4064ae",
   "metadata": {},
   "outputs": [],
   "source": [
    "import unicodedata\n",
    "from collections import Counter\n",
    "import pandas as pd\n",
    "import math\n",
    "from matplotlib import pyplot as plt\n",
    "from matplotlib import style\n",
    "from nltk.corpus import stopwords\n",
    "from IPython.display import display, Markdown\n",
    "import re\n",
    "import unicodedata\n",
    "_SYMBOLS = set(\";:,.\\\\-\\\"'/()[]¿?¡!{}~<>|«»-—’\\t\\n\\r\")\n",
    "_STOPWORDS = stopwords.words(\"spanish\")"
   ]
  },
  {
   "cell_type": "markdown",
   "id": "3b3570a0-6aac-405b-9ba7-0cb560661512",
   "metadata": {},
   "source": [
    "### Preprocesamiento\n",
    "\n",
    "En esta parte se definen funciones para normalizar el texto, filtrar palabras y aplicar funciones de procesamiento en general. Estas funciones se utilizan posteriormente en la sección \"Procesamiento\" para realizar el procesamiento de los archivos de texto."
   ]
  },
  {
   "cell_type": "code",
   "execution_count": 2,
   "id": "87bda5ef-97a1-4b35-aef5-9667d423ba34",
   "metadata": {},
   "outputs": [],
   "source": [
    "import re\n",
    "import unicodedata\n",
    "\n",
    "def normalize_text(text, punct=False, accents=False, max_dup=2):\n",
    "    n_str = []\n",
    "    c_prev = ''\n",
    "    cc_prev = 0\n",
    "    text = unicodedata.normalize('NFKC', text)\n",
    "    words = re.findall(r'\\b\\w+\\b', text)\n",
    "    for word in words:\n",
    "        for c in word:\n",
    "            if not punct:\n",
    "                if c in _SYMBOLS:\n",
    "                    continue\n",
    "            if not accents and unicodedata.combining(c):\n",
    "                continue\n",
    "            if c_prev == c:\n",
    "                cc_prev += 1\n",
    "                if cc_prev >= max_dup:\n",
    "                    continue\n",
    "            else:\n",
    "                cc_prev = 0\n",
    "            n_str.append(c)\n",
    "            c_prev = c\n",
    "        n_str.append(' ')\n",
    "        c_prev = ' '\n",
    "    return \"\".join(n_str[:-1])\n",
    "\n",
    "# Define las palabras de detención normalizadas\n",
    "_STOPWORDS = stopwords.words(\"spanish\")\n",
    "_NORM_STOPWORDS = [normalize_text(sw) for sw in _STOPWORDS]\n",
    "\n",
    "# Filtra las palabras y remueve las palabras de detención y los enlaces\n",
    "def filter_words(text, remove_stopwords=True):\n",
    "    wlist = text.split()\n",
    "    o_text = []\n",
    "    for t in wlist:\n",
    "        if t.startswith(\"http\") or t.startswith(\"@\") or t.startswith(\"#\"):\n",
    "            continue\n",
    "        if remove_stopwords and t in _NORM_STOPWORDS:\n",
    "            continue\n",
    "        if t.isnumeric():\n",
    "            continue\n",
    "        o_text.append(t)\n",
    "    return \" \".join(o_text)"
   ]
  },
  {
   "cell_type": "code",
   "execution_count": 3,
   "id": "75184f03-0514-40e1-a58f-3753ca4e8123",
   "metadata": {},
   "outputs": [],
   "source": [
    "# Estandariza el texto, remueve símbolos duplicados, acentos y puntuación\n",
    "def normalize_text(text, punct=False, accents=False, max_dup=2):\n",
    "    n_str = []\n",
    "    c_prev = ''\n",
    "    cc_prev = 0\n",
    "    for c in text:\n",
    "        if not punct:                \n",
    "            if c in _SYMBOLS:\n",
    "                continue\n",
    "        if not accents and unicodedata.combining(c):\n",
    "            continue\n",
    "        if c_prev == c:\n",
    "            cc_prev += 1\n",
    "            if cc_prev >= max_dup:\n",
    "                continue\n",
    "        else:\n",
    "            cc_prev = 0\n",
    "        n_str.append(c)\n",
    "        c_prev = c\n",
    "    return unicodedata.normalize('NFKC', \"\".join(n_str))"
   ]
  },
  {
   "cell_type": "code",
   "execution_count": 4,
   "id": "5817ab98-d510-49e3-b92d-4f683a343557",
   "metadata": {},
   "outputs": [],
   "source": [
    "# Filtra los tokens que inician con los símbolos indicados, además de datos numéricos\n",
    "def filter_words(text, remove_stopwords=True):\n",
    "    wlist = text.split()\n",
    "    o_text = []\n",
    "    for t in wlist:\n",
    "        if t.startswith(\"http\") or t.startswith(\"@\") or t.startswith(\"#\"):\n",
    "            continue\n",
    "        if remove_stopwords and t in _NORM_STOPWORDS:\n",
    "            continue\n",
    "        if t.isnumeric():\n",
    "            continue\n",
    "        o_text.append(t)\n",
    "    return \" \".join(o_text)"
   ]
  },
  {
   "cell_type": "code",
   "execution_count": 5,
   "id": "f8f3522b-d2d4-45a1-bb35-4ec8f28ecdf4",
   "metadata": {},
   "outputs": [],
   "source": [
    "# Aplicar funciones de procesamiento\n",
    "def preprocessing(text, remove_stopwords=True):\n",
    "\ttext = text.lower()\n",
    "\ttext = normalize_text(text, punct=False, accents=False)\n",
    "\ttext = filter_words(text, remove_stopwords=remove_stopwords)\n",
    "\treturn text"
   ]
  },
  {
   "cell_type": "markdown",
   "id": "16d576d9-4d7b-41fa-94f6-012c46c978be",
   "metadata": {},
   "source": [
    "### Procesamiento\n",
    "\n",
    "Aquí se definen funciones para obtener los q-gramas de una palabra, contar las frecuencias de unigramas a nivel de caracteres y palabras, y calcular la entropía. Estas funciones se aplican a los archivos de texto proporcionados en el ejercicio, tanto a nivel de caracteres como a nivel de palabras."
   ]
  },
  {
   "cell_type": "code",
   "execution_count": 6,
   "id": "48588985-10a6-4247-9530-51039448dbc2",
   "metadata": {},
   "outputs": [],
   "source": [
    "# Obtiene una lista de qgramas basado en los caracteres de 'word'\n",
    "def qgrams(word, size):\n",
    "    sep = \"\"\n",
    "    output = []\n",
    "    wlist = [c  for c in word]\n",
    "    n = len(wlist)\n",
    "    if (n - size + 1) <= 0:\n",
    "        return []\n",
    "    for start in range(n - size + 1):\n",
    "        t = sep.join(wlist[start:start+size])\n",
    "        output.append(t)\n",
    "    return output"
   ]
  },
  {
   "cell_type": "code",
   "execution_count": 7,
   "id": "ad01d08a-0513-48bf-83b9-801ed5d89361",
   "metadata": {},
   "outputs": [],
   "source": [
    "# Cuenta las frecuencias de unigramas a nivel de caracter del archivo\n",
    "def FrequencyDist_Char(file_name):\n",
    "    with open(file_name, \"r\") as archivo:\n",
    "        contenido = archivo.read()\n",
    "        contenido = contenido.replace('\\n', ' ')\n",
    "    uni_counts = Counter()\n",
    "    contenido = preprocessing(contenido)\n",
    "    contenido = contenido.split()     \n",
    "        # contar unigrams de caracteres\n",
    "    for w in contenido:\n",
    "        for q in qgrams(w, size=1):\n",
    "            uni_counts[q] += 1    \n",
    "    return uni_counts"
   ]
  },
  {
   "cell_type": "code",
   "execution_count": 8,
   "id": "256870de-270b-45be-bc44-032013820f47",
   "metadata": {},
   "outputs": [],
   "source": [
    "# Cuenta las frecuencias de unigramas del archivo a nivel de palabras\n",
    "def FrequencyDist(file_name, remove_stopwords=True):\n",
    "    with open(file_name, \"r\") as archivo:\n",
    "        contenido = archivo.read()\n",
    "        contenido = contenido.replace('\\n', ' ')\n",
    "    uni_counts = Counter()\n",
    "    #for text in contenido:\n",
    "    contenido = preprocessing(contenido, remove_stopwords=remove_stopwords)\n",
    "    contenido = contenido.split()     \n",
    "        # contar unigrams\n",
    "    for w in contenido:\n",
    "        uni_counts[w] += 1    \n",
    "    return uni_counts"
   ]
  },
  {
   "cell_type": "code",
   "execution_count": 9,
   "id": "4b80ef23-1e72-484d-8703-89fc74958cca",
   "metadata": {},
   "outputs": [],
   "source": [
    "# Cálcula la entropía con base en los datos proporcionados en data\n",
    "def entropy(data):\n",
    "    N = sum(data.values())\n",
    "    H = 0\n",
    "    for b, v in data.items():\n",
    "        H += data[b]/N * math.log2(data[b]/N)\n",
    "    return -H"
   ]
  },
  {
   "cell_type": "markdown",
   "id": "d0a252a6-c810-4db1-ac50-6edf5b778401",
   "metadata": {},
   "source": [
    "### Ejercicio\n",
    "\n",
    "Se ejecuta el código utilizando los archivos de texto mencionados. Se muestra la entropía calculada a nivel de caracteres y palabras, tanto con stopwords como sin stopwords, para cada archivo de texto."
   ]
  },
  {
   "cell_type": "code",
   "execution_count": 10,
   "id": "e82d4749-e2a7-4b9d-80e0-5db2a41c2aea",
   "metadata": {},
   "outputs": [
    {
     "name": "stdout",
     "output_type": "stream",
     "text": [
      "==================================================\n",
      "Entropía a nivel de caracter: text_1.txt\n",
      "Entropía: 3.1057411376611377\n",
      "\n",
      "==================================================\n",
      "Entropía a nivel de caracter: text_2.txt\n",
      "Entropía: 3.113216813728976\n",
      "\n",
      "==================================================\n",
      "Entropía a nivel de caracter: text_3.txt\n",
      "Entropía: 3.259511437981394\n",
      "\n",
      "==================================================\n",
      "Entropía a nivel de caracter: text_4.txt\n",
      "Entropía: 3.154173423441847\n",
      "\n",
      "==================================================\n",
      "Entropía a nivel de caracter: text_5.txt\n",
      "Entropía: 3.19914765068374\n",
      "\n"
     ]
    },
    {
     "data": {
      "image/png": "[encoded data removed]",
      "text/plain": [
       "<Figure size 1000x400 with 1 Axes>"
      ]
     },
     "metadata": {},
     "output_type": "display_data"
    }
   ],
   "source": [
    "# Ejemplo de ejecución a nivel de caracteres\n",
    "\n",
    "entropy_char = []\n",
    "file_names_char = []\n",
    "\n",
    "for k in range(1, 6):\n",
    "    file_name = \"text_{}.txt\".format(k)\n",
    "    print(\"=\" * 50)\n",
    "    print(\"Entropía a nivel de caracter: {}\".format(file_name))\n",
    "    unigrams = FrequencyDist_Char(file_name)\n",
    "    entropy_val = entropy(unigrams)\n",
    "    entropy_char.append(entropy_val)\n",
    "    file_names_char.append(file_name)\n",
    "    print(\"Entropía: {}\".format(entropy_val))\n",
    "    print()\n",
    "\n",
    "plt.figure(figsize=(10, 4))\n",
    "plt.plot(file_names_char, entropy_char, marker='o')\n",
    "plt.xlabel(\"Archivo\")\n",
    "plt.ylabel(\"Entropía\")\n",
    "plt.title(\"Entropía a nivel de caracter\")\n",
    "plt.xticks(rotation=45)\n",
    "plt.tight_layout()\n",
    "plt.show()"
   ]
  },
  {
   "cell_type": "code",
   "execution_count": 11,
   "id": "977a117d-fe08-40be-98b7-1aa77808db12",
   "metadata": {},
   "outputs": [
    {
     "name": "stdout",
     "output_type": "stream",
     "text": [
      "==================================================\n",
      "Entropía a nivel de palabras con stopwords: libro_1.txt\n",
      "Entropía: 9.313720626147601\n",
      "\n",
      "==================================================\n",
      "Entropía a nivel de palabras con stopwords: libro_2.txt\n",
      "Entropía: 9.686649655413543\n",
      "\n",
      "==================================================\n",
      "Entropía a nivel de palabras sin stopwords: libro_1.txt\n",
      "Entropía: 11.28907348315581\n",
      "\n",
      "==================================================\n",
      "Entropía a nivel de palabras sin stopwords: libro_2.txt\n",
      "Entropía: 11.730535257774413\n",
      "\n"
     ]
    },
    {
     "data": {
      "image/png": "[encoded data removed]",
      "text/plain": [
       "<Figure size 1000x400 with 1 Axes>"
      ]
     },
     "metadata": {},
     "output_type": "display_data"
    }
   ],
   "source": [
    "entropy_with_stopwords = []\n",
    "entropy_without_stopwords = []\n",
    "file_names_words = []\n",
    "\n",
    "for k in range(1, 3):\n",
    "    file_name = \"libro_{}.txt\".format(k)\n",
    "    print(\"=\" * 50)\n",
    "    print(\"Entropía a nivel de palabras con stopwords: {}\".format(file_name))\n",
    "    unigrams = FrequencyDist(file_name, remove_stopwords=False)\n",
    "    entropy_val = entropy(unigrams)\n",
    "    entropy_with_stopwords.append(entropy_val)\n",
    "    file_names_words.append(file_name)\n",
    "    print(\"Entropía: {}\".format(entropy_val))\n",
    "    print()\n",
    "\n",
    "for k in range(1, 3):\n",
    "    file_name = \"libro_{}.txt\".format(k)\n",
    "    print(\"=\" * 50)\n",
    "    print(\"Entropía a nivel de palabras sin stopwords: {}\".format(file_name))\n",
    "    unigrams = FrequencyDist(file_name, remove_stopwords=True)\n",
    "    entropy_val = entropy(unigrams)\n",
    "    entropy_without_stopwords.append(entropy_val)\n",
    "    print(\"Entropía: {}\".format(entropy_val))\n",
    "    print()\n",
    "\n",
    "plt.figure(figsize=(10, 4))\n",
    "plt.plot(file_names_words, entropy_with_stopwords, marker='o', label='Con stopwords')\n",
    "plt.plot(file_names_words, entropy_without_stopwords, marker='o', label='Sin stopwords')\n",
    "plt.xlabel(\"Archivo\")\n",
    "plt.ylabel(\"Entropía\")\n",
    "plt.title(\"Entropía a nivel de palabras\")\n",
    "plt.xticks(rotation=45)\n",
    "plt.tight_layout()\n",
    "plt.legend()\n",
    "plt.show()"
   ]
  },
  {
   "cell_type": "markdown",
   "id": "bc3d653f-2dc1-4ea1-a32f-32b010a20bee",
   "metadata": {},
   "source": [
    "### Conclusión\n",
    "\n",
    "En el caso de los archivos de texto analizados, se observa que la entropía a nivel de caracteres es relativamente baja, lo que indica una mayor predictibilidad en la distribución de los caracteres. Por otro lado, la entropía a nivel de palabras es mayor, lo que sugiere una mayor variedad y diversidad en la elección de palabras utilizadas en los textos.\n",
    "\n",
    "La opción de eliminar las palabras de detención (stopwords) tiene un impacto en la entropía a nivel de palabras, reduciendo la variabilidad y aumentando la predictibilidad en la distribución de palabras\n",
    "\n",
    "Esta es una herramienta útil para analizar la complejidad y diversidad de los archivos de texto, lo que puede ser aplicado en diferentes áreas como dentro del procesamiento de información."
   ]
  },
  {
   "cell_type": "code",
   "execution_count": null,
   "id": "b0ea3c03-7f0c-4255-9c3c-dfa79af21e0f",
   "metadata": {},
   "outputs": [],
   "source": []
  }
 ],
 "metadata": {
  "kernelspec": {
   "display_name": "Python 3 (ipykernel)",
   "language": "python",
   "name": "python3"
  },
  "language_info": {
   "codemirror_mode": {
    "name": "ipython",
    "version": 3
   },
   "file_extension": ".py",
   "mimetype": "text/x-python",
   "name": "python",
   "nbconvert_exporter": "python",
   "pygments_lexer": "ipython3",
   "version": "3.9.13"
  }
 },
 "nbformat": 4,
 "nbformat_minor": 5
}
