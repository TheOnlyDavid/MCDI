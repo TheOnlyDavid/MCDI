{
 "cells": [
  {
   "cell_type": "markdown",
   "id": "8dd7b6e2-74da-42d5-a0d9-8d6d929eb889",
   "metadata": {
    "tags": []
   },
   "source": [
    "# Procesamiento de Información 2023\n",
    "## Unidad 7 - Tarea\n",
    "## Detección de Emociones: Agresividad\n",
    "### David Aarón Ramírez Olmeda"
   ]
  },
  {
   "cell_type": "markdown",
   "id": "b9a24271-dc29-4e48-968c-0a1dbc5a197d",
   "metadata": {
    "tags": []
   },
   "source": [
    "## Introducción\n",
    "\n",
    "En este trabajo, hemos abordado el problema de clasificar la agresividad en comentarios de Twitter en idioma español. Nuestro objetivo ha sido desarrollar un modelo de aprendizaje automático que pueda detectar si un texto contiene agresividad o no. Para ello, se nos proporcionó un conjunto de datos de entrenamiento etiquetados manualmente, donde cada comentario tiene una clase asociada: \"0\" para comentarios no agresivos y \"1\" para comentarios agresivos.\n",
    "\n",
    "Para abordar esta tarea, podemos aprovechar parte del trabajo realizado en la actividad anterior y hacer algunas modificaciones justo como hemos hecho anteriormente."
   ]
  },
  {
   "cell_type": "markdown",
   "id": "90e76756-0b1e-4167-ac3e-7c7bb6ca4f3b",
   "metadata": {},
   "source": [
    "## Desarrollo\n",
    "\n",
    "Realizamos el preprocesamiento de los textos, construimos vectores de características y entrenamos un clasificador SVM lineal utilizando los vectores de características y el conjunto de datos de entrenamiento."
   ]
  },
  {
   "cell_type": "code",
   "execution_count": 1,
   "id": "fb375802-17fd-4c83-8fab-a00aae07e1ea",
   "metadata": {},
   "outputs": [],
   "source": [
    "import os\n",
    "\n",
    "import re\n",
    "import json\n",
    "import unicodedata\n",
    "\n",
    "import numpy as np\n",
    "import pandas as pd\n",
    "\n",
    "import nltk\n",
    "from nltk.corpus import stopwords\n",
    "from nltk.stem.snowball import SnowballStemmer\n",
    "\n",
    "from sklearn.feature_extraction.text import CountVectorizer\n",
    "from sklearn import svm\n",
    "from sklearn.metrics import classification_report\n",
    "\n",
    "import matplotlib.pyplot as plt"
   ]
  },
  {
   "cell_type": "code",
   "execution_count": 2,
   "id": "4b2730b5-b175-4855-92f2-05e2272fc4e4",
   "metadata": {
    "tags": []
   },
   "outputs": [],
   "source": [
    "# Preprocesamiento\n",
    "stop_words = set(stopwords.words(\"spanish\"))\n",
    "stemmer = SnowballStemmer(\"spanish\")\n",
    "\n",
    "def preprocess(text):\n",
    "    text = re.sub(r'[^\\w\\s]', '', text)\n",
    "    # Eliminar símbolos duplicados (2 consecutivos)\n",
    "    text = re.sub(r'(\\w)\\1+', r'\\1\\1', text)\n",
    "    text = text.lower()\n",
    "    tokens = nltk.word_tokenize(text)\n",
    "    tokens = [token for token in tokens if token not in stop_words]\n",
    "    tokens = [stemmer.stem(token) for token in tokens]\n",
    "    return \" \".join(tokens)"
   ]
  },
  {
   "cell_type": "code",
   "execution_count": 3,
   "id": "c2c995d3-6eba-4e0b-9446-79045fbd23c6",
   "metadata": {},
   "outputs": [],
   "source": [
    "# Lectura del archivo de entrenamiento\n",
    "train_data = []\n",
    "with open('AggressivenessDetection_train.json') as f:\n",
    "    for line in f: \n",
    "        train_data.append(json.loads(line))\n",
    "        \n",
    "train_df = pd.DataFrame(train_data)"
   ]
  },
  {
   "cell_type": "code",
   "execution_count": 4,
   "id": "30f7b116-9fcf-475d-943f-e8e13a54e06a",
   "metadata": {},
   "outputs": [],
   "source": [
    "# Lectura archivo test\n",
    "test_data = []\n",
    "with open('AggressivenessDetection_predict.json') as f:\n",
    "    for line in f:\n",
    "        test_data.append(json.loads(line))\n",
    "        \n",
    "test_df = pd.DataFrame(test_data)"
   ]
  },
  {
   "cell_type": "code",
   "execution_count": 5,
   "id": "bd5b40a7-959a-42fb-8765-1b5d92acf321",
   "metadata": {},
   "outputs": [
    {
     "name": "stdout",
     "output_type": "stream",
     "text": [
      "Exactitud del modelo en el conjunto de datos de prueba: 0.9945440374123149\n"
     ]
    }
   ],
   "source": [
    "# Preprocesamiento\n",
    "train_df['processed_text'] = train_df['text'].apply(preprocess)\n",
    "\n",
    "# Construir vectores de características\n",
    "vectorizer = CountVectorizer()\n",
    "X = vectorizer.fit_transform(train_df['processed_text'])\n",
    "y = train_df['klass']\n",
    "\n",
    "# Entrenar el clasificador SVM lineal\n",
    "classifier = svm.LinearSVC()\n",
    "classifier.fit(X, y)\n",
    "\n",
    "accuracy = classifier.score(X, y)\n",
    "print(\"Exactitud del modelo en el conjunto de datos de prueba:\", accuracy)"
   ]
  },
  {
   "cell_type": "markdown",
   "id": "db49b377-4d8f-4fd5-ab40-25a4eac1f25b",
   "metadata": {},
   "source": [
    "Aplicamos el modelo entrenado al conjunto de datos por predecir e identificamos las palabras más representativas para cada clase en las predicciones."
   ]
  },
  {
   "cell_type": "code",
   "execution_count": 6,
   "id": "04801d70-99e3-4c54-ac62-c33a6a709634",
   "metadata": {},
   "outputs": [
    {
     "name": "stdout",
     "output_type": "stream",
     "text": [
      "Cantidad de comentarios agresivos: 537\n",
      "Cantidad de comentarios no agresivos: 1659\n",
      "Top 50 comentarios agresivos: ['condon', 'agachon', 'amo', 'alerg', 'yoo', 'etc', 'sorrynotsorry', 'gdl', 'enamor', 'obes', 'mendig', 'deli', 'trafic', 'peaj', 'ajajajja', 'defect', 'sid', 'agu', 'tare', 'goey', 'telefon', 'delici', 'dijer', 'simplement', 'descomunal', 'vert', 'player', 'excus', 'mvs', 'jagu', 'jur', 'cucarach', 'papa', 'balcon', 'dram', 'aba', 'extrañ', 'matrimoni', 'coshar', 'amabil', 'uds', 'años', 'suen', 'durm', 'insomni', 'piel', 'ocurri', 'porqu', 'agradec', 'sillon']\n",
      "Top 50 comentarios no agresivos: ['hdp', 'letrerit', 'lamecul', 'escuchal', 'golf', 'mugros', 'werev', 'homosexual', 'machorr', 'priet', 'maricon', 'fern', 'jijiji', 'escond', 'migaj', 'conviv', 'indi', 'gatausuari', 'atras', 'hipocrit', 'pelotud', 'corre', 'chilen', 'culot', 'fabric', 'frig', 'vergaz', 'ecc', 'vivian', 'buatsap', 'bimb', 'abres', 'precis', 'vestiment', 'pioj', 'mamartel', 'convenz', 'mamador', 'seahawks', 'posicion', 'dañ', 'hondureñ', 'fodong', 'necesari', 'enven', 'gachupin', 'buzz', 'erari', 'requisit', 'putit']\n"
     ]
    }
   ],
   "source": [
    "# Preprocesamiento\n",
    "test_df['processed_text'] = test_df['text'].apply(preprocess)\n",
    "\n",
    "# Construir vectores de características\n",
    "X_predict = vectorizer.transform(test_df['processed_text'])\n",
    "\n",
    "# Predecir las clases de los textos\n",
    "y_predict = classifier.predict(X_predict)\n",
    "test_df['klass'] = y_predict\n",
    "\n",
    "num_aggressive = sum(y_predict == 1)\n",
    "num_non_aggressive = sum(y_predict == 0)\n",
    "\n",
    "# Obtener las palabras más representativas\n",
    "feature_names = vectorizer.get_feature_names_out()\n",
    "coefs = classifier.coef_\n",
    "top_aggressive = [feature_names[i] for i in coefs.argsort().tolist()[0][:50]]\n",
    "top_non_aggressive = [feature_names[i] for i in coefs.argsort().tolist()[0][-50:][::-1]]\n",
    "\n",
    "print(\"Cantidad de comentarios agresivos:\", num_aggressive)\n",
    "print(\"Cantidad de comentarios no agresivos:\", num_non_aggressive)\n",
    "print(\"Top 50 comentarios agresivos:\", top_aggressive)\n",
    "print(\"Top 50 comentarios no agresivos:\", top_non_aggressive)"
   ]
  },
  {
   "cell_type": "code",
   "execution_count": 7,
   "id": "69ba17f6-0415-4faf-a2fa-99fc25fc5d77",
   "metadata": {},
   "outputs": [
    {
     "data": {
      "image/png": "[encoded data removed]",
      "text/plain": [
       "<Figure size 640x480 with 1 Axes>"
      ]
     },
     "metadata": {},
     "output_type": "display_data"
    }
   ],
   "source": [
    "# Gráfica\n",
    "categories = ['Agresivos', 'No agresivos']\n",
    "counts = [num_aggressive, num_non_aggressive]\n",
    "colors = ['red', 'gray']\n",
    "\n",
    "plt.bar(categories, counts, color=colors)\n",
    "plt.xlabel('Categorías')\n",
    "plt.ylabel('Cantidad')\n",
    "plt.title('Distribución de comentarios agresivos y no agresivos')\n",
    "\n",
    "total = sum(counts)\n",
    "percentages = [count/total * 100 for count in counts]\n",
    "for i, count in enumerate(counts):\n",
    "    plt.text(i, count+1, f\"{percentages[i]:.1f}%\", ha='center')\n",
    "\n",
    "plt.bar(categories[0], counts[0], color='red')\n",
    "plt.show()"
   ]
  },
  {
   "cell_type": "markdown",
   "id": "456444bf-4be5-4233-ad1f-e5905d439aa5",
   "metadata": {},
   "source": [
    "## Conclusión \n",
    "\n",
    "El modelo utiliza un preprocesamiento de textos y construye vectores de características basados en unigramas. Luego, utiliza un clasificador SVM lineal para realizar las predicciones de clase.\n",
    "\n",
    "Al evaluar el modelo en un conjunto de datos de prueba, hemos obtenido una medida de exactitud que nos indica qué tan bien el modelo puede clasificar correctamente los comentarios.\n",
    "\n",
    "Si bien este trabajo presenta un enfoque inicial para abordar el problema de clasificación de agresividad en comentarios de Twitter en español, existen oportunidades para mejorar el modelo, como explorar otras técnicas de procesamiento de texto, ajustar los parámetros del clasificador y utilizar conjuntos de datos más grandes y diversos."
   ]
  },
  {
   "cell_type": "code",
   "execution_count": null,
   "id": "01d759e9-488d-46f0-bea9-55d5427928ea",
   "metadata": {},
   "outputs": [],
   "source": []
  }
 ],
 "metadata": {
  "kernelspec": {
   "display_name": "Python 3 (ipykernel)",
   "language": "python",
   "name": "python3"
  },
  "language_info": {
   "codemirror_mode": {
    "name": "ipython",
    "version": 3
   },
   "file_extension": ".py",
   "mimetype": "text/x-python",
   "name": "python",
   "nbconvert_exporter": "python",
   "pygments_lexer": "ipython3",
   "version": "3.9.13"
  }
 },
 "nbformat": 4,
 "nbformat_minor": 5
}
